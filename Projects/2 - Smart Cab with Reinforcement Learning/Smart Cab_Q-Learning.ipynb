{
 "cells": [
  {
   "cell_type": "markdown",
   "metadata": {
    "ExecuteTime": {
     "end_time": "2020-03-22T13:57:40.495081Z",
     "start_time": "2020-03-22T13:57:40.482794Z"
    }
   },
   "source": [
    "# --------------------------- Smart Cab (Self driving cab) ---------------------------\n",
    "\n",
    "**Problem Statement**: A self-driving cab company Smartcab wanted to design a simulation of a self-driving cab.\n",
    "\n",
    "**Goal**: Demonstrate the use of RL techniques to develop an efficient and safe approach for tackling the issue.\n",
    "\n",
    "**Project Description**:\n",
    "<br>\n",
    "The Smartcab's job is to pick up the passenger at one location and drop them off in another. Here is a list of things that they would love our Smartcab to take care of:\n",
    "- Drop off the passenger to the right location.\n",
    "- Save passenger's time by taking minimum time possible to drop off\n",
    "- Take care of passenger's safety and traffic rules\n",
    "\n",
    "There are different aspects that need to be considered here while modeling an RL solution to this problem: rewards, states, and actions.\n",
    "\n",
    "Company also wanted to allow users to book a cab by sending a free text SMS containing source, destination and time of travel. Since SMS is a free text, different users can send same message in different ways, e.g.,\n",
    "1. I want to book a cab from cyber city to sector 48 at 5 pm.\n",
    "2. Please book my cab with pick up from cyber city, destination sector 48, and time of pick up 5 pm.\n",
    "3. Book a cab for me from sector 48, my pick-up is from cyber city at 5 pm.\n",
    "\n",
    "So, the challenge for the company is to parse this free text and fetch three entities:\n",
    "- Pick up location\n",
    "- Destination\n",
    "- Time to pick up\n",
    "\n",
    "**Task to be solved:**\n",
    "\n",
    "Train:\n",
    "1. Train a model using Q learning algorithm on tax v2 environment.\n",
    "\n",
    "Evaluation:\n",
    "    1. Take text from \"sms.txt\" and fetch pickup and drop from it.\n",
    "    2. Generate the random state from an environment and change the pick-up and drop as the fetched one from sms.txt\n",
    "    3. Evaluate you model performance on all the texts given in sms.txt. We have generated text for four locations given in city.csv\n",
    "    4. Have a check if the fetched pickup, drop is not matching with original pickup, drop given in “orig_df.csv”\n",
    "    5. If fetched pickup or/and drop does not match with the original, add penalty and reward -10 \n",
    "    6. Calculate the Total reward, penalties, Wrong pickup/drop predicted and Average time steps per episode."
   ]
  },
  {
   "cell_type": "markdown",
   "metadata": {},
   "source": [
    "### IMPORTING MODULES"
   ]
  },
  {
   "cell_type": "code",
   "execution_count": 1,
   "metadata": {
    "ExecuteTime": {
     "end_time": "2020-03-22T14:07:03.548697Z",
     "start_time": "2020-03-22T14:07:02.206941Z"
    }
   },
   "outputs": [],
   "source": [
    "import random\n",
    "import gym\n",
    "import numpy as np\n",
    "import pandas as pd\n",
    "from IPython.display import clear_output"
   ]
  },
  {
   "cell_type": "markdown",
   "metadata": {},
   "source": [
    "### READING DATASETS"
   ]
  },
  {
   "cell_type": "code",
   "execution_count": 2,
   "metadata": {
    "ExecuteTime": {
     "end_time": "2020-03-22T14:07:03.569582Z",
     "start_time": "2020-03-22T14:07:03.552848Z"
    }
   },
   "outputs": [],
   "source": [
    "org_df = pd.read_csv('org_df.csv')\n",
    "sms_df = pd.read_csv('sms.txt', header=None)"
   ]
  },
  {
   "cell_type": "markdown",
   "metadata": {},
   "source": [
    "### CREATING NEW COLUMN AND MERGING THE ORG AND SMS DATASET"
   ]
  },
  {
   "cell_type": "code",
   "execution_count": 3,
   "metadata": {
    "ExecuteTime": {
     "end_time": "2020-03-22T14:07:03.581228Z",
     "start_time": "2020-03-22T14:07:03.574618Z"
    }
   },
   "outputs": [],
   "source": [
    "sms_df.columns = ['SMS']\n",
    "df = pd.concat([sms_df, org_df], axis=1)"
   ]
  },
  {
   "cell_type": "markdown",
   "metadata": {},
   "source": [
    "### MAPPING THE ORIGIN AND DESTINATION"
   ]
  },
  {
   "cell_type": "code",
   "execution_count": 4,
   "metadata": {
    "ExecuteTime": {
     "end_time": "2020-03-22T14:07:03.592468Z",
     "start_time": "2020-03-22T14:07:03.584003Z"
    }
   },
   "outputs": [],
   "source": [
    "df['origin'] = df['origin'].map(\n",
    "    {'airport': 3, 'hauz khaas': 2, 'dwarka sector 21': 1, 'dwarka sector 23': 0})\n",
    "\n",
    "df['dest'] = df['dest'].map(\n",
    "    {'airport': 3, 'hauz khaas': 2, 'dwarka sector 21': 1, 'dwarka sector 23': 0})"
   ]
  },
  {
   "cell_type": "code",
   "execution_count": 5,
   "metadata": {
    "ExecuteTime": {
     "end_time": "2020-03-22T14:07:03.621494Z",
     "start_time": "2020-03-22T14:07:03.595640Z"
    }
   },
   "outputs": [
    {
     "data": {
      "text/html": [
       "<div>\n",
       "<style scoped>\n",
       "    .dataframe tbody tr th:only-of-type {\n",
       "        vertical-align: middle;\n",
       "    }\n",
       "\n",
       "    .dataframe tbody tr th {\n",
       "        vertical-align: top;\n",
       "    }\n",
       "\n",
       "    .dataframe thead th {\n",
       "        text-align: right;\n",
       "    }\n",
       "</style>\n",
       "<table border=\"1\" class=\"dataframe\">\n",
       "  <thead>\n",
       "    <tr style=\"text-align: right;\">\n",
       "      <th></th>\n",
       "      <th>SMS</th>\n",
       "      <th>origin</th>\n",
       "      <th>dest</th>\n",
       "      <th>time</th>\n",
       "    </tr>\n",
       "  </thead>\n",
       "  <tbody>\n",
       "    <tr>\n",
       "      <th>0</th>\n",
       "      <td>Please book a cab from airport to hauz khaas a...</td>\n",
       "      <td>3</td>\n",
       "      <td>2</td>\n",
       "      <td>3 PM</td>\n",
       "    </tr>\n",
       "    <tr>\n",
       "      <th>1</th>\n",
       "      <td>airport to hauz khaas at 6 PM</td>\n",
       "      <td>3</td>\n",
       "      <td>2</td>\n",
       "      <td>6 PM</td>\n",
       "    </tr>\n",
       "    <tr>\n",
       "      <th>2</th>\n",
       "      <td>Kindly book a cab for me at 1 PM from hauz kha...</td>\n",
       "      <td>2</td>\n",
       "      <td>0</td>\n",
       "      <td>1 PM</td>\n",
       "    </tr>\n",
       "    <tr>\n",
       "      <th>3</th>\n",
       "      <td>airport to hauz khaas at 1 AM</td>\n",
       "      <td>3</td>\n",
       "      <td>2</td>\n",
       "      <td>1 AM</td>\n",
       "    </tr>\n",
       "    <tr>\n",
       "      <th>4</th>\n",
       "      <td>I want to go to dwarka sector 21 from airport ...</td>\n",
       "      <td>3</td>\n",
       "      <td>1</td>\n",
       "      <td>10 PM</td>\n",
       "    </tr>\n",
       "  </tbody>\n",
       "</table>\n",
       "</div>"
      ],
      "text/plain": [
       "                                                 SMS  origin  dest   time\n",
       "0  Please book a cab from airport to hauz khaas a...       3     2   3 PM\n",
       "1                      airport to hauz khaas at 6 PM       3     2   6 PM\n",
       "2  Kindly book a cab for me at 1 PM from hauz kha...       2     0   1 PM\n",
       "3                      airport to hauz khaas at 1 AM       3     2   1 AM\n",
       "4  I want to go to dwarka sector 21 from airport ...       3     1  10 PM"
      ]
     },
     "execution_count": 5,
     "metadata": {},
     "output_type": "execute_result"
    }
   ],
   "source": [
    "df.head()"
   ]
  },
  {
   "cell_type": "markdown",
   "metadata": {},
   "source": [
    "## ------------------------------ REINFORCEMENT LEARNING ------------------------------"
   ]
  },
  {
   "cell_type": "markdown",
   "metadata": {},
   "source": [
    "### RENDERING THE ENVIRONMENT USING TAXI v3 FROM GYM PACKAGE"
   ]
  },
  {
   "cell_type": "code",
   "execution_count": 6,
   "metadata": {
    "ExecuteTime": {
     "end_time": "2020-03-22T14:07:04.317653Z",
     "start_time": "2020-03-22T14:07:03.624967Z"
    }
   },
   "outputs": [
    {
     "name": "stdout",
     "output_type": "stream",
     "text": [
      "+---------+\n",
      "|R: | : :\u001b[35mG\u001b[0m|\n",
      "| : | : : |\n",
      "| : : : : |\n",
      "| | : | :\u001b[43m \u001b[0m|\n",
      "|\u001b[34;1mY\u001b[0m| : |B: |\n",
      "+---------+\n",
      "\n"
     ]
    }
   ],
   "source": [
    "env = gym.make(\"Taxi-v3\").env\n",
    "env.render()"
   ]
  },
  {
   "cell_type": "markdown",
   "metadata": {},
   "source": [
    "#### Note\n",
    "- The filled square represents the cab, which is yellow without a passenger and green with a passenger.\n",
    "- The pipe (\"|\") represents a wall which the cab cannot cross.\n",
    "- R, G, Y, B are the possible pickup and destination locations. \n",
    "- The blue letter represents the current passenger pick-up location\n",
    "- The purple letter is the current destination."
   ]
  },
  {
   "cell_type": "markdown",
   "metadata": {
    "ExecuteTime": {
     "end_time": "2020-03-22T12:21:21.075433Z",
     "start_time": "2020-03-22T12:21:21.070065Z"
    }
   },
   "source": [
    "### RESETTING ENVIRONMENT TO NEW RANDOM STATE"
   ]
  },
  {
   "cell_type": "code",
   "execution_count": 7,
   "metadata": {
    "ExecuteTime": {
     "end_time": "2020-03-22T14:07:04.327356Z",
     "start_time": "2020-03-22T14:07:04.322591Z"
    }
   },
   "outputs": [
    {
     "name": "stdout",
     "output_type": "stream",
     "text": [
      "+---------+\n",
      "|\u001b[34;1mR\u001b[0m:\u001b[43m \u001b[0m| : :G|\n",
      "| : | : : |\n",
      "| : : : : |\n",
      "| | : | : |\n",
      "|Y| : |\u001b[35mB\u001b[0m: |\n",
      "+---------+\n",
      "\n"
     ]
    }
   ],
   "source": [
    "env.reset()\n",
    "env.render()"
   ]
  },
  {
   "cell_type": "code",
   "execution_count": 8,
   "metadata": {
    "ExecuteTime": {
     "end_time": "2020-03-22T14:07:04.337949Z",
     "start_time": "2020-03-22T14:07:04.333070Z"
    }
   },
   "outputs": [
    {
     "name": "stdout",
     "output_type": "stream",
     "text": [
      "Action Space Discrete(6)\n",
      "State Space Discrete(500)\n"
     ]
    }
   ],
   "source": [
    "print(\"Action Space {}\".format(env.action_space))\n",
    "print(\"State Space {}\".format(env.observation_space))"
   ]
  },
  {
   "cell_type": "markdown",
   "metadata": {},
   "source": [
    "**Note** - We have an Action Space of size 6 and a State Space of size 500"
   ]
  },
  {
   "cell_type": "markdown",
   "metadata": {},
   "source": [
    "#### We have the cab at row 3, column 1, our passenger is at location 2, and our destination is location 0"
   ]
  },
  {
   "cell_type": "code",
   "execution_count": 9,
   "metadata": {
    "ExecuteTime": {
     "end_time": "2020-03-22T14:07:04.346771Z",
     "start_time": "2020-03-22T14:07:04.341388Z"
    }
   },
   "outputs": [
    {
     "name": "stdout",
     "output_type": "stream",
     "text": [
      "State: 328\n",
      "+---------+\n",
      "|\u001b[35mR\u001b[0m: | : :G|\n",
      "| : | : : |\n",
      "| : : : : |\n",
      "| |\u001b[43m \u001b[0m: | : |\n",
      "|\u001b[34;1mY\u001b[0m| : |B: |\n",
      "+---------+\n",
      "\n"
     ]
    }
   ],
   "source": [
    "# (taxi row, taxi column, passenger index, destination index)\n",
    "state = env.encode(3, 1, 2, 0)\n",
    "print(\"State:\", state)\n",
    "\n",
    "env.s = state\n",
    "env.render()"
   ]
  },
  {
   "cell_type": "markdown",
   "metadata": {},
   "source": [
    "### THE REWARD TABLE\n",
    "When the Taxi environment is created, there is an initial Reward table that's also created, called `P`."
   ]
  },
  {
   "cell_type": "code",
   "execution_count": 10,
   "metadata": {
    "ExecuteTime": {
     "end_time": "2020-03-22T14:07:04.358368Z",
     "start_time": "2020-03-22T14:07:04.351997Z"
    }
   },
   "outputs": [
    {
     "data": {
      "text/plain": [
       "{0: [(1.0, 428, -1, False)],\n",
       " 1: [(1.0, 228, -1, False)],\n",
       " 2: [(1.0, 348, -1, False)],\n",
       " 3: [(1.0, 328, -1, False)],\n",
       " 4: [(1.0, 328, -10, False)],\n",
       " 5: [(1.0, 328, -10, False)]}"
      ]
     },
     "execution_count": 10,
     "metadata": {},
     "output_type": "execute_result"
    }
   ],
   "source": [
    "env.P[328]"
   ]
  },
  {
   "cell_type": "markdown",
   "metadata": {},
   "source": [
    "**Note** - This dictionary has the structure {action: [(probability, nextstate, reward, done)]}.\n",
    "1. The 0-5 corresponds to the actions (south, north, east, west, pickup, dropoff) the taxi can perform at our current state in the illustration.\n",
    "2. In this env, `probability` is always 1.0.\n",
    "3. The `nextstate` is the state we would be in if we take the action at this index of the dict\n",
    "4. All the movement actions have a -1 reward and the pickup/dropoff actions have -10 reward in this particular state. If we are in a state where the taxi has a passenger and is on top of the right destination, we would see a reward of 20 at the dropoff action (5)\n",
    "5. `done` is used to tell us when we have successfully dropped off a passenger in the right location. Each successfull dropoff is the end of an episode\n",
    "\n",
    "**If our agent chose to explore action two (2) in this state it would be going East into a wall. Its impossible to actually move the cab across a wall, so if the cab chooses that action, it will just keep accruing -1 penalties, which affects the long-term reward.**"
   ]
  },
  {
   "cell_type": "markdown",
   "metadata": {
    "ExecuteTime": {
     "end_time": "2020-03-22T12:24:52.091028Z",
     "start_time": "2020-03-22T12:24:52.087223Z"
    }
   },
   "source": [
    "### Q TABLE"
   ]
  },
  {
   "cell_type": "code",
   "execution_count": 11,
   "metadata": {
    "ExecuteTime": {
     "end_time": "2020-03-22T14:07:04.367224Z",
     "start_time": "2020-03-22T14:07:04.361573Z"
    }
   },
   "outputs": [],
   "source": [
    "q_table = np.zeros([env.observation_space.n, env.action_space.n])"
   ]
  },
  {
   "cell_type": "markdown",
   "metadata": {
    "ExecuteTime": {
     "end_time": "2020-03-22T12:32:32.519044Z",
     "start_time": "2020-03-22T12:30:53.521277Z"
    }
   },
   "source": [
    "### TRAINING THE AGENT"
   ]
  },
  {
   "cell_type": "markdown",
   "metadata": {
    "ExecuteTime": {
     "end_time": "2020-03-22T12:32:32.519044Z",
     "start_time": "2020-03-22T12:30:53.521277Z"
    }
   },
   "source": [
    "#### Hyperparameters"
   ]
  },
  {
   "cell_type": "code",
   "execution_count": 12,
   "metadata": {
    "ExecuteTime": {
     "end_time": "2020-03-22T14:07:04.375236Z",
     "start_time": "2020-03-22T14:07:04.370655Z"
    }
   },
   "outputs": [],
   "source": [
    "# Learning Rate\n",
    "alpha = 0.1\n",
    "\n",
    "# Discount Factor\n",
    "gamma = 0.6\n",
    "\n",
    "# Trade-off Between Exploration and Exploitation\n",
    "epsilon = 0.1"
   ]
  },
  {
   "cell_type": "markdown",
   "metadata": {
    "ExecuteTime": {
     "end_time": "2020-03-22T12:32:32.519044Z",
     "start_time": "2020-03-22T12:30:53.521277Z"
    }
   },
   "source": [
    "#### For Plotting Metrics"
   ]
  },
  {
   "cell_type": "code",
   "execution_count": 13,
   "metadata": {
    "ExecuteTime": {
     "end_time": "2020-03-22T14:07:04.383377Z",
     "start_time": "2020-03-22T14:07:04.379134Z"
    }
   },
   "outputs": [],
   "source": [
    "all_epochs = []\n",
    "all_penalties = []"
   ]
  },
  {
   "cell_type": "code",
   "execution_count": 14,
   "metadata": {
    "ExecuteTime": {
     "end_time": "2020-03-22T14:08:43.327138Z",
     "start_time": "2020-03-22T14:07:04.387596Z"
    }
   },
   "outputs": [
    {
     "name": "stdout",
     "output_type": "stream",
     "text": [
      "Episode: 100000\n",
      "Training Finished.\n",
      "\n"
     ]
    }
   ],
   "source": [
    "# We will see 1000 episodes\n",
    "for i in range(1, 100001):\n",
    "    state = env.reset()\n",
    "\n",
    "    epochs, penalties, reward, = 0, 0, 0\n",
    "    done = False\n",
    "\n",
    "    while not done:\n",
    "        if random.uniform(0, 1) < epsilon:\n",
    "            # Explore action space\n",
    "            action = env.action_space.sample()\n",
    "        else:\n",
    "            # Exploit learned values\n",
    "            action = np.argmax(q_table[state])\n",
    "\n",
    "        next_state, reward, done, info = env.step(action)\n",
    "\n",
    "        old_value = q_table[state, action]\n",
    "        next_max = np.max(q_table[next_state])\n",
    "\n",
    "        new_value = (1 - alpha) * old_value + alpha * \\\n",
    "            (reward + gamma * next_max)\n",
    "        \n",
    "        q_table[state, action] = new_value\n",
    "\n",
    "        if reward == -10:\n",
    "            penalties += 1\n",
    "\n",
    "        state = next_state\n",
    "        epochs += 1\n",
    "\n",
    "    if i % 100 == 0:\n",
    "        clear_output(wait=True)\n",
    "        print(f\"Episode: {i}\")\n",
    "\n",
    "print(\"Training Finished.\\n\")"
   ]
  },
  {
   "cell_type": "markdown",
   "metadata": {},
   "source": [
    "#### Q-values at our State"
   ]
  },
  {
   "cell_type": "code",
   "execution_count": 15,
   "metadata": {
    "ExecuteTime": {
     "end_time": "2020-03-22T14:08:43.381406Z",
     "start_time": "2020-03-22T14:08:43.361218Z"
    }
   },
   "outputs": [
    {
     "data": {
      "text/plain": [
       "array([ -2.40413359,  -2.27325184,  -2.40658982,  -2.35992994,\n",
       "       -10.81291785, -10.8658985 ])"
      ]
     },
     "execution_count": 15,
     "metadata": {},
     "output_type": "execute_result"
    }
   ],
   "source": [
    "q_table[328]"
   ]
  },
  {
   "cell_type": "code",
   "execution_count": 16,
   "metadata": {
    "ExecuteTime": {
     "end_time": "2020-03-22T14:08:43.397017Z",
     "start_time": "2020-03-22T14:08:43.388777Z"
    }
   },
   "outputs": [],
   "source": [
    "def create_loc_dict(city_df):\n",
    "    loc_dict = {}\n",
    "    loc_dict['dwarka sector 23'] = 0\n",
    "    loc_dict['dwarka sector 21'] = 1\n",
    "    loc_dict['hauz khaas'] = 2\n",
    "    loc_dict['airport'] = 3\n",
    "    return loc_dict"
   ]
  },
  {
   "cell_type": "markdown",
   "metadata": {
    "ExecuteTime": {
     "end_time": "2020-03-22T12:44:00.003534Z",
     "start_time": "2020-03-22T12:43:59.612998Z"
    }
   },
   "source": [
    "#### Evaluate Agent's performance after Q-learning"
   ]
  },
  {
   "cell_type": "code",
   "execution_count": 17,
   "metadata": {
    "ExecuteTime": {
     "end_time": "2020-03-22T14:08:43.825673Z",
     "start_time": "2020-03-22T14:08:43.401538Z"
    }
   },
   "outputs": [
    {
     "name": "stdout",
     "output_type": "stream",
     "text": [
      "Results after 1000 episodes:\n",
      "Average timesteps per episode: 13.007\n",
      "Average penalties per episode: 0.0\n",
      "Total Rewards: 20000\n"
     ]
    }
   ],
   "source": [
    "total_epochs, total_penalties = 0, 0\n",
    "total_rewards = 0\n",
    "episodes = 100\n",
    "\n",
    "f = open('sms.txt', 'r')\n",
    "num_of_lines = df.shape[0]\n",
    "episodes = num_of_lines\n",
    "city = pd.read_csv('city.csv')\n",
    "loc_dict = create_loc_dict(city)\n",
    "line_num = 0\n",
    "\n",
    "\n",
    "for line in f:\n",
    "    state = env.reset()\n",
    "    epochs, penalties, reward = 0, 0, 0\n",
    "    \n",
    "    done = False\n",
    "    \n",
    "    while not done:\n",
    "        action = np.argmax(q_table[state])\n",
    "        state, reward, done, info = env.step(action)\n",
    "\n",
    "        if reward == -10:\n",
    "            penalties += 1\n",
    "\n",
    "        epochs += 1\n",
    "\n",
    "    total_rewards += reward\n",
    "    total_penalties += penalties\n",
    "    total_epochs += epochs\n",
    "\n",
    "print(f\"Results after {episodes} episodes:\")\n",
    "print(f\"Average timesteps per episode: {total_epochs / episodes}\")\n",
    "print(f\"Average penalties per episode: {total_penalties / episodes}\")\n",
    "print(f\"Total Rewards: {total_rewards}\")"
   ]
  },
  {
   "cell_type": "markdown",
   "metadata": {},
   "source": [
    "### RENDERING THE ENVIRONMENT FOR THE DROPOFF"
   ]
  },
  {
   "cell_type": "code",
   "execution_count": 18,
   "metadata": {
    "ExecuteTime": {
     "end_time": "2020-03-22T14:08:43.832681Z",
     "start_time": "2020-03-22T14:08:43.828603Z"
    },
    "scrolled": true
   },
   "outputs": [
    {
     "name": "stdout",
     "output_type": "stream",
     "text": [
      "+---------+\n",
      "|R: | : :G|\n",
      "| : | : : |\n",
      "| : : : : |\n",
      "| | : | : |\n",
      "|\u001b[35m\u001b[34;1m\u001b[43mY\u001b[0m\u001b[0m\u001b[0m| : |B: |\n",
      "+---------+\n",
      "  (Dropoff)\n"
     ]
    }
   ],
   "source": [
    "env.render()"
   ]
  }
 ],
 "metadata": {
  "kernelspec": {
   "display_name": "Python 3",
   "language": "python",
   "name": "python3"
  },
  "language_info": {
   "codemirror_mode": {
    "name": "ipython",
    "version": 3
   },
   "file_extension": ".py",
   "mimetype": "text/x-python",
   "name": "python",
   "nbconvert_exporter": "python",
   "pygments_lexer": "ipython3",
   "version": "3.7.7"
  },
  "varInspector": {
   "cols": {
    "lenName": 16,
    "lenType": 16,
    "lenVar": 40
   },
   "kernels_config": {
    "python": {
     "delete_cmd_postfix": "",
     "delete_cmd_prefix": "del ",
     "library": "var_list.py",
     "varRefreshCmd": "print(var_dic_list())"
    },
    "r": {
     "delete_cmd_postfix": ") ",
     "delete_cmd_prefix": "rm(",
     "library": "var_list.r",
     "varRefreshCmd": "cat(var_dic_list()) "
    }
   },
   "types_to_exclude": [
    "module",
    "function",
    "builtin_function_or_method",
    "instance",
    "_Feature"
   ],
   "window_display": false
  }
 },
 "nbformat": 4,
 "nbformat_minor": 2
}
