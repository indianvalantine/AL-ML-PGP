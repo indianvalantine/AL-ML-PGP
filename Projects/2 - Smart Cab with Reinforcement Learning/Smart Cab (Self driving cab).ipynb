{
 "cells": [
  {
   "cell_type": "markdown",
   "metadata": {},
   "source": [
    "# Smart Cab (Self driving cab)\n",
    "\n",
    "**Problem Statement**: A self-driving cab company Smartcab wanted to design a simulation of a self-driving cab.\n",
    "\n",
    "**Goal**: Demonstrate the use of RL techniques to develop an efficient and safe approach for tackling the issue.\n",
    "\n",
    "**Project Description**:\n",
    "<br>\n",
    "The Smartcab's job is to pick up the passenger at one location and drop them off in another. Here is a list of things that they would love our Smartcab to take care of:\n",
    "- Drop off the passenger to the right location.\n",
    "- Save passenger's time by taking minimum time possible to drop off\n",
    "- Take care of passenger's safety and traffic rules\n",
    "\n",
    "There are different aspects that need to be considered here while modeling an RL solution to this problem: rewards, states, and actions.\n",
    "\n",
    "Company also wanted to allow users to book a cab by sending a free text SMS containing source, destination and time of travel. Since SMS is a free text, different users can send same message in different ways, e.g.,\n",
    "1. I want to book a cab from cyber city to sector 48 at 5 pm.\n",
    "2. Please book my cab with pick up from cyber city, destination sector 48, and time of pick up 5 pm.\n",
    "3. Book a cab for me from sector 48, my pick-up is from cyber city at 5 pm.\n",
    "\n",
    "So, the challenge for the company is to parse this free text and fetch three entities:\n",
    "- Pick up location\n",
    "- Destination\n",
    "- Time to pick up"
   ]
  },
  {
   "cell_type": "markdown",
   "metadata": {},
   "source": [
    "**Process Flow/Overall solution:**\n",
    "<br>\n",
    "Solve Open AI Gym environment “Taxi v2” using Q learning algorithm to learn a task of pickup, drop passengers and then evaluate the learned environment on the given data:\n",
    "\n",
    "sms.txt: This file contains 1000 text messages containing information of pickup location, drop location, and time of pickup\n",
    "\n",
    "**Task to be solved:**\n",
    "\n",
    "Train:\n",
    "1. Train a model using Q learning algorithm on tax v2 environment.\n",
    "\n",
    "Evaluation:\n",
    "    1. Take text from \"sms.txt\" and fetch pickup and drop from it.\n",
    "    2. Generate the random state from an environment and change the pick-up and drop as the fetched one from sms.txt\n",
    "    3. Evaluate you model performance on all the texts given in sms.txt. We have generated text for four locations given in city.csv\n",
    "    4. Have a check if the fetched pickup, drop is not matching with original pickup, drop given in “orig_df.csv”\n",
    "    5. If fetched pickup or/and drop does not match with the original, add penalty and reward -10 \n",
    "    6. Calculate the Total reward, penalties, Wrong pickup/drop predicted and Average time steps per episode."
   ]
  },
  {
   "cell_type": "markdown",
   "metadata": {},
   "source": [
    "**Dataset Description**\n",
    "1. **sms.txt**: Contains 1000 texts in natural language containing pickup, drop, and time information\n",
    "\n",
    "Example:\n",
    "    1. Please book a cab from airport to hauz khaas at 3 PM\n",
    "    2. airport to hauz khaas at 6 PM\n",
    "    3. Kindly book a cab for me at 1 PM from hauz khaas to dwarka sector 23\n",
    "    4. airport to hauz khaas at 1 AM\n",
    "    5. I want to go to dwarka sector 21 from airport leaving at 10 PM\n",
    "    6. airport to dwarka sector 21 at 12 PM\n",
    "    \n",
    "2. **city.csv**: Contains 4 locations and mappings\n",
    "\n",
    "|location        |mapping|\n",
    "|----------------|-------|\n",
    "|dwarka sector 23|0      |\n",
    "|                |       |\n",
    "|dwarka sector 21|1      |\n",
    "|                |       |\n",
    "|hauz khaas      |2      |\n",
    "|                |       |\n",
    "|airport         |3      |\n",
    "\n",
    "3. **orig_df.csv**: Contains correct pickup, drop fetched from sms.txt\n",
    "\n",
    "|origin    |dest             |time |\n",
    "|----------|-----------------|-----|\n",
    "|airport   |hauz khaas       |3 PM |\n",
    "|          |                 |     |\n",
    "|airport   |hauz khaas       |6 PM |\n",
    "|          |                 |     |\n",
    "|hauz khaas|dwarka sector 23 |1 PM |\n",
    "|          |                 |     |\n",
    "|airport   |hauz khaas       |1 AM |\n",
    "|          |                 |     |\n",
    "|airport   |dwarka sector 21 |10 PM|"
   ]
  }
 ],
 "metadata": {
  "kernelspec": {
   "display_name": "Python 3",
   "language": "python",
   "name": "python3"
  },
  "language_info": {
   "codemirror_mode": {
    "name": "ipython",
    "version": 3
   },
   "file_extension": ".py",
   "mimetype": "text/x-python",
   "name": "python",
   "nbconvert_exporter": "python",
   "pygments_lexer": "ipython3",
   "version": "3.7.7"
  },
  "varInspector": {
   "cols": {
    "lenName": 16,
    "lenType": 16,
    "lenVar": 40
   },
   "kernels_config": {
    "python": {
     "delete_cmd_postfix": "",
     "delete_cmd_prefix": "del ",
     "library": "var_list.py",
     "varRefreshCmd": "print(var_dic_list())"
    },
    "r": {
     "delete_cmd_postfix": ") ",
     "delete_cmd_prefix": "rm(",
     "library": "var_list.r",
     "varRefreshCmd": "cat(var_dic_list()) "
    }
   },
   "types_to_exclude": [
    "module",
    "function",
    "builtin_function_or_method",
    "instance",
    "_Feature"
   ],
   "window_display": false
  }
 },
 "nbformat": 4,
 "nbformat_minor": 4
}
