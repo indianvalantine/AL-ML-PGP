{
 "cells": [
  {
   "cell_type": "code",
   "execution_count": 2,
   "metadata": {},
   "outputs": [
    {
     "name": "stdout",
     "output_type": "stream",
     "text": [
      "Largest element is: 7\n"
     ]
    }
   ],
   "source": [
    "#Write a program that takes a list of integers and returns the largest integer\n",
    "#from that list.\n",
    "  \n",
    "# list of numbers \n",
    "listnum = [5,4,7,1,0,6] \n",
    "  \n",
    "# sorting the list \n",
    "listnum.sort() \n",
    "  \n",
    "# printing the last element \n",
    "print(\"Largest element is:\", listnum[-1])"
   ]
  },
  {
   "cell_type": "code",
   "execution_count": 3,
   "metadata": {},
   "outputs": [
    {
     "name": "stdout",
     "output_type": "stream",
     "text": [
      "Largest element is: 7\n"
     ]
    }
   ],
   "source": [
    "listnum = [5,4,7,1,0,6]\n",
    "print(\"Largest element is:\", max(listnum))"
   ]
  },
  {
   "cell_type": "code",
   "execution_count": 5,
   "metadata": {},
   "outputs": [
    {
     "name": "stdout",
     "output_type": "stream",
     "text": [
      "The converted string is: hELLO hOW aRE yOU\n",
      "The converted string back to original is: Hello How Are You\n"
     ]
    }
   ],
   "source": [
    "#Write a program that accepts an input string from the standard input.\n",
    "#All you need to do is to convert the lower case letters to upper case letters and vice-versa.\n",
    "\n",
    "string = \"Hello How Are You\"\n",
    "print(\"The converted string is:\", string.swapcase())\n",
    "\n",
    "string = \"hELLO hOW aRE yOU\"\n",
    "print(\"The converted string back to original is:\", string.swapcase())"
   ]
  },
  {
   "cell_type": "code",
   "execution_count": 16,
   "metadata": {},
   "outputs": [
    {
     "ename": "SyntaxError",
     "evalue": "invalid syntax (<ipython-input-16-8e8da2e1c83e>, line 9)",
     "output_type": "error",
     "traceback": [
      "\u001b[0;36m  File \u001b[0;32m\"<ipython-input-16-8e8da2e1c83e>\"\u001b[0;36m, line \u001b[0;32m9\u001b[0m\n\u001b[0;31m    function __init__(variable a, variable b, variable c):\u001b[0m\n\u001b[0m                    ^\u001b[0m\n\u001b[0;31mSyntaxError\u001b[0m\u001b[0;31m:\u001b[0m invalid syntax\n"
     ]
    }
   ],
   "source": [
    "#Implement the concept of method overloading in the problem of power calculation. \n",
    "#The function Power takes at most three arguments a, b, c. \n",
    "#If none of a,b,c is given, it returns 0\n",
    "#If only a is given, it returns a\n",
    "#If both a and b are given, it returns a^b (i.e. power(a,b))\n",
    "#If all a,b,c are given, it returns a^(b^c) (i.e. power(a,power(b,c)))\n",
    "\n",
    "class Power:\n",
    "\tfunction __init__(variable a, variable b, variable c):\n",
    "\t\t//init is the __init__(self,variables) function defined in python. \n",
    "\t\tmember variable a= a\n",
    "\t\tmember variable b= b\n",
    "\t\tmember variable c= c \n",
    "\tfunction find_power():\n",
    "\t\tif none of a,b,c is given:\n",
    "\t\t\treturn 0\n",
    "\t\telse if only a is given:\n",
    "\t\t\treturn a\n",
    "\t\telse if a and b both are given:\n",
    "\t\t\treturn a^b (i.e. power(a,b))\n",
    "\t\telse if all a,b,c are given:\n",
    "\t\t\treturn a^(b^c) (i.e. power(a,power(b,c)))\n",
    "\t\t//no need to handle remaining cases "
   ]
  },
  {
   "cell_type": "code",
   "execution_count": 101,
   "metadata": {},
   "outputs": [
    {
     "ename": "SyntaxError",
     "evalue": "invalid syntax (<ipython-input-101-9a4214d39191>, line 10)",
     "output_type": "error",
     "traceback": [
      "\u001b[0;36m  File \u001b[0;32m\"<ipython-input-101-9a4214d39191>\"\u001b[0;36m, line \u001b[0;32m10\u001b[0m\n\u001b[0;31m    elif only a is given:\u001b[0m\n\u001b[0m              ^\u001b[0m\n\u001b[0;31mSyntaxError\u001b[0m\u001b[0;31m:\u001b[0m invalid syntax\n"
     ]
    }
   ],
   "source": [
    "class Power:\n",
    "\tdef __init__(self, a, b, c):\n",
    "\t\t#//init is the __init__(self,variables) function defined in python. \n",
    "\t\tself.a = a\n",
    "\t\tself.b = b\n",
    "\t\tself.c = c \n",
    "\tdef findpower(a, b, c) :\n",
    "\t\tif a == b == c == 0 :\n",
    "\t\t\treturn 0\n",
    "\t\telif only a is given:\n",
    "\t\t\treturn a\n",
    "\t\telif a and b both are given:\n",
    "\t\t\treturn a^b #(i.e. power(a,b))\n",
    "\t\telif all a,b,c are given:\n",
    "\t\t\treturn a^(b^c) #(i.e. power(a,power(b,c)))\n",
    "\t\t#//no need to handle remaining cases "
   ]
  },
  {
   "cell_type": "code",
   "execution_count": 27,
   "metadata": {},
   "outputs": [
    {
     "name": "stdout",
     "output_type": "stream",
     "text": [
      "Second tallest guy is: 142\n"
     ]
    }
   ],
   "source": [
    "#Second Tallest Guy\n",
    " \n",
    "height = [142, 321, 78, 32, 112, 98] \n",
    "  \n",
    "# sorting the list \n",
    "height.sort() \n",
    "  \n",
    "# printing the second last element \n",
    "print(\"Second tallest guy is:\", height[-2])"
   ]
  },
  {
   "cell_type": "code",
   "execution_count": 47,
   "metadata": {},
   "outputs": [
    {
     "name": "stdout",
     "output_type": "stream",
     "text": [
      "The words longer than length 4 are \n",
      " ['which', 'longer']\n"
     ]
    }
   ],
   "source": [
    "#Write a program that takes a list of words and an integer N \n",
    "#and print the words whose length is more than N in seprate line.\n",
    "\n",
    "def words(n, str):  \n",
    "    wordlength = []  \n",
    "    txt = str.split(\" \")  \n",
    "    for x in txt:  \n",
    "        if len(x) > 4:  \n",
    "            wordlength.append(x)  \n",
    "    return wordlength   \n",
    "print(\"The words longer than length 4 are \", '\\n', words (4, \"which is longer than\"))"
   ]
  },
  {
   "cell_type": "code",
   "execution_count": 100,
   "metadata": {},
   "outputs": [
    {
     "name": "stdout",
     "output_type": "stream",
     "text": [
      "The result of add_list is: [4, 3, 2, 3, 5, 6]\n"
     ]
    }
   ],
   "source": [
    "#add_list takes two lists as arguments and return a list with elements from both the list\n",
    "def add_list(list_a, list_b): \n",
    "    return (list_a + list_b) \n",
    "     \n",
    "list_a = [4,3,2] \n",
    "list_b = [3,5,6] \n",
    "print(\"The result of add_list is:\", add_list(list_a, list_b))"
   ]
  },
  {
   "cell_type": "code",
   "execution_count": 99,
   "metadata": {},
   "outputs": [
    {
     "name": "stdout",
     "output_type": "stream",
     "text": [
      "The result of sub_list is: [4, 2]\n"
     ]
    }
   ],
   "source": [
    "#sub_list takes two lists as arguments and return a list with elements that are in first list but not in second list.\n",
    "def sub_list(list_a, list_b):\n",
    "    return [i for i in list_a if i not in list_b]\n",
    "\n",
    "list_a = [4,3,2] \n",
    "list_b = [3,5,6] \n",
    "print(\"The result of sub_list is:\", sub_list(list_a, list_b))"
   ]
  },
  {
   "cell_type": "code",
   "execution_count": 62,
   "metadata": {},
   "outputs": [
    {
     "name": "stdout",
     "output_type": "stream",
     "text": [
      "The result of max_list is: 4\n"
     ]
    }
   ],
   "source": [
    "#max_list take a list as an argument and return the maximum element from the list\n",
    "def max_list(list_a):\n",
    "    max = list_a[ 0 ]\n",
    "    for x in list_a:\n",
    "        if x > max:\n",
    "            max = x\n",
    "    return max\n",
    "print(\"The result of max_list is:\", max_list([4,3,2]))"
   ]
  },
  {
   "cell_type": "code",
   "execution_count": 66,
   "metadata": {},
   "outputs": [
    {
     "name": "stdout",
     "output_type": "stream",
     "text": [
      "The result of sort_list is: [2, 3, 4]\n"
     ]
    }
   ],
   "source": [
    "#sort_list take a list as an argument and return sorted list in ascending order\n",
    "def sort_list(list_a):\n",
    "    list_a = [4,3,2] \n",
    "    list_a.sort()\n",
    "print(\"The result of sort_list is:\", list_a)\n"
   ]
  },
  {
   "cell_type": "code",
   "execution_count": 87,
   "metadata": {},
   "outputs": [
    {
     "name": "stdout",
     "output_type": "stream",
     "text": [
      "Sum of all elements in given list:  10\n",
      "Multiplication result of all elements in given list:  [24]\n"
     ]
    }
   ],
   "source": [
    "# Python program to find sum of elements in list \n",
    "import numpy as np  \n",
    "\n",
    "a = np.array([1])\n",
    "b = np.array([2])\n",
    "c = np.array([3])\n",
    "d = np.array([4])\n",
    "\n",
    "# using sum() function \n",
    "total = sum(a+b+c+d)\n",
    "\n",
    "#using multiply() function\n",
    "mul1 = np.multiply(a,b)\n",
    "mul2 = np.multiply(c,d)\n",
    "mul = (np.multiply(mul1,mul2))\n",
    "\n",
    "\n",
    " \n",
    "print(\"Sum of all elements in given list: \", total)\n",
    "print(\"Multiplication result of all elements in given list: \", mul)"
   ]
  },
  {
   "cell_type": "code",
   "execution_count": 93,
   "metadata": {},
   "outputs": [
    {
     "name": "stdout",
     "output_type": "stream",
     "text": [
      "Dan Brown has occured 2 times\n"
     ]
    }
   ],
   "source": [
    "#create a function named count which accepts a list as an argument containing \n",
    "#the names of the authors and returns the total count of 'Dan Brown' in it\n",
    "\n",
    "def count(lst, x): \n",
    "    return lst.count(x) \n",
    "  \n",
    "# Driver Code \n",
    "lst = [1, 4, 'William Shakespeare', 'Dan Brown', 'Chetan bhagat', 'Dan Brown'] \n",
    "x = 'Dan Brown'\n",
    "print('{} has occured {} times'.format(x, count(lst, x)))"
   ]
  },
  {
   "cell_type": "code",
   "execution_count": null,
   "metadata": {},
   "outputs": [],
   "source": []
  }
 ],
 "metadata": {
  "kernelspec": {
   "display_name": "Python 3",
   "language": "python",
   "name": "python3"
  },
  "language_info": {
   "codemirror_mode": {
    "name": "ipython",
    "version": 3
   },
   "file_extension": ".py",
   "mimetype": "text/x-python",
   "name": "python",
   "nbconvert_exporter": "python",
   "pygments_lexer": "ipython3",
   "version": "3.7.3"
  }
 },
 "nbformat": 4,
 "nbformat_minor": 2
}
