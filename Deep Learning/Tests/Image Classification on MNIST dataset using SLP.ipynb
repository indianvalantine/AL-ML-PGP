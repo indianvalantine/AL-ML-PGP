{
 "cells": [
  {
   "cell_type": "markdown",
   "metadata": {
    "colab_type": "text",
    "id": "m2CPBIdIMgWS"
   },
   "source": [
    "### Image Classification on MNIST dataset using SLP\n",
    "\n",
    "---\n",
    "\n",
    "**Description**\n",
    "- The dataset is MNIST dataset includes images of o to 9 handwritten digits. \n",
    "- The objective is to classify images into specific classes using Single Layer Perceptron.\n",
    "\n",
    "**Dataset**\n",
    "- Total Images: - 70,000\n",
    "- Train Images: - 60,000 \n",
    "- Test Images:- 10,000 \n",
    "- Image Size:- 28 X 28\n",
    "\n",
    "**Different Classes**: {0, 1, 2, 3, 4, 5, 6, 7, 8, 9}\n",
    "\n",
    "---\n",
    "\n",
    "**Problem Statements - 1**\n",
    "- A. Load MNIST data from Keras Library and Split the same into Train and Test.\n",
    "- B. Scale the values of train and test between 0 & 1 by dividing train & test by 255\n",
    "\n",
    "---\n",
    "\n",
    "**Problem Statement - 2** - Display first 25 images from the training dataset and display the labels along with them.\n",
    "\n",
    "---\n",
    "\n",
    "**Problem Statement - 3**\n",
    "- Load the data (again, important)\n",
    "    - 1. Reshape the data\n",
    "    >before reshaping the data - (60000, 28, 28)<br>\n",
    "    >after reshaping the data - (60000, 784)\n",
    "    - 2. Print the label for first image and after converting it to categorical\n",
    "    >class label of the first image: 5<br>\n",
    "    >After converting it to categorical: [0. 0. 0. 0. 0. 1. 0. 0. 0. 0.]\n",
    "\n",
    "---\n",
    "\n",
    "**Problem Statement - 4** - Build basic Single Layer Perceptron on the MNIST Data.\n",
    "1. Single Dense 1024 Neurons\n",
    "2. Input Shape being 784 \n",
    "3. Activation Function Relu\n",
    "4. Softmax Layer With 10 Neuron As Output\n",
    "5. Loss - Categorical_Crossentropy\n",
    "6. Optimizer - RMSPROP\n",
    "7. Batch_Size = 5000, Epochs=50\n",
    "8. Print the Accuracy and Loss Of SLP Model\n",
    "\n",
    "---\n",
    "\n",
    "**Problem Statement - 5** - Build basic Multilayer Perceptron on the MNIST Data.\n",
    "1. Single dense layer 1024 neurons\n",
    "2. Input Shape being 784 \n",
    "3. Activation Function Relu\n",
    "4. Second Dense Layer 512 neurons and activation relu \n",
    "5. Third Dense Layer 512 Neurons and activation relu \n",
    "6. Softmax layer with 10 neurons as output\n",
    "7. Loss - categorical_crossentropy \n",
    "8. Optimizer - adam\n",
    "9. batch_size = 5000, epochs = 50\n",
    "10. Print the accuracy and loss of MLP model\n",
    "\n",
    "---\n",
    "\n",
    "**Problem Statement - 6**\n",
    "- A. Build basic Convolution Neural Network on the MNIST Data.\n",
    "    - Reshape the data\n",
    "    >Before reshape - (28, 28)<br>\n",
    "    >After reshape - (60000, 28, 28, 1)\n",
    "    - Parameters\n",
    "        1. Conv2D with 32 Neuron; Filter 3,3 ; Activation: Relu ; Stride (1,1)\n",
    "        2. MaxPool2D ; Pool Size (2,2)\n",
    "        3. Flatten the data again to send to desne layer\n",
    "        4. 128 Neuron single Dense Layer with ReLu\n",
    "        5. 10 neuron single dense layer with softmax as output layer\n",
    "- B. Save the model into Json and .h5 file\n",
    "- C. Load the model from disk"
   ]
  },
  {
   "cell_type": "markdown",
   "metadata": {
    "colab_type": "text",
    "id": "XWlNOyYd-g3E"
   },
   "source": [
    "### Mounting the Google Drive"
   ]
  },
  {
   "cell_type": "code",
   "execution_count": 1,
   "metadata": {
    "colab": {
     "base_uri": "https://localhost:8080/",
     "height": 122
    },
    "colab_type": "code",
    "executionInfo": {
     "elapsed": 27622,
     "status": "ok",
     "timestamp": 1587980989623,
     "user": {
      "displayName": "Pushkar Ravi",
      "photoUrl": "https://lh3.googleusercontent.com/a-/AOh14GhAlVyp71umOlByGfHeaFmwYdwtOU4ZKvLuG2zNnS0=s64",
      "userId": "16598848304287291961"
     },
     "user_tz": -330
    },
    "id": "AWAzjh63-aae",
    "outputId": "f223fc65-d810-44c5-c206-0d1b7ebef09f"
   },
   "outputs": [
    {
     "name": "stdout",
     "output_type": "stream",
     "text": [
      "Go to this URL in a browser: https://accounts.google.com/o/oauth2/auth?client_id=947318989803-6bn6qk8qdgf4n4g3pfee6491hc0brc4i.apps.googleusercontent.com&redirect_uri=urn%3aietf%3awg%3aoauth%3a2.0%3aoob&response_type=code&scope=email%20https%3a%2f%2fwww.googleapis.com%2fauth%2fdocs.test%20https%3a%2f%2fwww.googleapis.com%2fauth%2fdrive%20https%3a%2f%2fwww.googleapis.com%2fauth%2fdrive.photos.readonly%20https%3a%2f%2fwww.googleapis.com%2fauth%2fpeopleapi.readonly\n",
      "\n",
      "Enter your authorization code:\n",
      "··········\n",
      "Mounted at /content/drive\n"
     ]
    }
   ],
   "source": [
    "from google.colab import drive\n",
    "drive.mount('/content/drive')"
   ]
  },
  {
   "cell_type": "markdown",
   "metadata": {},
   "source": [
    "### Importing modules"
   ]
  },
  {
   "cell_type": "code",
   "execution_count": 2,
   "metadata": {
    "colab": {
     "base_uri": "https://localhost:8080/",
     "height": 34
    },
    "colab_type": "code",
    "executionInfo": {
     "elapsed": 28178,
     "status": "ok",
     "timestamp": 1587980990198,
     "user": {
      "displayName": "Pushkar Ravi",
      "photoUrl": "https://lh3.googleusercontent.com/a-/AOh14GhAlVyp71umOlByGfHeaFmwYdwtOU4ZKvLuG2zNnS0=s64",
      "userId": "16598848304287291961"
     },
     "user_tz": -330
    },
    "id": "KEvHU3mKNpMe",
    "outputId": "7669febe-40ab-4783-d0ff-0eba07072aea"
   },
   "outputs": [
    {
     "name": "stderr",
     "output_type": "stream",
     "text": [
      "Using TensorFlow backend.\n"
     ]
    }
   ],
   "source": [
    "import numpy as np\n",
    "import pandas as pd\n",
    "import matplotlib.pyplot as plt\n",
    "from sklearn.metrics import accuracy_score\n",
    "\n",
    "from keras.datasets.mnist import load_data\n",
    "from keras.utils.vis_utils import plot_model\n",
    "from keras.models import Sequential\n",
    "from keras.models import model_from_json\n",
    "from keras import backend as K\n",
    "from keras.callbacks import EarlyStopping\n",
    "from keras.layers import Dense, Dropout, Activation, Flatten, Conv2D, MaxPooling2D, BatchNormalization\n",
    "from keras.utils import np_utils, to_categorical\n",
    "from keras.optimizers import RMSprop, Adam\n",
    "from keras.losses import categorical_crossentropy"
   ]
  },
  {
   "cell_type": "markdown",
   "metadata": {
    "colab_type": "text",
    "id": "t6ytDM94mCQl"
   },
   "source": [
    "### Question 1"
   ]
  },
  {
   "cell_type": "markdown",
   "metadata": {
    "colab_type": "text",
    "id": "tVVBLSe-ysMB"
   },
   "source": [
    "#### **Remember**\n",
    "*   **x_train** consists of image data in array format with size 784\n",
    "*   **y_train** consists of label data indicates actual digit of image"
   ]
  },
  {
   "cell_type": "code",
   "execution_count": 3,
   "metadata": {
    "colab": {
     "base_uri": "https://localhost:8080/",
     "height": 1000
    },
    "colab_type": "code",
    "executionInfo": {
     "elapsed": 33126,
     "status": "ok",
     "timestamp": 1587980995173,
     "user": {
      "displayName": "Pushkar Ravi",
      "photoUrl": "https://lh3.googleusercontent.com/a-/AOh14GhAlVyp71umOlByGfHeaFmwYdwtOU4ZKvLuG2zNnS0=s64",
      "userId": "16598848304287291961"
     },
     "user_tz": -330
    },
    "id": "oqWeof36hmjd",
    "outputId": "ee7bdf60-3778-4df8-e643-63e5912c0c29"
   },
   "outputs": [
    {
     "name": "stdout",
     "output_type": "stream",
     "text": [
      "Downloading data from https://s3.amazonaws.com/img-datasets/mnist.npz\n",
      "11493376/11490434 [==============================] - 2s 0us/step\n",
      "[[  0   0   0   0   0   0   0   0   0   0   0   0   0   0   0   0   0   0\n",
      "    0   0   0   0   0   0   0   0   0   0]\n",
      " [  0   0   0   0   0   0   0   0   0   0   0   0   0   0   0   0   0   0\n",
      "    0   0   0   0   0   0   0   0   0   0]\n",
      " [  0   0   0   0   0   0   0   0   0   0   0   0   0   0   0   0   0   0\n",
      "    0   0   0   0   0   0   0   0   0   0]\n",
      " [  0   0   0   0   0   0   0   0   0   0   0   0   0   0   0   0   0   0\n",
      "    0   0   0   0   0   0   0   0   0   0]\n",
      " [  0   0   0   0   0   0   0   0   0   0   0   0   0   0   0   0   0   0\n",
      "    0   0   0   0   0   0   0   0   0   0]\n",
      " [  0   0   0   0   0   0   0   0   0   0   0   0   3  18  18  18 126 136\n",
      "  175  26 166 255 247 127   0   0   0   0]\n",
      " [  0   0   0   0   0   0   0   0  30  36  94 154 170 253 253 253 253 253\n",
      "  225 172 253 242 195  64   0   0   0   0]\n",
      " [  0   0   0   0   0   0   0  49 238 253 253 253 253 253 253 253 253 251\n",
      "   93  82  82  56  39   0   0   0   0   0]\n",
      " [  0   0   0   0   0   0   0  18 219 253 253 253 253 253 198 182 247 241\n",
      "    0   0   0   0   0   0   0   0   0   0]\n",
      " [  0   0   0   0   0   0   0   0  80 156 107 253 253 205  11   0  43 154\n",
      "    0   0   0   0   0   0   0   0   0   0]\n",
      " [  0   0   0   0   0   0   0   0   0  14   1 154 253  90   0   0   0   0\n",
      "    0   0   0   0   0   0   0   0   0   0]\n",
      " [  0   0   0   0   0   0   0   0   0   0   0 139 253 190   2   0   0   0\n",
      "    0   0   0   0   0   0   0   0   0   0]\n",
      " [  0   0   0   0   0   0   0   0   0   0   0  11 190 253  70   0   0   0\n",
      "    0   0   0   0   0   0   0   0   0   0]\n",
      " [  0   0   0   0   0   0   0   0   0   0   0   0  35 241 225 160 108   1\n",
      "    0   0   0   0   0   0   0   0   0   0]\n",
      " [  0   0   0   0   0   0   0   0   0   0   0   0   0  81 240 253 253 119\n",
      "   25   0   0   0   0   0   0   0   0   0]\n",
      " [  0   0   0   0   0   0   0   0   0   0   0   0   0   0  45 186 253 253\n",
      "  150  27   0   0   0   0   0   0   0   0]\n",
      " [  0   0   0   0   0   0   0   0   0   0   0   0   0   0   0  16  93 252\n",
      "  253 187   0   0   0   0   0   0   0   0]\n",
      " [  0   0   0   0   0   0   0   0   0   0   0   0   0   0   0   0   0 249\n",
      "  253 249  64   0   0   0   0   0   0   0]\n",
      " [  0   0   0   0   0   0   0   0   0   0   0   0   0   0  46 130 183 253\n",
      "  253 207   2   0   0   0   0   0   0   0]\n",
      " [  0   0   0   0   0   0   0   0   0   0   0   0  39 148 229 253 253 253\n",
      "  250 182   0   0   0   0   0   0   0   0]\n",
      " [  0   0   0   0   0   0   0   0   0   0  24 114 221 253 253 253 253 201\n",
      "   78   0   0   0   0   0   0   0   0   0]\n",
      " [  0   0   0   0   0   0   0   0  23  66 213 253 253 253 253 198  81   2\n",
      "    0   0   0   0   0   0   0   0   0   0]\n",
      " [  0   0   0   0   0   0  18 171 219 253 253 253 253 195  80   9   0   0\n",
      "    0   0   0   0   0   0   0   0   0   0]\n",
      " [  0   0   0   0  55 172 226 253 253 253 253 244 133  11   0   0   0   0\n",
      "    0   0   0   0   0   0   0   0   0   0]\n",
      " [  0   0   0   0 136 253 253 253 212 135 132  16   0   0   0   0   0   0\n",
      "    0   0   0   0   0   0   0   0   0   0]\n",
      " [  0   0   0   0   0   0   0   0   0   0   0   0   0   0   0   0   0   0\n",
      "    0   0   0   0   0   0   0   0   0   0]\n",
      " [  0   0   0   0   0   0   0   0   0   0   0   0   0   0   0   0   0   0\n",
      "    0   0   0   0   0   0   0   0   0   0]\n",
      " [  0   0   0   0   0   0   0   0   0   0   0   0   0   0   0   0   0   0\n",
      "    0   0   0   0   0   0   0   0   0   0]]\n"
     ]
    }
   ],
   "source": [
    "# Loading the MNIST dataset\n",
    "(x_train, y_train), (x_test, y_test) = load_data()\n",
    "print(x_train[0])"
   ]
  },
  {
   "cell_type": "code",
   "execution_count": 4,
   "metadata": {
    "colab": {
     "base_uri": "https://localhost:8080/",
     "height": 1000
    },
    "colab_type": "code",
    "executionInfo": {
     "elapsed": 32832,
     "status": "ok",
     "timestamp": 1587980995174,
     "user": {
      "displayName": "Pushkar Ravi",
      "photoUrl": "https://lh3.googleusercontent.com/a-/AOh14GhAlVyp71umOlByGfHeaFmwYdwtOU4ZKvLuG2zNnS0=s64",
      "userId": "16598848304287291961"
     },
     "user_tz": -330
    },
    "id": "b5F3Xt3mUxUP",
    "outputId": "783fc8d0-94c3-4188-b9eb-a661cb03f6c0"
   },
   "outputs": [
    {
     "name": "stdout",
     "output_type": "stream",
     "text": [
      "[[0.         0.         0.         0.         0.         0.\n",
      "  0.         0.         0.         0.         0.         0.\n",
      "  0.         0.         0.         0.         0.         0.\n",
      "  0.         0.         0.         0.         0.         0.\n",
      "  0.         0.         0.         0.        ]\n",
      " [0.         0.         0.         0.         0.         0.\n",
      "  0.         0.         0.         0.         0.         0.\n",
      "  0.         0.         0.         0.         0.         0.\n",
      "  0.         0.         0.         0.         0.         0.\n",
      "  0.         0.         0.         0.        ]\n",
      " [0.         0.         0.         0.         0.         0.\n",
      "  0.         0.         0.         0.         0.         0.\n",
      "  0.         0.         0.         0.         0.         0.\n",
      "  0.         0.         0.         0.         0.         0.\n",
      "  0.         0.         0.         0.        ]\n",
      " [0.         0.         0.         0.         0.         0.\n",
      "  0.         0.         0.         0.         0.         0.\n",
      "  0.         0.         0.         0.         0.         0.\n",
      "  0.         0.         0.         0.         0.         0.\n",
      "  0.         0.         0.         0.        ]\n",
      " [0.         0.         0.         0.         0.         0.\n",
      "  0.         0.         0.         0.         0.         0.\n",
      "  0.         0.         0.         0.         0.         0.\n",
      "  0.         0.         0.         0.         0.         0.\n",
      "  0.         0.         0.         0.        ]\n",
      " [0.         0.         0.         0.         0.         0.\n",
      "  0.         0.         0.         0.         0.         0.\n",
      "  0.01176471 0.07058824 0.07058824 0.07058824 0.49411765 0.53333333\n",
      "  0.68627451 0.10196078 0.65098039 1.         0.96862745 0.49803922\n",
      "  0.         0.         0.         0.        ]\n",
      " [0.         0.         0.         0.         0.         0.\n",
      "  0.         0.         0.11764706 0.14117647 0.36862745 0.60392157\n",
      "  0.66666667 0.99215686 0.99215686 0.99215686 0.99215686 0.99215686\n",
      "  0.88235294 0.6745098  0.99215686 0.94901961 0.76470588 0.25098039\n",
      "  0.         0.         0.         0.        ]\n",
      " [0.         0.         0.         0.         0.         0.\n",
      "  0.         0.19215686 0.93333333 0.99215686 0.99215686 0.99215686\n",
      "  0.99215686 0.99215686 0.99215686 0.99215686 0.99215686 0.98431373\n",
      "  0.36470588 0.32156863 0.32156863 0.21960784 0.15294118 0.\n",
      "  0.         0.         0.         0.        ]\n",
      " [0.         0.         0.         0.         0.         0.\n",
      "  0.         0.07058824 0.85882353 0.99215686 0.99215686 0.99215686\n",
      "  0.99215686 0.99215686 0.77647059 0.71372549 0.96862745 0.94509804\n",
      "  0.         0.         0.         0.         0.         0.\n",
      "  0.         0.         0.         0.        ]\n",
      " [0.         0.         0.         0.         0.         0.\n",
      "  0.         0.         0.31372549 0.61176471 0.41960784 0.99215686\n",
      "  0.99215686 0.80392157 0.04313725 0.         0.16862745 0.60392157\n",
      "  0.         0.         0.         0.         0.         0.\n",
      "  0.         0.         0.         0.        ]\n",
      " [0.         0.         0.         0.         0.         0.\n",
      "  0.         0.         0.         0.05490196 0.00392157 0.60392157\n",
      "  0.99215686 0.35294118 0.         0.         0.         0.\n",
      "  0.         0.         0.         0.         0.         0.\n",
      "  0.         0.         0.         0.        ]\n",
      " [0.         0.         0.         0.         0.         0.\n",
      "  0.         0.         0.         0.         0.         0.54509804\n",
      "  0.99215686 0.74509804 0.00784314 0.         0.         0.\n",
      "  0.         0.         0.         0.         0.         0.\n",
      "  0.         0.         0.         0.        ]\n",
      " [0.         0.         0.         0.         0.         0.\n",
      "  0.         0.         0.         0.         0.         0.04313725\n",
      "  0.74509804 0.99215686 0.2745098  0.         0.         0.\n",
      "  0.         0.         0.         0.         0.         0.\n",
      "  0.         0.         0.         0.        ]\n",
      " [0.         0.         0.         0.         0.         0.\n",
      "  0.         0.         0.         0.         0.         0.\n",
      "  0.1372549  0.94509804 0.88235294 0.62745098 0.42352941 0.00392157\n",
      "  0.         0.         0.         0.         0.         0.\n",
      "  0.         0.         0.         0.        ]\n",
      " [0.         0.         0.         0.         0.         0.\n",
      "  0.         0.         0.         0.         0.         0.\n",
      "  0.         0.31764706 0.94117647 0.99215686 0.99215686 0.46666667\n",
      "  0.09803922 0.         0.         0.         0.         0.\n",
      "  0.         0.         0.         0.        ]\n",
      " [0.         0.         0.         0.         0.         0.\n",
      "  0.         0.         0.         0.         0.         0.\n",
      "  0.         0.         0.17647059 0.72941176 0.99215686 0.99215686\n",
      "  0.58823529 0.10588235 0.         0.         0.         0.\n",
      "  0.         0.         0.         0.        ]\n",
      " [0.         0.         0.         0.         0.         0.\n",
      "  0.         0.         0.         0.         0.         0.\n",
      "  0.         0.         0.         0.0627451  0.36470588 0.98823529\n",
      "  0.99215686 0.73333333 0.         0.         0.         0.\n",
      "  0.         0.         0.         0.        ]\n",
      " [0.         0.         0.         0.         0.         0.\n",
      "  0.         0.         0.         0.         0.         0.\n",
      "  0.         0.         0.         0.         0.         0.97647059\n",
      "  0.99215686 0.97647059 0.25098039 0.         0.         0.\n",
      "  0.         0.         0.         0.        ]\n",
      " [0.         0.         0.         0.         0.         0.\n",
      "  0.         0.         0.         0.         0.         0.\n",
      "  0.         0.         0.18039216 0.50980392 0.71764706 0.99215686\n",
      "  0.99215686 0.81176471 0.00784314 0.         0.         0.\n",
      "  0.         0.         0.         0.        ]\n",
      " [0.         0.         0.         0.         0.         0.\n",
      "  0.         0.         0.         0.         0.         0.\n",
      "  0.15294118 0.58039216 0.89803922 0.99215686 0.99215686 0.99215686\n",
      "  0.98039216 0.71372549 0.         0.         0.         0.\n",
      "  0.         0.         0.         0.        ]\n",
      " [0.         0.         0.         0.         0.         0.\n",
      "  0.         0.         0.         0.         0.09411765 0.44705882\n",
      "  0.86666667 0.99215686 0.99215686 0.99215686 0.99215686 0.78823529\n",
      "  0.30588235 0.         0.         0.         0.         0.\n",
      "  0.         0.         0.         0.        ]\n",
      " [0.         0.         0.         0.         0.         0.\n",
      "  0.         0.         0.09019608 0.25882353 0.83529412 0.99215686\n",
      "  0.99215686 0.99215686 0.99215686 0.77647059 0.31764706 0.00784314\n",
      "  0.         0.         0.         0.         0.         0.\n",
      "  0.         0.         0.         0.        ]\n",
      " [0.         0.         0.         0.         0.         0.\n",
      "  0.07058824 0.67058824 0.85882353 0.99215686 0.99215686 0.99215686\n",
      "  0.99215686 0.76470588 0.31372549 0.03529412 0.         0.\n",
      "  0.         0.         0.         0.         0.         0.\n",
      "  0.         0.         0.         0.        ]\n",
      " [0.         0.         0.         0.         0.21568627 0.6745098\n",
      "  0.88627451 0.99215686 0.99215686 0.99215686 0.99215686 0.95686275\n",
      "  0.52156863 0.04313725 0.         0.         0.         0.\n",
      "  0.         0.         0.         0.         0.         0.\n",
      "  0.         0.         0.         0.        ]\n",
      " [0.         0.         0.         0.         0.53333333 0.99215686\n",
      "  0.99215686 0.99215686 0.83137255 0.52941176 0.51764706 0.0627451\n",
      "  0.         0.         0.         0.         0.         0.\n",
      "  0.         0.         0.         0.         0.         0.\n",
      "  0.         0.         0.         0.        ]\n",
      " [0.         0.         0.         0.         0.         0.\n",
      "  0.         0.         0.         0.         0.         0.\n",
      "  0.         0.         0.         0.         0.         0.\n",
      "  0.         0.         0.         0.         0.         0.\n",
      "  0.         0.         0.         0.        ]\n",
      " [0.         0.         0.         0.         0.         0.\n",
      "  0.         0.         0.         0.         0.         0.\n",
      "  0.         0.         0.         0.         0.         0.\n",
      "  0.         0.         0.         0.         0.         0.\n",
      "  0.         0.         0.         0.        ]\n",
      " [0.         0.         0.         0.         0.         0.\n",
      "  0.         0.         0.         0.         0.         0.\n",
      "  0.         0.         0.         0.         0.         0.\n",
      "  0.         0.         0.         0.         0.         0.\n",
      "  0.         0.         0.         0.        ]]\n"
     ]
    }
   ],
   "source": [
    "# Scaling\n",
    "x_train = x_train / 255.0\n",
    "x_test = x_test / 255.0\n",
    "\n",
    "print(x_train[0])"
   ]
  },
  {
   "cell_type": "code",
   "execution_count": 0,
   "metadata": {
    "colab": {},
    "colab_type": "code",
    "id": "PzGsz_O9T3wI"
   },
   "outputs": [],
   "source": [
    "# Making sure that the values are float\n",
    "x_train = x_train.astype('float32')\n",
    "x_test = x_test.astype('float32')"
   ]
  },
  {
   "cell_type": "markdown",
   "metadata": {
    "colab_type": "text",
    "id": "z6TmqoBkmIIT"
   },
   "source": [
    "### Question 2"
   ]
  },
  {
   "cell_type": "code",
   "execution_count": 6,
   "metadata": {
    "colab": {
     "base_uri": "https://localhost:8080/",
     "height": 710
    },
    "colab_type": "code",
    "executionInfo": {
     "elapsed": 30528,
     "status": "ok",
     "timestamp": 1587980995175,
     "user": {
      "displayName": "Pushkar Ravi",
      "photoUrl": "https://lh3.googleusercontent.com/a-/AOh14GhAlVyp71umOlByGfHeaFmwYdwtOU4ZKvLuG2zNnS0=s64",
      "userId": "16598848304287291961"
     },
     "user_tz": -330
    },
    "id": "ZKOoh02bhb0K",
    "outputId": "34e25f0c-2866-47df-eb82-5a3077ce470d"
   },
   "outputs": [
    {
     "data": {
      "image/png": "[encoded data removed]",
      "text/plain": [
       "<Figure size 576x720 with 25 Axes>"
      ]
     },
     "metadata": {
      "needs_background": "light",
      "tags": []
     },
     "output_type": "display_data"
    }
   ],
   "source": [
    "# First 25 images with labels\n",
    "num_rows, num_cols = 5, 5\n",
    "\n",
    "fig, ax = plt.subplots(num_rows, num_cols, figsize=(8, 10),\n",
    "                       squeeze=True)\n",
    "\n",
    "for r in range(num_rows):\n",
    "    for c in range(num_cols):\n",
    "        image_index = r * 7 + c\n",
    "        ax[r, c].axis(\"off\")\n",
    "        ax[r, c].imshow(x_train[image_index], cmap='gray')\n",
    "        ax[r, c].set_title('No. %d' % y_train[image_index])\n",
    "\n",
    "plt.tight_layout()\n",
    "plt.show()\n",
    "plt.close()"
   ]
  },
  {
   "cell_type": "markdown",
   "metadata": {
    "colab_type": "text",
    "id": "SWAR1nqnmOP9"
   },
   "source": [
    "### Question 3"
   ]
  },
  {
   "cell_type": "code",
   "execution_count": 0,
   "metadata": {
    "colab": {},
    "colab_type": "code",
    "id": "DB9n-OZClLDj"
   },
   "outputs": [],
   "source": [
    "# Reloading the data\n",
    "(x_train, y_train), (x_test, y_test) = load_data()"
   ]
  },
  {
   "cell_type": "code",
   "execution_count": 8,
   "metadata": {
    "colab": {
     "base_uri": "https://localhost:8080/",
     "height": 34
    },
    "colab_type": "code",
    "executionInfo": {
     "elapsed": 29353,
     "status": "ok",
     "timestamp": 1587980995176,
     "user": {
      "displayName": "Pushkar Ravi",
      "photoUrl": "https://lh3.googleusercontent.com/a-/AOh14GhAlVyp71umOlByGfHeaFmwYdwtOU4ZKvLuG2zNnS0=s64",
      "userId": "16598848304287291961"
     },
     "user_tz": -330
    },
    "id": "LZz3DItzpCk_",
    "outputId": "3dee5363-5afd-49f3-f023-6af6e9d96db1"
   },
   "outputs": [
    {
     "name": "stdout",
     "output_type": "stream",
     "text": [
      "Before reshaping the data: (60000, 28, 28)\n"
     ]
    }
   ],
   "source": [
    "print('Before reshaping the data:', x_train.shape)"
   ]
  },
  {
   "cell_type": "code",
   "execution_count": 0,
   "metadata": {
    "colab": {},
    "colab_type": "code",
    "id": "0Qlbvd0ZmoJO"
   },
   "outputs": [],
   "source": [
    "num_channels = 1\n",
    "total_pixels = x_train.shape[1] * x_train.shape[2] * num_channels\n",
    "x_train = x_train.reshape((x_train.shape[0], total_pixels)).astype('float32')\n",
    "x_test = x_test.reshape((x_test.shape[0], total_pixels)).astype('float32')"
   ]
  },
  {
   "cell_type": "code",
   "execution_count": 10,
   "metadata": {
    "colab": {
     "base_uri": "https://localhost:8080/",
     "height": 68
    },
    "colab_type": "code",
    "executionInfo": {
     "elapsed": 28433,
     "status": "ok",
     "timestamp": 1587980995178,
     "user": {
      "displayName": "Pushkar Ravi",
      "photoUrl": "https://lh3.googleusercontent.com/a-/AOh14GhAlVyp71umOlByGfHeaFmwYdwtOU4ZKvLuG2zNnS0=s64",
      "userId": "16598848304287291961"
     },
     "user_tz": -330
    },
    "id": "VlwUKIPJn-Fg",
    "outputId": "bc7bb38b-3393-4c98-ae6f-6f483fee5f69"
   },
   "outputs": [
    {
     "name": "stdout",
     "output_type": "stream",
     "text": [
      "After reshaping the data: (60000, 784)\n",
      "Number of images in x_train 60000\n",
      "Number of images in x_test 10000\n"
     ]
    }
   ],
   "source": [
    "print('After reshaping the data:', x_train.shape)\n",
    "print('Number of images in x_train', x_train.shape[0])\n",
    "print('Number of images in x_test', x_test.shape[0])"
   ]
  },
  {
   "cell_type": "code",
   "execution_count": 11,
   "metadata": {
    "colab": {
     "base_uri": "https://localhost:8080/",
     "height": 34
    },
    "colab_type": "code",
    "executionInfo": {
     "elapsed": 27785,
     "status": "ok",
     "timestamp": 1587980995179,
     "user": {
      "displayName": "Pushkar Ravi",
      "photoUrl": "https://lh3.googleusercontent.com/a-/AOh14GhAlVyp71umOlByGfHeaFmwYdwtOU4ZKvLuG2zNnS0=s64",
      "userId": "16598848304287291961"
     },
     "user_tz": -330
    },
    "id": "-Lq6N4QNvkLk",
    "outputId": "c607faea-1498-4a81-e062-2550852cb0b0"
   },
   "outputs": [
    {
     "name": "stdout",
     "output_type": "stream",
     "text": [
      "Label of first image: 5\n"
     ]
    }
   ],
   "source": [
    "print('Label of first image:', y_train[0])"
   ]
  },
  {
   "cell_type": "code",
   "execution_count": 0,
   "metadata": {
    "colab": {},
    "colab_type": "code",
    "id": "zqUred-ioZLk"
   },
   "outputs": [],
   "source": [
    "# One hot encoding\n",
    "y_train = to_categorical(y_train, dtype='float32')\n",
    "y_test = to_categorical(y_test, dtype='float32')\n",
    "num_classes = y_test.shape[1]"
   ]
  },
  {
   "cell_type": "code",
   "execution_count": 13,
   "metadata": {
    "colab": {
     "base_uri": "https://localhost:8080/",
     "height": 34
    },
    "colab_type": "code",
    "executionInfo": {
     "elapsed": 26896,
     "status": "ok",
     "timestamp": 1587980995180,
     "user": {
      "displayName": "Pushkar Ravi",
      "photoUrl": "https://lh3.googleusercontent.com/a-/AOh14GhAlVyp71umOlByGfHeaFmwYdwtOU4ZKvLuG2zNnS0=s64",
      "userId": "16598848304287291961"
     },
     "user_tz": -330
    },
    "id": "-K8bHCpOpbGL",
    "outputId": "a38ebca8-5fc8-41a9-f909-9dd5209574c4"
   },
   "outputs": [
    {
     "name": "stdout",
     "output_type": "stream",
     "text": [
      "Label of first image after categorical conversion = [0. 0. 0. 0. 0. 1. 0. 0. 0. 0.]\n"
     ]
    }
   ],
   "source": [
    "print('Label of first image after categorical conversion = {}'.format(y_train[0]))"
   ]
  },
  {
   "cell_type": "markdown",
   "metadata": {
    "colab_type": "text",
    "id": "-bqMP7U90RGx"
   },
   "source": [
    "### Question 4"
   ]
  },
  {
   "cell_type": "code",
   "execution_count": 0,
   "metadata": {
    "colab": {},
    "colab_type": "code",
    "id": "Ny6Y30SJ0Pqs"
   },
   "outputs": [],
   "source": [
    "# Hyperparameter\n",
    "training_epochs = 50\n",
    "batch_size = 5000\n",
    "input_shape=(784,)"
   ]
  },
  {
   "cell_type": "code",
   "execution_count": 0,
   "metadata": {
    "colab": {},
    "colab_type": "code",
    "id": "cWmcdwvy1Sb3"
   },
   "outputs": [],
   "source": [
    "slp_model = Sequential([Dense(1024, activation='relu',\n",
    "                              input_shape=input_shape), Dense(10, activation='softmax'), ])"
   ]
  },
  {
   "cell_type": "code",
   "execution_count": 0,
   "metadata": {
    "colab": {},
    "colab_type": "code",
    "id": "B8g02u_K3x8d"
   },
   "outputs": [],
   "source": [
    "rms = RMSprop()\n",
    "\n",
    "slp_model.compile(\n",
    "    optimizer=rms, loss='categorical_crossentropy', metrics=['accuracy'])"
   ]
  },
  {
   "cell_type": "code",
   "execution_count": 17,
   "metadata": {
    "colab": {
     "base_uri": "https://localhost:8080/",
     "height": 221
    },
    "colab_type": "code",
    "executionInfo": {
     "elapsed": 48353,
     "status": "ok",
     "timestamp": 1587981018385,
     "user": {
      "displayName": "Pushkar Ravi",
      "photoUrl": "https://lh3.googleusercontent.com/a-/AOh14GhAlVyp71umOlByGfHeaFmwYdwtOU4ZKvLuG2zNnS0=s64",
      "userId": "16598848304287291961"
     },
     "user_tz": -330
    },
    "id": "IO4h19VsQZDq",
    "outputId": "f0b8c813-17b2-4cc8-da10-8a4d3612e723"
   },
   "outputs": [
    {
     "name": "stdout",
     "output_type": "stream",
     "text": [
      "Model: \"sequential_1\"\n",
      "_________________________________________________________________\n",
      "Layer (type)                 Output Shape              Param #   \n",
      "=================================================================\n",
      "dense_1 (Dense)              (None, 1024)              803840    \n",
      "_________________________________________________________________\n",
      "dense_2 (Dense)              (None, 10)                10250     \n",
      "=================================================================\n",
      "Total params: 814,090\n",
      "Trainable params: 814,090\n",
      "Non-trainable params: 0\n",
      "_________________________________________________________________\n"
     ]
    }
   ],
   "source": [
    "slp_model.summary()"
   ]
  },
  {
   "cell_type": "code",
   "execution_count": 18,
   "metadata": {
    "colab": {
     "base_uri": "https://localhost:8080/",
     "height": 1000
    },
    "colab_type": "code",
    "executionInfo": {
     "elapsed": 47696,
     "status": "ok",
     "timestamp": 1587981018386,
     "user": {
      "displayName": "Pushkar Ravi",
      "photoUrl": "https://lh3.googleusercontent.com/a-/AOh14GhAlVyp71umOlByGfHeaFmwYdwtOU4ZKvLuG2zNnS0=s64",
      "userId": "16598848304287291961"
     },
     "user_tz": -330
    },
    "id": "PjCe53FL30HI",
    "outputId": "27064d0d-6801-489d-eebb-cf812058cfb9"
   },
   "outputs": [
    {
     "name": "stdout",
     "output_type": "stream",
     "text": [
      "Epoch 1/50\n",
      "60000/60000 [==============================] - 2s 32us/step - loss: 135.3505 - accuracy: 0.5656\n",
      "Epoch 2/50\n",
      "60000/60000 [==============================] - 0s 4us/step - loss: 6.9621 - accuracy: 0.8688\n",
      "Epoch 3/50\n",
      "60000/60000 [==============================] - 0s 3us/step - loss: 13.1595 - accuracy: 0.8440\n",
      "Epoch 4/50\n",
      "60000/60000 [==============================] - 0s 3us/step - loss: 11.0741 - accuracy: 0.8721\n",
      "Epoch 5/50\n",
      "60000/60000 [==============================] - 0s 3us/step - loss: 2.3265 - accuracy: 0.9376\n",
      "Epoch 6/50\n",
      "60000/60000 [==============================] - 0s 3us/step - loss: 9.0348 - accuracy: 0.8803\n",
      "Epoch 7/50\n",
      "60000/60000 [==============================] - 0s 4us/step - loss: 0.9698 - accuracy: 0.9619\n",
      "Epoch 8/50\n",
      "60000/60000 [==============================] - 0s 3us/step - loss: 5.1414 - accuracy: 0.8999\n",
      "Epoch 9/50\n",
      "60000/60000 [==============================] - 0s 4us/step - loss: 1.5346 - accuracy: 0.9561\n",
      "Epoch 10/50\n",
      "60000/60000 [==============================] - 0s 4us/step - loss: 1.1201 - accuracy: 0.9603\n",
      "Epoch 11/50\n",
      "60000/60000 [==============================] - 0s 3us/step - loss: 1.8560 - accuracy: 0.9435\n",
      "Epoch 12/50\n",
      "60000/60000 [==============================] - 0s 4us/step - loss: 0.2060 - accuracy: 0.9824\n",
      "Epoch 13/50\n",
      "60000/60000 [==============================] - 0s 3us/step - loss: 2.2698 - accuracy: 0.9272\n",
      "Epoch 14/50\n",
      "60000/60000 [==============================] - 0s 3us/step - loss: 0.1123 - accuracy: 0.9889\n",
      "Epoch 15/50\n",
      "60000/60000 [==============================] - 0s 3us/step - loss: 0.3599 - accuracy: 0.9788\n",
      "Epoch 16/50\n",
      "60000/60000 [==============================] - 0s 3us/step - loss: 1.1553 - accuracy: 0.9471\n",
      "Epoch 17/50\n",
      "60000/60000 [==============================] - 0s 3us/step - loss: 0.0443 - accuracy: 0.9936\n",
      "Epoch 18/50\n",
      "60000/60000 [==============================] - 0s 3us/step - loss: 0.0389 - accuracy: 0.9937\n",
      "Epoch 19/50\n",
      "60000/60000 [==============================] - 0s 4us/step - loss: 1.3090 - accuracy: 0.9478\n",
      "Epoch 20/50\n",
      "60000/60000 [==============================] - 0s 3us/step - loss: 0.0334 - accuracy: 0.9944\n",
      "Epoch 21/50\n",
      "60000/60000 [==============================] - 0s 3us/step - loss: 0.0145 - accuracy: 0.9968\n",
      "Epoch 22/50\n",
      "60000/60000 [==============================] - 0s 3us/step - loss: 0.8390 - accuracy: 0.9625\n",
      "Epoch 23/50\n",
      "60000/60000 [==============================] - 0s 3us/step - loss: 0.0272 - accuracy: 0.9952\n",
      "Epoch 24/50\n",
      "60000/60000 [==============================] - 0s 3us/step - loss: 0.0105 - accuracy: 0.9976\n",
      "Epoch 25/50\n",
      "60000/60000 [==============================] - 0s 3us/step - loss: 0.4462 - accuracy: 0.9704\n",
      "Epoch 26/50\n",
      "60000/60000 [==============================] - 0s 3us/step - loss: 0.0140 - accuracy: 0.9970\n",
      "Epoch 27/50\n",
      "60000/60000 [==============================] - 0s 3us/step - loss: 0.0041 - accuracy: 0.9989\n",
      "Epoch 28/50\n",
      "60000/60000 [==============================] - 0s 3us/step - loss: 0.4399 - accuracy: 0.9792\n",
      "Epoch 29/50\n",
      "60000/60000 [==============================] - 0s 3us/step - loss: 0.3764 - accuracy: 0.9815\n",
      "Epoch 30/50\n",
      "60000/60000 [==============================] - 0s 3us/step - loss: 0.0156 - accuracy: 0.9973\n",
      "Epoch 31/50\n",
      "60000/60000 [==============================] - 0s 3us/step - loss: 0.3322 - accuracy: 0.9828\n",
      "Epoch 32/50\n",
      "60000/60000 [==============================] - 0s 3us/step - loss: 0.0028 - accuracy: 0.9991\n",
      "Epoch 33/50\n",
      "60000/60000 [==============================] - 0s 3us/step - loss: 0.5898 - accuracy: 0.9780\n",
      "Epoch 34/50\n",
      "60000/60000 [==============================] - 0s 3us/step - loss: 0.0103 - accuracy: 0.9975\n",
      "Epoch 35/50\n",
      "60000/60000 [==============================] - 0s 3us/step - loss: 0.0022 - accuracy: 0.9994\n",
      "Epoch 36/50\n",
      "60000/60000 [==============================] - 0s 3us/step - loss: 0.0012 - accuracy: 0.9996\n",
      "Epoch 37/50\n",
      "60000/60000 [==============================] - 0s 4us/step - loss: 0.4559 - accuracy: 0.9770\n",
      "Epoch 38/50\n",
      "60000/60000 [==============================] - 0s 3us/step - loss: 0.0121 - accuracy: 0.9976\n",
      "Epoch 39/50\n",
      "60000/60000 [==============================] - 0s 3us/step - loss: 0.0034 - accuracy: 0.9992\n",
      "Epoch 40/50\n",
      "60000/60000 [==============================] - 0s 3us/step - loss: 0.0297 - accuracy: 0.9972\n",
      "Epoch 41/50\n",
      "60000/60000 [==============================] - 0s 3us/step - loss: 0.4777 - accuracy: 0.9773\n",
      "Epoch 42/50\n",
      "60000/60000 [==============================] - 0s 3us/step - loss: 0.0025 - accuracy: 0.9994\n",
      "Epoch 43/50\n",
      "60000/60000 [==============================] - 0s 3us/step - loss: 8.0230e-04 - accuracy: 0.9998\n",
      "Epoch 44/50\n",
      "60000/60000 [==============================] - 0s 3us/step - loss: 0.0607 - accuracy: 0.9962\n",
      "Epoch 45/50\n",
      "60000/60000 [==============================] - 0s 3us/step - loss: 0.4271 - accuracy: 0.9826\n",
      "Epoch 46/50\n",
      "60000/60000 [==============================] - 0s 3us/step - loss: 0.0038 - accuracy: 0.9991\n",
      "Epoch 47/50\n",
      "60000/60000 [==============================] - 0s 3us/step - loss: 0.0169 - accuracy: 0.9983\n",
      "Epoch 48/50\n",
      "60000/60000 [==============================] - 0s 3us/step - loss: 0.1956 - accuracy: 0.9867\n",
      "Epoch 49/50\n",
      "60000/60000 [==============================] - 0s 3us/step - loss: 0.0028 - accuracy: 0.9994\n",
      "Epoch 50/50\n",
      "60000/60000 [==============================] - 0s 3us/step - loss: 0.0020 - accuracy: 0.9996\n"
     ]
    }
   ],
   "source": [
    "slp_history = slp_model.fit(x=x_train,\n",
    "                            y=y_train,\n",
    "                            epochs=training_epochs,\n",
    "                            batch_size=batch_size\n",
    "                            )"
   ]
  },
  {
   "cell_type": "markdown",
   "metadata": {
    "colab_type": "text",
    "id": "rZG3q_OLaeS5"
   },
   "source": [
    "The `plot_model()` function in Keras will create a plot of your network.\n",
    "\n",
    "It takes four optional arguments:\n",
    "1.   **show_shapes** (defaults to False) controls whether output shapes are shown in the graph.\n",
    "2.   **show_layer_names** (defaults to True) controls whether layer names are shown in the graph.\n",
    "3.   **expand_nested** (defaults to False) controls whether to expand nested models into clusters in the graph.\n",
    "4.   **dpi** (defaults to 96) controls image dpi.\n"
   ]
  },
  {
   "cell_type": "code",
   "execution_count": 19,
   "metadata": {
    "colab": {
     "base_uri": "https://localhost:8080/",
     "height": 312
    },
    "colab_type": "code",
    "executionInfo": {
     "elapsed": 47284,
     "status": "ok",
     "timestamp": 1587981018387,
     "user": {
      "displayName": "Pushkar Ravi",
      "photoUrl": "https://lh3.googleusercontent.com/a-/AOh14GhAlVyp71umOlByGfHeaFmwYdwtOU4ZKvLuG2zNnS0=s64",
      "userId": "16598848304287291961"
     },
     "user_tz": -330
    },
    "id": "FpqzDFF-ZypV",
    "outputId": "92fc0455-8138-4638-c367-926c5ca7b292"
   },
   "outputs": [
    {
     "data": {
      "image/png": "[encoded data removed]",
      "text/plain": [
       "<IPython.core.display.Image object>"
      ]
     },
     "execution_count": 19,
     "metadata": {
      "tags": []
     },
     "output_type": "execute_result"
    }
   ],
   "source": [
    "plot_model(slp_model, to_file='model_plot.png', show_shapes=True,\n",
    "           show_layer_names=True, expand_nested=True)"
   ]
  },
  {
   "cell_type": "code",
   "execution_count": 20,
   "metadata": {
    "colab": {
     "base_uri": "https://localhost:8080/",
     "height": 68
    },
    "colab_type": "code",
    "executionInfo": {
     "elapsed": 46819,
     "status": "ok",
     "timestamp": 1587981018387,
     "user": {
      "displayName": "Pushkar Ravi",
      "photoUrl": "https://lh3.googleusercontent.com/a-/AOh14GhAlVyp71umOlByGfHeaFmwYdwtOU4ZKvLuG2zNnS0=s64",
      "userId": "16598848304287291961"
     },
     "user_tz": -330
    },
    "id": "62plvugOu4VV",
    "outputId": "e4495a15-bb53-4565-ecac-d3dd62a9853a"
   },
   "outputs": [
    {
     "name": "stdout",
     "output_type": "stream",
     "text": [
      "10000/10000 [==============================] - 0s 49us/step\n",
      "Loss:  0.4681335339541223\n",
      "Accuracy:  0.9785000085830688\n"
     ]
    }
   ],
   "source": [
    "loss, accuracy = slp_model.evaluate(x_test, y_test, verbose=True)\n",
    "print(\"Loss: \", loss)\n",
    "print(\"Accuracy: \", accuracy)"
   ]
  },
  {
   "cell_type": "markdown",
   "metadata": {
    "colab_type": "text",
    "id": "G33V-m4u6p7n"
   },
   "source": [
    "### Question 5"
   ]
  },
  {
   "cell_type": "code",
   "execution_count": 0,
   "metadata": {
    "colab": {},
    "colab_type": "code",
    "id": "H5jwxiJRZ0tr"
   },
   "outputs": [],
   "source": [
    "mlp_model = Sequential([\n",
    "    Dense(1024, activation='relu', input_shape=input_shape),\n",
    "    Dense(512, activation='relu'),\n",
    "    Dense(512, activation='relu'),\n",
    "    Dense(10, activation='softmax'),\n",
    "])"
   ]
  },
  {
   "cell_type": "code",
   "execution_count": 0,
   "metadata": {
    "colab": {},
    "colab_type": "code",
    "id": "MAjVQHPI7WJ5"
   },
   "outputs": [],
   "source": [
    "adam = Adam()\n",
    "mlp_model.compile(optimizer=adam,\n",
    "                  loss='categorical_crossentropy',\n",
    "                  metrics=['accuracy'])"
   ]
  },
  {
   "cell_type": "code",
   "execution_count": 23,
   "metadata": {
    "colab": {
     "base_uri": "https://localhost:8080/",
     "height": 289
    },
    "colab_type": "code",
    "executionInfo": {
     "elapsed": 45380,
     "status": "ok",
     "timestamp": 1587981018389,
     "user": {
      "displayName": "Pushkar Ravi",
      "photoUrl": "https://lh3.googleusercontent.com/a-/AOh14GhAlVyp71umOlByGfHeaFmwYdwtOU4ZKvLuG2zNnS0=s64",
      "userId": "16598848304287291961"
     },
     "user_tz": -330
    },
    "id": "R4MRyyQX71P5",
    "outputId": "5c807ef1-ddeb-42d3-93ad-aab34d1b987f"
   },
   "outputs": [
    {
     "name": "stdout",
     "output_type": "stream",
     "text": [
      "Model: \"sequential_2\"\n",
      "_________________________________________________________________\n",
      "Layer (type)                 Output Shape              Param #   \n",
      "=================================================================\n",
      "dense_3 (Dense)              (None, 1024)              803840    \n",
      "_________________________________________________________________\n",
      "dense_4 (Dense)              (None, 512)               524800    \n",
      "_________________________________________________________________\n",
      "dense_5 (Dense)              (None, 512)               262656    \n",
      "_________________________________________________________________\n",
      "dense_6 (Dense)              (None, 10)                5130      \n",
      "=================================================================\n",
      "Total params: 1,596,426\n",
      "Trainable params: 1,596,426\n",
      "Non-trainable params: 0\n",
      "_________________________________________________________________\n"
     ]
    }
   ],
   "source": [
    "mlp_model.summary()"
   ]
  },
  {
   "cell_type": "code",
   "execution_count": 24,
   "metadata": {
    "colab": {
     "base_uri": "https://localhost:8080/",
     "height": 1000
    },
    "colab_type": "code",
    "executionInfo": {
     "elapsed": 60801,
     "status": "ok",
     "timestamp": 1587981034290,
     "user": {
      "displayName": "Pushkar Ravi",
      "photoUrl": "https://lh3.googleusercontent.com/a-/AOh14GhAlVyp71umOlByGfHeaFmwYdwtOU4ZKvLuG2zNnS0=s64",
      "userId": "16598848304287291961"
     },
     "user_tz": -330
    },
    "id": "MM4JleDt72jm",
    "outputId": "33b24f7c-b959-4ac4-c656-6c076a3be996"
   },
   "outputs": [
    {
     "name": "stdout",
     "output_type": "stream",
     "text": [
      "Epoch 1/50\n",
      "60000/60000 [==============================] - 0s 7us/step - loss: 34.4902 - accuracy: 0.5110\n",
      "Epoch 2/50\n",
      "60000/60000 [==============================] - 0s 5us/step - loss: 2.3180 - accuracy: 0.8183\n",
      "Epoch 3/50\n",
      "60000/60000 [==============================] - 0s 5us/step - loss: 0.9095 - accuracy: 0.8981\n",
      "Epoch 4/50\n",
      "60000/60000 [==============================] - 0s 5us/step - loss: 0.4906 - accuracy: 0.9228\n",
      "Epoch 5/50\n",
      "60000/60000 [==============================] - 0s 5us/step - loss: 0.3296 - accuracy: 0.9335\n",
      "Epoch 6/50\n",
      "60000/60000 [==============================] - 0s 5us/step - loss: 0.2450 - accuracy: 0.9448\n",
      "Epoch 7/50\n",
      "60000/60000 [==============================] - 0s 5us/step - loss: 0.1924 - accuracy: 0.9535\n",
      "Epoch 8/50\n",
      "60000/60000 [==============================] - 0s 5us/step - loss: 0.1546 - accuracy: 0.9618\n",
      "Epoch 9/50\n",
      "60000/60000 [==============================] - 0s 5us/step - loss: 0.1272 - accuracy: 0.9675\n",
      "Epoch 10/50\n",
      "60000/60000 [==============================] - 0s 5us/step - loss: 0.1044 - accuracy: 0.9728\n",
      "Epoch 11/50\n",
      "60000/60000 [==============================] - 0s 5us/step - loss: 0.0864 - accuracy: 0.9774\n",
      "Epoch 12/50\n",
      "60000/60000 [==============================] - 0s 5us/step - loss: 0.0731 - accuracy: 0.9805\n",
      "Epoch 13/50\n",
      "60000/60000 [==============================] - 0s 5us/step - loss: 0.0613 - accuracy: 0.9839\n",
      "Epoch 14/50\n",
      "60000/60000 [==============================] - 0s 5us/step - loss: 0.0509 - accuracy: 0.9874\n",
      "Epoch 15/50\n",
      "60000/60000 [==============================] - 0s 5us/step - loss: 0.0428 - accuracy: 0.9901\n",
      "Epoch 16/50\n",
      "60000/60000 [==============================] - 0s 5us/step - loss: 0.0361 - accuracy: 0.9919\n",
      "Epoch 17/50\n",
      "60000/60000 [==============================] - 0s 5us/step - loss: 0.0308 - accuracy: 0.9933\n",
      "Epoch 18/50\n",
      "60000/60000 [==============================] - 0s 5us/step - loss: 0.0259 - accuracy: 0.9947\n",
      "Epoch 19/50\n",
      "60000/60000 [==============================] - 0s 5us/step - loss: 0.0221 - accuracy: 0.9960\n",
      "Epoch 20/50\n",
      "60000/60000 [==============================] - 0s 5us/step - loss: 0.0191 - accuracy: 0.9965\n",
      "Epoch 21/50\n",
      "60000/60000 [==============================] - 0s 5us/step - loss: 0.0163 - accuracy: 0.9972\n",
      "Epoch 22/50\n",
      "60000/60000 [==============================] - 0s 5us/step - loss: 0.0140 - accuracy: 0.9977\n",
      "Epoch 23/50\n",
      "60000/60000 [==============================] - 0s 5us/step - loss: 0.0121 - accuracy: 0.9983\n",
      "Epoch 24/50\n",
      "60000/60000 [==============================] - 0s 5us/step - loss: 0.0107 - accuracy: 0.9986\n",
      "Epoch 25/50\n",
      "60000/60000 [==============================] - 0s 5us/step - loss: 0.0093 - accuracy: 0.9989\n",
      "Epoch 26/50\n",
      "60000/60000 [==============================] - 0s 5us/step - loss: 0.0082 - accuracy: 0.9992\n",
      "Epoch 27/50\n",
      "60000/60000 [==============================] - 0s 5us/step - loss: 0.0073 - accuracy: 0.9994\n",
      "Epoch 28/50\n",
      "60000/60000 [==============================] - 0s 5us/step - loss: 0.0065 - accuracy: 0.9995\n",
      "Epoch 29/50\n",
      "60000/60000 [==============================] - 0s 5us/step - loss: 0.0058 - accuracy: 0.9997\n",
      "Epoch 30/50\n",
      "60000/60000 [==============================] - 0s 5us/step - loss: 0.0053 - accuracy: 0.9997\n",
      "Epoch 31/50\n",
      "60000/60000 [==============================] - 0s 5us/step - loss: 0.0048 - accuracy: 0.9998\n",
      "Epoch 32/50\n",
      "60000/60000 [==============================] - 0s 5us/step - loss: 0.0044 - accuracy: 0.9998\n",
      "Epoch 33/50\n",
      "60000/60000 [==============================] - 0s 5us/step - loss: 0.0040 - accuracy: 0.9999\n",
      "Epoch 34/50\n",
      "60000/60000 [==============================] - 0s 5us/step - loss: 0.0037 - accuracy: 0.9999\n",
      "Epoch 35/50\n",
      "60000/60000 [==============================] - 0s 5us/step - loss: 0.0034 - accuracy: 0.9999\n",
      "Epoch 36/50\n",
      "60000/60000 [==============================] - 0s 5us/step - loss: 0.0032 - accuracy: 0.9999\n",
      "Epoch 37/50\n",
      "60000/60000 [==============================] - 0s 5us/step - loss: 0.0030 - accuracy: 1.0000\n",
      "Epoch 38/50\n",
      "60000/60000 [==============================] - 0s 5us/step - loss: 0.0028 - accuracy: 1.0000\n",
      "Epoch 39/50\n",
      "60000/60000 [==============================] - 0s 5us/step - loss: 0.0026 - accuracy: 1.0000\n",
      "Epoch 40/50\n",
      "60000/60000 [==============================] - 0s 5us/step - loss: 0.0024 - accuracy: 1.0000\n",
      "Epoch 41/50\n",
      "60000/60000 [==============================] - 0s 5us/step - loss: 0.0023 - accuracy: 1.0000\n",
      "Epoch 42/50\n",
      "60000/60000 [==============================] - 0s 5us/step - loss: 0.0022 - accuracy: 1.0000\n",
      "Epoch 43/50\n",
      "60000/60000 [==============================] - 0s 5us/step - loss: 0.0021 - accuracy: 1.0000\n",
      "Epoch 44/50\n",
      "60000/60000 [==============================] - 0s 5us/step - loss: 0.0020 - accuracy: 1.0000\n",
      "Epoch 45/50\n",
      "60000/60000 [==============================] - 0s 5us/step - loss: 0.0019 - accuracy: 1.0000\n",
      "Epoch 46/50\n",
      "60000/60000 [==============================] - 0s 5us/step - loss: 0.0018 - accuracy: 1.0000\n",
      "Epoch 47/50\n",
      "60000/60000 [==============================] - 0s 5us/step - loss: 0.0017 - accuracy: 1.0000\n",
      "Epoch 48/50\n",
      "60000/60000 [==============================] - 0s 5us/step - loss: 0.0016 - accuracy: 1.0000\n",
      "Epoch 49/50\n",
      "60000/60000 [==============================] - 0s 5us/step - loss: 0.0015 - accuracy: 1.0000\n",
      "Epoch 50/50\n",
      "60000/60000 [==============================] - 0s 5us/step - loss: 0.0014 - accuracy: 1.0000\n"
     ]
    }
   ],
   "source": [
    "mlp_history = mlp_model.fit(x=x_train,\n",
    "                            y=y_train,\n",
    "                            epochs=training_epochs,\n",
    "                            batch_size=batch_size\n",
    "                            )"
   ]
  },
  {
   "cell_type": "code",
   "execution_count": 25,
   "metadata": {
    "colab": {
     "base_uri": "https://localhost:8080/",
     "height": 533
    },
    "colab_type": "code",
    "executionInfo": {
     "elapsed": 60355,
     "status": "ok",
     "timestamp": 1587981034292,
     "user": {
      "displayName": "Pushkar Ravi",
      "photoUrl": "https://lh3.googleusercontent.com/a-/AOh14GhAlVyp71umOlByGfHeaFmwYdwtOU4ZKvLuG2zNnS0=s64",
      "userId": "16598848304287291961"
     },
     "user_tz": -330
    },
    "id": "57y8l71t7-bU",
    "outputId": "e970f231-bd0f-4058-a299-4e2bc5f8739e"
   },
   "outputs": [
    {
     "data": {
      "image/png": "[encoded data removed]",
      "text/plain": [
       "<IPython.core.display.Image object>"
      ]
     },
     "execution_count": 25,
     "metadata": {
      "tags": []
     },
     "output_type": "execute_result"
    }
   ],
   "source": [
    "plot_model(mlp_model, to_file='model_plot.png', show_shapes=True,\n",
    "           show_layer_names=True, expand_nested=True)"
   ]
  },
  {
   "cell_type": "code",
   "execution_count": 26,
   "metadata": {
    "colab": {
     "base_uri": "https://localhost:8080/",
     "height": 68
    },
    "colab_type": "code",
    "executionInfo": {
     "elapsed": 59922,
     "status": "ok",
     "timestamp": 1587981034293,
     "user": {
      "displayName": "Pushkar Ravi",
      "photoUrl": "https://lh3.googleusercontent.com/a-/AOh14GhAlVyp71umOlByGfHeaFmwYdwtOU4ZKvLuG2zNnS0=s64",
      "userId": "16598848304287291961"
     },
     "user_tz": -330
    },
    "id": "ChEECf6wvZQH",
    "outputId": "b6fcf032-3c99-43a9-8d02-86746ba6626b"
   },
   "outputs": [
    {
     "name": "stdout",
     "output_type": "stream",
     "text": [
      "10000/10000 [==============================] - 0s 49us/step\n",
      "Loss:  0.19070752525138088\n",
      "Accuracy:  0.963100016117096\n"
     ]
    }
   ],
   "source": [
    "loss, accuracy = mlp_model.evaluate(x_test, y_test, verbose=True)\n",
    "print(\"Loss: \", loss)\n",
    "print(\"Accuracy: \", accuracy)"
   ]
  },
  {
   "cell_type": "markdown",
   "metadata": {
    "colab_type": "text",
    "id": "nHIvc98w9mLh"
   },
   "source": [
    "### Question 6"
   ]
  },
  {
   "cell_type": "code",
   "execution_count": 0,
   "metadata": {
    "colab": {},
    "colab_type": "code",
    "id": "aEMSZndD9nru"
   },
   "outputs": [],
   "source": [
    "# Reloading the data\n",
    "(x_train, y_train), (x_test, y_test) = load_data()"
   ]
  },
  {
   "cell_type": "code",
   "execution_count": 28,
   "metadata": {
    "colab": {
     "base_uri": "https://localhost:8080/",
     "height": 34
    },
    "colab_type": "code",
    "executionInfo": {
     "elapsed": 59914,
     "status": "ok",
     "timestamp": 1587981035456,
     "user": {
      "displayName": "Pushkar Ravi",
      "photoUrl": "https://lh3.googleusercontent.com/a-/AOh14GhAlVyp71umOlByGfHeaFmwYdwtOU4ZKvLuG2zNnS0=s64",
      "userId": "16598848304287291961"
     },
     "user_tz": -330
    },
    "id": "kLGzQzAz9xlg",
    "outputId": "b42160f8-4d33-4baf-c027-16f9f8b69e39"
   },
   "outputs": [
    {
     "name": "stdout",
     "output_type": "stream",
     "text": [
      "Before reshaping the data: (60000, 28, 28)\n"
     ]
    }
   ],
   "source": [
    "print('Before reshaping the data:', x_train.shape)"
   ]
  },
  {
   "cell_type": "code",
   "execution_count": 0,
   "metadata": {
    "colab": {},
    "colab_type": "code",
    "id": "-xTjx0eh9yZl"
   },
   "outputs": [],
   "source": [
    "x_train = x_train.reshape(\n",
    "    (x_train.shape[0], x_train.shape[1], x_train.shape[2], num_channels)).astype('float32')\n",
    "\n",
    "x_test = x_test.reshape(\n",
    "    (x_test.shape[0], x_test.shape[1], x_test.shape[2], num_channels)).astype('float32')"
   ]
  },
  {
   "cell_type": "code",
   "execution_count": 30,
   "metadata": {
    "colab": {
     "base_uri": "https://localhost:8080/",
     "height": 68
    },
    "colab_type": "code",
    "executionInfo": {
     "elapsed": 58447,
     "status": "ok",
     "timestamp": 1587981035457,
     "user": {
      "displayName": "Pushkar Ravi",
      "photoUrl": "https://lh3.googleusercontent.com/a-/AOh14GhAlVyp71umOlByGfHeaFmwYdwtOU4ZKvLuG2zNnS0=s64",
      "userId": "16598848304287291961"
     },
     "user_tz": -330
    },
    "id": "zGQBvJRR97hy",
    "outputId": "afa7bc40-04cc-4517-ed5c-2215a32078d0"
   },
   "outputs": [
    {
     "name": "stdout",
     "output_type": "stream",
     "text": [
      "After reshaping the data: (60000, 28, 28, 1)\n",
      "Number of images in x_train 60000\n",
      "Number of images in x_test 10000\n"
     ]
    }
   ],
   "source": [
    "print('After reshaping the data:', x_train.shape)\n",
    "print('Number of images in x_train', x_train.shape[0])\n",
    "print('Number of images in x_test', x_test.shape[0])"
   ]
  },
  {
   "cell_type": "code",
   "execution_count": 0,
   "metadata": {
    "colab": {},
    "colab_type": "code",
    "id": "pcbiotBw5GLK"
   },
   "outputs": [],
   "source": [
    "y_train = to_categorical(y_train, dtype='float32')\n",
    "y_test = to_categorical(y_test, dtype='float32')"
   ]
  },
  {
   "cell_type": "code",
   "execution_count": 0,
   "metadata": {
    "colab": {},
    "colab_type": "code",
    "id": "-0L6k_x49-8q"
   },
   "outputs": [],
   "source": [
    "model = Sequential([Conv2D(32, kernel_size=(3, 3),\n",
    "                           input_shape=(x_train.shape[1], x_train.shape[2], num_channels)),\n",
    "                    Activation('relu'),\n",
    "                    BatchNormalization(),\n",
    "                    MaxPooling2D(pool_size=(2, 2), strides=(1, 1)),\n",
    "                    Flatten(),\n",
    "                    Dense(128, activation='relu'),\n",
    "                    Dense(10, activation='softmax')\n",
    "                    ])"
   ]
  },
  {
   "cell_type": "code",
   "execution_count": 0,
   "metadata": {
    "colab": {},
    "colab_type": "code",
    "id": "jRQdotB_OemV"
   },
   "outputs": [],
   "source": [
    "model.compile(optimizer=Adam(),\n",
    "              loss='categorical_crossentropy',\n",
    "              metrics=['accuracy'])"
   ]
  },
  {
   "cell_type": "code",
   "execution_count": 34,
   "metadata": {
    "colab": {
     "base_uri": "https://localhost:8080/",
     "height": 391
    },
    "colab_type": "code",
    "executionInfo": {
     "elapsed": 56285,
     "status": "ok",
     "timestamp": 1587981035459,
     "user": {
      "displayName": "Pushkar Ravi",
      "photoUrl": "https://lh3.googleusercontent.com/a-/AOh14GhAlVyp71umOlByGfHeaFmwYdwtOU4ZKvLuG2zNnS0=s64",
      "userId": "16598848304287291961"
     },
     "user_tz": -330
    },
    "id": "lQTTpj1qRJ4e",
    "outputId": "4e3f8496-9f83-45a7-e04a-8d57a300bfef"
   },
   "outputs": [
    {
     "name": "stdout",
     "output_type": "stream",
     "text": [
      "Model: \"sequential_3\"\n",
      "_________________________________________________________________\n",
      "Layer (type)                 Output Shape              Param #   \n",
      "=================================================================\n",
      "conv2d_1 (Conv2D)            (None, 26, 26, 32)        320       \n",
      "_________________________________________________________________\n",
      "activation_1 (Activation)    (None, 26, 26, 32)        0         \n",
      "_________________________________________________________________\n",
      "batch_normalization_1 (Batch (None, 26, 26, 32)        128       \n",
      "_________________________________________________________________\n",
      "max_pooling2d_1 (MaxPooling2 (None, 25, 25, 32)        0         \n",
      "_________________________________________________________________\n",
      "flatten_1 (Flatten)          (None, 20000)             0         \n",
      "_________________________________________________________________\n",
      "dense_7 (Dense)              (None, 128)               2560128   \n",
      "_________________________________________________________________\n",
      "dense_8 (Dense)              (None, 10)                1290      \n",
      "=================================================================\n",
      "Total params: 2,561,866\n",
      "Trainable params: 2,561,802\n",
      "Non-trainable params: 64\n",
      "_________________________________________________________________\n"
     ]
    }
   ],
   "source": [
    "model.summary()"
   ]
  },
  {
   "cell_type": "code",
   "execution_count": 0,
   "metadata": {
    "colab": {},
    "colab_type": "code",
    "id": "WStjg7lXRS7l"
   },
   "outputs": [],
   "source": [
    "# early stopping to avoid overfitting\n",
    "es = EarlyStopping(monitor='val_loss', patience=10,\n",
    "                   mode='min', restore_best_weights=True)"
   ]
  },
  {
   "cell_type": "code",
   "execution_count": 36,
   "metadata": {
    "colab": {
     "base_uri": "https://localhost:8080/",
     "height": 1000
    },
    "colab_type": "code",
    "executionInfo": {
     "elapsed": 734767,
     "status": "ok",
     "timestamp": 1587981714779,
     "user": {
      "displayName": "Pushkar Ravi",
      "photoUrl": "https://lh3.googleusercontent.com/a-/AOh14GhAlVyp71umOlByGfHeaFmwYdwtOU4ZKvLuG2zNnS0=s64",
      "userId": "16598848304287291961"
     },
     "user_tz": -330
    },
    "id": "xnmRERY8PAqt",
    "outputId": "38a60451-70bd-4b6d-990a-8fbebea0e7bd"
   },
   "outputs": [
    {
     "name": "stdout",
     "output_type": "stream",
     "text": [
      "Epoch 1/50\n",
      " - 18s - loss: 0.2374 - accuracy: 0.9477\n",
      "Epoch 2/50\n"
     ]
    },
    {
     "name": "stderr",
     "output_type": "stream",
     "text": [
      "/usr/local/lib/python3.6/dist-packages/keras/callbacks/callbacks.py:846: RuntimeWarning: Early stopping conditioned on metric `val_loss` which is not available. Available metrics are: loss,accuracy\n",
      "  (self.monitor, ','.join(list(logs.keys()))), RuntimeWarning\n"
     ]
    },
    {
     "name": "stdout",
     "output_type": "stream",
     "text": [
      " - 13s - loss: 0.0789 - accuracy: 0.9781\n",
      "Epoch 3/50\n",
      " - 13s - loss: 0.0553 - accuracy: 0.9844\n",
      "Epoch 4/50\n",
      " - 13s - loss: 0.0403 - accuracy: 0.9881\n",
      "Epoch 5/50\n",
      " - 13s - loss: 0.0368 - accuracy: 0.9900\n",
      "Epoch 6/50\n",
      " - 13s - loss: 0.0280 - accuracy: 0.9916\n",
      "Epoch 7/50\n",
      " - 13s - loss: 0.0227 - accuracy: 0.9933\n",
      "Epoch 8/50\n",
      " - 14s - loss: 0.0205 - accuracy: 0.9938\n",
      "Epoch 9/50\n",
      " - 13s - loss: 0.0178 - accuracy: 0.9949\n",
      "Epoch 10/50\n",
      " - 13s - loss: 0.0153 - accuracy: 0.9960\n",
      "Epoch 11/50\n",
      " - 13s - loss: 0.0148 - accuracy: 0.9961\n",
      "Epoch 12/50\n",
      " - 13s - loss: 0.0106 - accuracy: 0.9970\n",
      "Epoch 13/50\n",
      " - 13s - loss: 0.0108 - accuracy: 0.9966\n",
      "Epoch 14/50\n",
      " - 13s - loss: 0.0091 - accuracy: 0.9973\n",
      "Epoch 15/50\n",
      " - 13s - loss: 0.0084 - accuracy: 0.9976\n",
      "Epoch 16/50\n",
      " - 13s - loss: 0.0117 - accuracy: 0.9970\n",
      "Epoch 17/50\n",
      " - 13s - loss: 0.0061 - accuracy: 0.9981\n",
      "Epoch 18/50\n",
      " - 13s - loss: 0.0092 - accuracy: 0.9975\n",
      "Epoch 19/50\n",
      " - 13s - loss: 0.0065 - accuracy: 0.9981\n",
      "Epoch 20/50\n",
      " - 14s - loss: 0.0060 - accuracy: 0.9984\n",
      "Epoch 21/50\n",
      " - 13s - loss: 0.0092 - accuracy: 0.9976\n",
      "Epoch 22/50\n",
      " - 14s - loss: 0.0083 - accuracy: 0.9980\n",
      "Epoch 23/50\n",
      " - 14s - loss: 0.0073 - accuracy: 0.9980\n",
      "Epoch 24/50\n",
      " - 13s - loss: 0.0074 - accuracy: 0.9982\n",
      "Epoch 25/50\n",
      " - 14s - loss: 0.0061 - accuracy: 0.9984\n",
      "Epoch 26/50\n",
      " - 13s - loss: 0.0081 - accuracy: 0.9982\n",
      "Epoch 27/50\n",
      " - 13s - loss: 0.0044 - accuracy: 0.9987\n",
      "Epoch 28/50\n",
      " - 13s - loss: 0.0043 - accuracy: 0.9990\n",
      "Epoch 29/50\n",
      " - 13s - loss: 0.0051 - accuracy: 0.9988\n",
      "Epoch 30/50\n",
      " - 13s - loss: 0.0064 - accuracy: 0.9984\n",
      "Epoch 31/50\n",
      " - 13s - loss: 0.0053 - accuracy: 0.9986\n",
      "Epoch 32/50\n",
      " - 13s - loss: 0.0033 - accuracy: 0.9990\n",
      "Epoch 33/50\n",
      " - 13s - loss: 0.0049 - accuracy: 0.9990\n",
      "Epoch 34/50\n",
      " - 13s - loss: 0.0056 - accuracy: 0.9985\n",
      "Epoch 35/50\n",
      " - 13s - loss: 0.0027 - accuracy: 0.9992\n",
      "Epoch 36/50\n",
      " - 13s - loss: 0.0044 - accuracy: 0.9989\n",
      "Epoch 37/50\n",
      " - 13s - loss: 0.0052 - accuracy: 0.9988\n",
      "Epoch 38/50\n",
      " - 14s - loss: 0.0044 - accuracy: 0.9988\n",
      "Epoch 39/50\n",
      " - 13s - loss: 0.0062 - accuracy: 0.9987\n",
      "Epoch 40/50\n",
      " - 13s - loss: 0.0046 - accuracy: 0.9990\n",
      "Epoch 41/50\n",
      " - 13s - loss: 0.0047 - accuracy: 0.9988\n",
      "Epoch 42/50\n",
      " - 13s - loss: 0.0044 - accuracy: 0.9989\n",
      "Epoch 43/50\n",
      " - 14s - loss: 0.0057 - accuracy: 0.9988\n",
      "Epoch 44/50\n",
      " - 14s - loss: 0.0047 - accuracy: 0.9990\n",
      "Epoch 45/50\n",
      " - 14s - loss: 0.0034 - accuracy: 0.9992\n",
      "Epoch 46/50\n",
      " - 14s - loss: 0.0042 - accuracy: 0.9990\n",
      "Epoch 47/50\n",
      " - 13s - loss: 0.0045 - accuracy: 0.9988\n",
      "Epoch 48/50\n",
      " - 13s - loss: 0.0037 - accuracy: 0.9991\n",
      "Epoch 49/50\n",
      " - 13s - loss: 0.0043 - accuracy: 0.9992\n",
      "Epoch 50/50\n",
      " - 13s - loss: 0.0028 - accuracy: 0.9994\n"
     ]
    }
   ],
   "source": [
    "history = model.fit(x=x_train,\n",
    "                    y=y_train,\n",
    "                    epochs=training_epochs,\n",
    "                    verbose=2,\n",
    "                    callbacks=[es]\n",
    "                    )"
   ]
  },
  {
   "cell_type": "code",
   "execution_count": 37,
   "metadata": {
    "colab": {
     "base_uri": "https://localhost:8080/",
     "height": 865
    },
    "colab_type": "code",
    "executionInfo": {
     "elapsed": 734535,
     "status": "ok",
     "timestamp": 1587981714782,
     "user": {
      "displayName": "Pushkar Ravi",
      "photoUrl": "https://lh3.googleusercontent.com/a-/AOh14GhAlVyp71umOlByGfHeaFmwYdwtOU4ZKvLuG2zNnS0=s64",
      "userId": "16598848304287291961"
     },
     "user_tz": -330
    },
    "id": "rYNAddvz82Qp",
    "outputId": "ae7aff9c-17ee-4251-8a96-8f19e8104024"
   },
   "outputs": [
    {
     "data": {
      "image/png": "[encoded data removed]",
      "text/plain": [
       "<IPython.core.display.Image object>"
      ]
     },
     "execution_count": 37,
     "metadata": {
      "tags": []
     },
     "output_type": "execute_result"
    }
   ],
   "source": [
    "plot_model(model, to_file='model_plot.png', show_shapes=True,\n",
    "           show_layer_names=True, expand_nested=True)"
   ]
  },
  {
   "cell_type": "code",
   "execution_count": 40,
   "metadata": {
    "colab": {
     "base_uri": "https://localhost:8080/",
     "height": 68
    },
    "colab_type": "code",
    "executionInfo": {
     "elapsed": 2919,
     "status": "ok",
     "timestamp": 1587981731363,
     "user": {
      "displayName": "Pushkar Ravi",
      "photoUrl": "https://lh3.googleusercontent.com/a-/AOh14GhAlVyp71umOlByGfHeaFmwYdwtOU4ZKvLuG2zNnS0=s64",
      "userId": "16598848304287291961"
     },
     "user_tz": -330
    },
    "id": "ePOmzTuNvgY7",
    "outputId": "7f2bfc1c-3f70-4cbd-90ab-5e619331c506"
   },
   "outputs": [
    {
     "name": "stdout",
     "output_type": "stream",
     "text": [
      "10000/10000 [==============================] - 1s 93us/step\n",
      "Loss:  0.2441184416585902\n",
      "Accuracy:  0.9828000068664551\n"
     ]
    }
   ],
   "source": [
    "loss, accuracy = model.evaluate(x_test, y_test, verbose=True)\n",
    "print(\"Loss: \", loss)\n",
    "print(\"Accuracy: \", accuracy)"
   ]
  },
  {
   "cell_type": "markdown",
   "metadata": {
    "colab_type": "text",
    "id": "z4wmDAKu9xyg"
   },
   "source": [
    "### Saving the Model to Google Drive"
   ]
  },
  {
   "cell_type": "code",
   "execution_count": 38,
   "metadata": {
    "colab": {
     "base_uri": "https://localhost:8080/",
     "height": 34
    },
    "colab_type": "code",
    "executionInfo": {
     "elapsed": 736438,
     "status": "ok",
     "timestamp": 1587981716734,
     "user": {
      "displayName": "Pushkar Ravi",
      "photoUrl": "https://lh3.googleusercontent.com/a-/AOh14GhAlVyp71umOlByGfHeaFmwYdwtOU4ZKvLuG2zNnS0=s64",
      "userId": "16598848304287291961"
     },
     "user_tz": -330
    },
    "id": "Nlx3emTG86Jb",
    "outputId": "dea4cfd6-0e10-4960-a7e1-7253eb82bd9e"
   },
   "outputs": [
    {
     "name": "stdout",
     "output_type": "stream",
     "text": [
      "Saved model to disk\n"
     ]
    }
   ],
   "source": [
    "model_json = model.to_json()\n",
    "\n",
    "# Saving the model as JSON file\n",
    "with open('/content/drive/My Drive/Colab Notebooks/Saved Models/MNISTmodel.json', 'w') as json_file:\n",
    "    json_file.write(model_json)\n",
    "\n",
    "# Serialize weights to HDF5\n",
    "model.save_weights(\n",
    "    '/content/drive/My Drive/Colab Notebooks/Saved Models/MNISTmodel.h5')\n",
    "\n",
    "print('Saved model to disk')"
   ]
  },
  {
   "cell_type": "markdown",
   "metadata": {
    "colab_type": "text",
    "id": "JWfvkpY2_Wu5"
   },
   "source": [
    "### Loading the Model from the Google Drive"
   ]
  },
  {
   "cell_type": "code",
   "execution_count": 0,
   "metadata": {
    "colab": {},
    "colab_type": "code",
    "id": "lpRANfai_bXW"
   },
   "outputs": [],
   "source": [
    "json_file = open(\n",
    "    '/content/drive/My Drive/Colab Notebooks/Saved Models/MNISTmodel.json', 'r')\n",
    "loaded_model_json = json_file.read()\n",
    "json_file.close()\n",
    "loaded_model = model_from_json(loaded_model_json)\n",
    "\n",
    "# Load weights into new model\n",
    "loaded_model.load_weights(\n",
    "    '/content/drive/My Drive/Colab Notebooks/Saved Models/MNISTmodel.h5')\n",
    "\n",
    "print('Loaded model from disk')"
   ]
  }
 ],
 "metadata": {
  "accelerator": "GPU",
  "colab": {
   "collapsed_sections": [],
   "name": "Test_8.ipynb",
   "provenance": []
  },
  "kernelspec": {
   "display_name": "Python 3",
   "language": "python",
   "name": "python3"
  },
  "language_info": {
   "codemirror_mode": {
    "name": "ipython",
    "version": 3
   },
   "file_extension": ".py",
   "mimetype": "text/x-python",
   "name": "python",
   "nbconvert_exporter": "python",
   "pygments_lexer": "ipython3",
   "version": "3.7.7"
  },
  "varInspector": {
   "cols": {
    "lenName": 16,
    "lenType": 16,
    "lenVar": 40
   },
   "kernels_config": {
    "python": {
     "delete_cmd_postfix": "",
     "delete_cmd_prefix": "del ",
     "library": "var_list.py",
     "varRefreshCmd": "print(var_dic_list())"
    },
    "r": {
     "delete_cmd_postfix": ") ",
     "delete_cmd_prefix": "rm(",
     "library": "var_list.r",
     "varRefreshCmd": "cat(var_dic_list()) "
    }
   },
   "types_to_exclude": [
    "module",
    "function",
    "builtin_function_or_method",
    "instance",
    "_Feature"
   ],
   "window_display": false
  }
 },
 "nbformat": 4,
 "nbformat_minor": 1
}
