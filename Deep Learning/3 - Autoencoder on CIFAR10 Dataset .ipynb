{
 "cells": [
  {
   "cell_type": "markdown",
   "metadata": {
    "colab_type": "text",
    "id": "yPvaZ4_uIVKn"
   },
   "source": [
    "### Autoencoder on CIFAR10 Dataset \n",
    "\n",
    "---\n",
    "\n",
    "**Problem Statement** - The CIFAR-10 dataset\n",
    "- The goal of this problem is to run autoencoder on CIFAR10 dataset and see the reconstructed images using AE. \n",
    "- Solve all the questions\n",
    "\n",
    "![](https://drive.google.com/uc?id=1tfGM814gAroyOGNdu2kioEmljiZs16qa)\n",
    "\n",
    "\n",
    "**Dataset**\n",
    "- Total Images : 60,000\n",
    "- Train Images : 50,000\n",
    "- Test Images : 10,000\n",
    "- Images/ Class : 6,000\n",
    "- Image Size : 32 X 32\n",
    "\n",
    "<br>\n",
    "\n",
    "- Classes (in order):\n",
    "    - 'Airplane'\n",
    "    - 'Automobiler'\n",
    "    - 'Bird'\n",
    "    - 'Cat'\n",
    "    - 'Deer'\n",
    "    - 'Dog',\n",
    "    - 'Frog'\n",
    "    - 'Horse'\n",
    "    - Ship'\n",
    "    - 'Truck '\n",
    "\n",
    "---\n",
    "\n",
    "**Question 1**\n",
    "- A - Load CIFAR-10 data from Keras Library. And Split the same into Train and Test\n",
    "\n",
    "<br>\n",
    "\n",
    "- B - Normalize the Data\n",
    "    - Hint\n",
    "    > - take the X train and convert it into float32\n",
    "    > - Normalize the data with dividing pixel values with 255\n",
    "\n",
    "---\n",
    "\n",
    "**Question 2** \n",
    "- A - Define the Encoder\n",
    "    - Hint\n",
    "    > - Input shape be: (32,32,3)\n",
    "    > - First ConvLayer:\n",
    "        - Conv2D Layer with 64 Filters of (3,3)\n",
    "        - BatchNormalization layer\n",
    "        - Relu Activation\n",
    "        - 2D MaxpoolingLayer with (2,2) filter\n",
    "    > - Second Layer:\n",
    "        - Conv2d layer with 16 filters (3,3)\n",
    "        - BatchNormalization layer\n",
    "        - Relu Activation\n",
    "    > - Final Encoded as MaxPool with (2,2) with all previous layers\n",
    "\n",
    "<br>\n",
    "\n",
    "- B - Define the Decoder as\n",
    "    - Hint\n",
    "    > - Input shape be: encoder output\n",
    "    > - First ConvLayer:\n",
    "        - Conv2D Layer with 16 Filters of (3,3)\n",
    "        - BatchNormalization layer\n",
    "        - Relu Activation\n",
    "        - UpSampling2D with (2,2) filter\n",
    "    > - Second Layer:\n",
    "        - Conv2D Layer with 32 Filters of (3,3)\n",
    "        - BatchNormalization layer\n",
    "        - Relu Activation\n",
    "        - UpSampling2D with (2,2) filter\n",
    "    > - Final Decoded as Sigmoid with all previous layers\n",
    "\n",
    "---\n",
    "\n",
    "**Question 3** - Compile and fit model:\n",
    "- Hint\n",
    "    - Model:\n",
    "    - Pass input_img, decoded\n",
    "        - model = Model(input_img, decoded)\n",
    "    - Compile:\n",
    "        - Optimizer: \"adam\"\n",
    "        - Loss = \"binary_crossentropy\"\n",
    "    - Fit:\n",
    "        - batch_size = 1000\n",
    "        - epochs = 50"
   ]
  },
  {
   "cell_type": "code",
   "execution_count": 0,
   "metadata": {
    "ExecuteTime": {
     "end_time": "2020-04-30T12:42:36.639901Z",
     "start_time": "2020-04-30T12:42:36.637012Z"
    },
    "colab": {},
    "colab_type": "code",
    "id": "-4Rw43NXIVKr"
   },
   "outputs": [],
   "source": [
    "import warnings\n",
    "warnings.filterwarnings('ignore')"
   ]
  },
  {
   "cell_type": "code",
   "execution_count": 2,
   "metadata": {
    "colab": {
     "base_uri": "https://localhost:8080/",
     "height": 34
    },
    "colab_type": "code",
    "executionInfo": {
     "elapsed": 6070,
     "status": "ok",
     "timestamp": 1588697495711,
     "user": {
      "displayName": "Pushkar Ravi",
      "photoUrl": "https://lh3.googleusercontent.com/a-/AOh14GhAlVyp71umOlByGfHeaFmwYdwtOU4ZKvLuG2zNnS0=s64",
      "userId": "16598848304287291961"
     },
     "user_tz": -330
    },
    "id": "io-h2IdQZUB2",
    "outputId": "34dbe61a-5d8a-4fa7-9842-c2bdf07bec2f"
   },
   "outputs": [
    {
     "name": "stderr",
     "output_type": "stream",
     "text": [
      "Using TensorFlow backend.\n"
     ]
    }
   ],
   "source": [
    "import numpy as np\n",
    "import matplotlib.pyplot as plt\n",
    "\n",
    "from keras.layers import Input, Conv2D, BatchNormalization, UpSampling2D, MaxPooling2D\n",
    "from keras.models import Model\n",
    "from keras.utils import plot_model"
   ]
  },
  {
   "cell_type": "markdown",
   "metadata": {
    "colab_type": "text",
    "id": "pCOin581IVK2"
   },
   "source": [
    "### Question-1"
   ]
  },
  {
   "cell_type": "code",
   "execution_count": 0,
   "metadata": {
    "ExecuteTime": {
     "end_time": "2020-04-30T12:42:43.361833Z",
     "start_time": "2020-04-30T12:42:43.358916Z"
    },
    "colab": {},
    "colab_type": "code",
    "id": "HJeAj7JmIVK3"
   },
   "outputs": [],
   "source": [
    "# Loading CIFAR-10 dataset\n",
    "from keras.datasets import cifar10"
   ]
  },
  {
   "cell_type": "markdown",
   "metadata": {
    "colab_type": "text",
    "id": "SYjrPBVVGt2N"
   },
   "source": [
    "Ideally we don't need **trainY** and **testY** because we're discarding the labels (since we're only interested in encoding/decoding the input images)"
   ]
  },
  {
   "cell_type": "code",
   "execution_count": 0,
   "metadata": {
    "ExecuteTime": {
     "end_time": "2020-04-30T12:42:44.062682Z",
     "start_time": "2020-04-30T12:42:43.364529Z"
    },
    "colab": {},
    "colab_type": "code",
    "id": "9BGkkJ2zIVK8"
   },
   "outputs": [],
   "source": [
    "# Split the dataset in to Train and Test\n",
    "(trainX, trainY), (testX, testY) = cifar10.load_data()"
   ]
  },
  {
   "cell_type": "code",
   "execution_count": 5,
   "metadata": {
    "ExecuteTime": {
     "end_time": "2020-04-30T12:42:44.069908Z",
     "start_time": "2020-04-30T12:42:44.065678Z"
    },
    "colab": {
     "base_uri": "https://localhost:8080/",
     "height": 85
    },
    "colab_type": "code",
    "executionInfo": {
     "elapsed": 3929,
     "status": "ok",
     "timestamp": 1588697497660,
     "user": {
      "displayName": "Pushkar Ravi",
      "photoUrl": "https://lh3.googleusercontent.com/a-/AOh14GhAlVyp71umOlByGfHeaFmwYdwtOU4ZKvLuG2zNnS0=s64",
      "userId": "16598848304287291961"
     },
     "user_tz": -330
    },
    "id": "xDoFeFNKIVLB",
    "outputId": "a8b767ba-cb8a-4215-b933-f12fc3cecdad"
   },
   "outputs": [
    {
     "name": "stdout",
     "output_type": "stream",
     "text": [
      "Train X = (50000, 32, 32, 3) \n",
      "Train Y = (50000, 1)\n",
      "Test X = (10000, 32, 32, 3) \n",
      "Test Y = (10000, 1)\n"
     ]
    }
   ],
   "source": [
    "# Summarize loaded dataset\n",
    "print('Train X = %s \\nTrain Y = %s' % (trainX.shape, trainY.shape))\n",
    "print('Test X = %s \\nTest Y = %s' % (testX.shape, testY.shape))"
   ]
  },
  {
   "cell_type": "code",
   "execution_count": 0,
   "metadata": {
    "ExecuteTime": {
     "end_time": "2020-04-30T12:42:44.585715Z",
     "start_time": "2020-04-30T12:42:44.083742Z"
    },
    "colab": {},
    "colab_type": "code",
    "id": "vAXUe3xTIVLK"
   },
   "outputs": [],
   "source": [
    "# Convert from integers to floats\n",
    "trainX = trainX.astype('float32')\n",
    "testX = testX.astype('float32')"
   ]
  },
  {
   "cell_type": "code",
   "execution_count": 0,
   "metadata": {
    "colab": {},
    "colab_type": "code",
    "id": "u1w2HiRAdGlz"
   },
   "outputs": [],
   "source": [
    "# Normalize\n",
    "trainX = trainX.astype('float32') / 255\n",
    "testX = testX.astype('float32') / 255"
   ]
  },
  {
   "cell_type": "markdown",
   "metadata": {
    "colab_type": "text",
    "id": "MVa-rcqRIVLT"
   },
   "source": [
    "### Question-2\n",
    "\n",
    "- Encoder\n",
    "    > - Input shape: (32,32,3)\n",
    "    > - First ConvLayer:\n",
    "        - Conv2D Layer with 64 Filters of (3,3)\n",
    "        - BatchNormalization layer\n",
    "        - Relu Activation\n",
    "        - 2D MaxpoolingLayer with (2,2) filter\n",
    "    > - Second Layer:\n",
    "        - Conv2d layer with 16 filters (3,3)\n",
    "        - BatchNormalization layer\n",
    "        - Relu Activation\n",
    "    > - Final Encoded as MaxPool with (2,2) with all previous layers"
   ]
  },
  {
   "cell_type": "code",
   "execution_count": 0,
   "metadata": {
    "colab": {},
    "colab_type": "code",
    "id": "uUK-XNn4XscP"
   },
   "outputs": [],
   "source": [
    "# placeholders for the input\n",
    "input_image = Input(shape=(32, 32, 3))"
   ]
  },
  {
   "cell_type": "code",
   "execution_count": 0,
   "metadata": {
    "colab": {},
    "colab_type": "code",
    "id": "gddRs_7C8pfw"
   },
   "outputs": [],
   "source": [
    "# Convolutional Encoder\n",
    "\n",
    "# first convolutional layer\n",
    "conv1_1 = Conv2D(64, (3, 3), activation='relu', padding='same')(input_image)\n",
    "BatchNormalization()\n",
    "mpool1_1 = MaxPooling2D((2, 2), padding='same')(conv1_1)\n",
    "\n",
    "# second convolutional\n",
    "conv1_2 = Conv2D(16, (3, 3), activation='relu', padding='same')(mpool1_1)\n",
    "BatchNormalization()\n",
    "\n",
    "encoder = MaxPooling2D((2, 2), padding='same')(conv1_2)"
   ]
  },
  {
   "cell_type": "markdown",
   "metadata": {
    "colab_type": "text",
    "id": "4mM5V89ax9vO"
   },
   "source": [
    "- Decoder\n",
    "    > - Input shape: encoder output\n",
    "    > - First ConvLayer:\n",
    "        - Conv2D Layer with 16 Filters of (3,3)\n",
    "        - BatchNormalization layer\n",
    "        - Relu Activation\n",
    "        - UpSampling2D with (2,2) filter\n",
    "    > - Second Layer:\n",
    "        - Conv2D Layer with 32 Filters of (3,3)\n",
    "        - BatchNormalization layer\n",
    "        - Relu Activation\n",
    "        - UpSampling2D with (2,2) filter\n",
    "    > - Final Decoded as Sigmoid with all previous layers"
   ]
  },
  {
   "cell_type": "code",
   "execution_count": 0,
   "metadata": {
    "colab": {},
    "colab_type": "code",
    "id": "Zz_EiMcs9b7Q"
   },
   "outputs": [],
   "source": [
    "# Convolutional Decoder\n",
    "\n",
    "# first convolutional layer\n",
    "conv2_1 = Conv2D(16, (3, 3), activation='relu', padding='same')(encoder)\n",
    "BatchNormalization()\n",
    "up1_1 = UpSampling2D((2, 2))(conv2_1)\n",
    "\n",
    "# second convolutional layer\n",
    "conv2_2 = Conv2D(32, (3, 3), activation='relu', padding='same')(up1_1)\n",
    "BatchNormalization()\n",
    "up2_1 = UpSampling2D((2, 2))(conv2_2)\n",
    "\n",
    "decoder = Conv2D(3, (3, 3), activation='sigmoid', padding='same')(up2_1)"
   ]
  },
  {
   "cell_type": "markdown",
   "metadata": {
    "colab_type": "text",
    "id": "KwXYcWuzc8_5"
   },
   "source": [
    "### Question 3 - Compile and fit model:\n",
    "- Model:\n",
    "- Pass input_img, decoded\n",
    "    - model = Model(input_img, decoded)\n",
    "- Compile:\n",
    "    - Optimizer: \"adam\"\n",
    "    - Loss = \"binary_crossentropy\"\n",
    "- Fit:\n",
    "    - batch_size = 1000\n",
    "    - epochs = 50"
   ]
  },
  {
   "cell_type": "code",
   "execution_count": 0,
   "metadata": {
    "ExecuteTime": {
     "end_time": "2020-04-30T12:42:44.806936Z",
     "start_time": "2020-04-30T12:42:44.608586Z"
    },
    "colab": {},
    "colab_type": "code",
    "id": "7CrJQYrnIVLY"
   },
   "outputs": [],
   "source": [
    "# the model that takes an input image and\n",
    "# returns the images generated by the decoder, which is reconstructed images\n",
    "\n",
    "model = Model(input_image, decoder)"
   ]
  },
  {
   "cell_type": "code",
   "execution_count": 0,
   "metadata": {
    "colab": {},
    "colab_type": "code",
    "id": "SM4xTUNlfYgg"
   },
   "outputs": [],
   "source": [
    "# compile\n",
    "model.compile(optimizer='adam', loss='binary_crossentropy')"
   ]
  },
  {
   "cell_type": "code",
   "execution_count": 13,
   "metadata": {
    "colab": {
     "base_uri": "https://localhost:8080/",
     "height": 493
    },
    "colab_type": "code",
    "executionInfo": {
     "elapsed": 2058,
     "status": "ok",
     "timestamp": 1588697508869,
     "user": {
      "displayName": "Pushkar Ravi",
      "photoUrl": "https://lh3.googleusercontent.com/a-/AOh14GhAlVyp71umOlByGfHeaFmwYdwtOU4ZKvLuG2zNnS0=s64",
      "userId": "16598848304287291961"
     },
     "user_tz": -330
    },
    "id": "rFmP_RtNQ6XT",
    "outputId": "9e401ead-3c88-4370-9ea6-c6beb4e95244"
   },
   "outputs": [
    {
     "name": "stdout",
     "output_type": "stream",
     "text": [
      "Model: \"model_1\"\n",
      "_________________________________________________________________\n",
      "Layer (type)                 Output Shape              Param #   \n",
      "=================================================================\n",
      "input_1 (InputLayer)         (None, 32, 32, 3)         0         \n",
      "_________________________________________________________________\n",
      "conv2d_1 (Conv2D)            (None, 32, 32, 64)        1792      \n",
      "_________________________________________________________________\n",
      "max_pooling2d_1 (MaxPooling2 (None, 16, 16, 64)        0         \n",
      "_________________________________________________________________\n",
      "conv2d_2 (Conv2D)            (None, 16, 16, 16)        9232      \n",
      "_________________________________________________________________\n",
      "max_pooling2d_2 (MaxPooling2 (None, 8, 8, 16)          0         \n",
      "_________________________________________________________________\n",
      "conv2d_3 (Conv2D)            (None, 8, 8, 16)          2320      \n",
      "_________________________________________________________________\n",
      "up_sampling2d_1 (UpSampling2 (None, 16, 16, 16)        0         \n",
      "_________________________________________________________________\n",
      "conv2d_4 (Conv2D)            (None, 16, 16, 32)        4640      \n",
      "_________________________________________________________________\n",
      "up_sampling2d_2 (UpSampling2 (None, 32, 32, 32)        0         \n",
      "_________________________________________________________________\n",
      "conv2d_5 (Conv2D)            (None, 32, 32, 3)         867       \n",
      "=================================================================\n",
      "Total params: 18,851\n",
      "Trainable params: 18,851\n",
      "Non-trainable params: 0\n",
      "_________________________________________________________________\n"
     ]
    }
   ],
   "source": [
    "model.summary()"
   ]
  },
  {
   "cell_type": "code",
   "execution_count": 14,
   "metadata": {
    "colab": {
     "base_uri": "https://localhost:8080/",
     "height": 1000
    },
    "colab_type": "code",
    "executionInfo": {
     "elapsed": 2030,
     "status": "ok",
     "timestamp": 1588697508870,
     "user": {
      "displayName": "Pushkar Ravi",
      "photoUrl": "https://lh3.googleusercontent.com/a-/AOh14GhAlVyp71umOlByGfHeaFmwYdwtOU4ZKvLuG2zNnS0=s64",
      "userId": "16598848304287291961"
     },
     "user_tz": -330
    },
    "id": "kQIjk34_iNzY",
    "outputId": "680234e8-ebb8-409f-ad65-ab07da71dc7b"
   },
   "outputs": [
    {
     "data": {
      "image/png": "[encoded data removed]",
      "text/plain": [
       "<IPython.core.display.Image object>"
      ]
     },
     "execution_count": 14,
     "metadata": {
      "tags": []
     },
     "output_type": "execute_result"
    }
   ],
   "source": [
    "plot_model(model, to_file='model_plot.png', show_shapes=True, show_layer_names=True, expand_nested=True)"
   ]
  },
  {
   "cell_type": "code",
   "execution_count": 0,
   "metadata": {
    "colab": {},
    "colab_type": "code",
    "id": "M-ho9gEYgzDy"
   },
   "outputs": [],
   "source": [
    "# from IPython.display import SVG\n",
    "# from keras.utils.vis_utils import model_to_dot\n",
    "\n",
    "# SVG(model_to_dot(model).create(prog='dot', format='svg'))"
   ]
  },
  {
   "cell_type": "code",
   "execution_count": 16,
   "metadata": {
    "colab": {
     "base_uri": "https://localhost:8080/",
     "height": 1000
    },
    "colab_type": "code",
    "executionInfo": {
     "elapsed": 164167,
     "status": "ok",
     "timestamp": 1588697671201,
     "user": {
      "displayName": "Pushkar Ravi",
      "photoUrl": "https://lh3.googleusercontent.com/a-/AOh14GhAlVyp71umOlByGfHeaFmwYdwtOU4ZKvLuG2zNnS0=s64",
      "userId": "16598848304287291961"
     },
     "user_tz": -330
    },
    "id": "F5xOO__RIVLi",
    "outputId": "ee012a75-106a-411d-bc35-a25055d4d3a8"
   },
   "outputs": [
    {
     "name": "stdout",
     "output_type": "stream",
     "text": [
      "Train on 50000 samples, validate on 10000 samples\n",
      "Epoch 1/50\n",
      " - 5s - loss: 0.6280 - val_loss: 0.5907\n",
      "Epoch 2/50\n",
      " - 3s - loss: 0.5841 - val_loss: 0.5805\n",
      "Epoch 3/50\n",
      " - 3s - loss: 0.5776 - val_loss: 0.5763\n",
      "Epoch 4/50\n",
      " - 3s - loss: 0.5738 - val_loss: 0.5734\n",
      "Epoch 5/50\n",
      " - 3s - loss: 0.5712 - val_loss: 0.5712\n",
      "Epoch 6/50\n",
      " - 3s - loss: 0.5693 - val_loss: 0.5689\n",
      "Epoch 7/50\n",
      " - 3s - loss: 0.5678 - val_loss: 0.5677\n",
      "Epoch 8/50\n",
      " - 3s - loss: 0.5668 - val_loss: 0.5669\n",
      "Epoch 9/50\n",
      " - 3s - loss: 0.5658 - val_loss: 0.5661\n",
      "Epoch 10/50\n",
      " - 3s - loss: 0.5654 - val_loss: 0.5657\n",
      "Epoch 11/50\n",
      " - 3s - loss: 0.5646 - val_loss: 0.5665\n",
      "Epoch 12/50\n",
      " - 3s - loss: 0.5643 - val_loss: 0.5650\n",
      "Epoch 13/50\n",
      " - 3s - loss: 0.5640 - val_loss: 0.5647\n",
      "Epoch 14/50\n",
      " - 3s - loss: 0.5636 - val_loss: 0.5641\n",
      "Epoch 15/50\n",
      " - 3s - loss: 0.5632 - val_loss: 0.5638\n",
      "Epoch 16/50\n",
      " - 3s - loss: 0.5636 - val_loss: 0.5636\n",
      "Epoch 17/50\n",
      " - 3s - loss: 0.5626 - val_loss: 0.5635\n",
      "Epoch 18/50\n",
      " - 3s - loss: 0.5626 - val_loss: 0.5636\n",
      "Epoch 19/50\n",
      " - 3s - loss: 0.5625 - val_loss: 0.5633\n",
      "Epoch 20/50\n",
      " - 3s - loss: 0.5622 - val_loss: 0.5637\n",
      "Epoch 21/50\n",
      " - 3s - loss: 0.5620 - val_loss: 0.5626\n",
      "Epoch 22/50\n",
      " - 3s - loss: 0.5617 - val_loss: 0.5624\n",
      "Epoch 23/50\n",
      " - 3s - loss: 0.5618 - val_loss: 0.5623\n",
      "Epoch 24/50\n",
      " - 3s - loss: 0.5615 - val_loss: 0.5622\n",
      "Epoch 25/50\n",
      " - 3s - loss: 0.5613 - val_loss: 0.5625\n",
      "Epoch 26/50\n",
      " - 3s - loss: 0.5612 - val_loss: 0.5620\n",
      "Epoch 27/50\n",
      " - 3s - loss: 0.5612 - val_loss: 0.5619\n",
      "Epoch 28/50\n",
      " - 3s - loss: 0.5608 - val_loss: 0.5619\n",
      "Epoch 29/50\n",
      " - 3s - loss: 0.5611 - val_loss: 0.5615\n",
      "Epoch 30/50\n",
      " - 3s - loss: 0.5607 - val_loss: 0.5614\n",
      "Epoch 31/50\n",
      " - 3s - loss: 0.5608 - val_loss: 0.5614\n",
      "Epoch 32/50\n",
      " - 3s - loss: 0.5604 - val_loss: 0.5612\n",
      "Epoch 33/50\n",
      " - 3s - loss: 0.5607 - val_loss: 0.5614\n",
      "Epoch 34/50\n",
      " - 3s - loss: 0.5603 - val_loss: 0.5610\n",
      "Epoch 35/50\n",
      " - 3s - loss: 0.5603 - val_loss: 0.5614\n",
      "Epoch 36/50\n",
      " - 3s - loss: 0.5602 - val_loss: 0.5609\n",
      "Epoch 37/50\n",
      " - 3s - loss: 0.5604 - val_loss: 0.5610\n",
      "Epoch 38/50\n",
      " - 3s - loss: 0.5599 - val_loss: 0.5607\n",
      "Epoch 39/50\n",
      " - 3s - loss: 0.5602 - val_loss: 0.5607\n",
      "Epoch 40/50\n",
      " - 3s - loss: 0.5598 - val_loss: 0.5605\n",
      "Epoch 41/50\n",
      " - 3s - loss: 0.5599 - val_loss: 0.5606\n",
      "Epoch 42/50\n",
      " - 3s - loss: 0.5600 - val_loss: 0.5613\n",
      "Epoch 43/50\n",
      " - 3s - loss: 0.5597 - val_loss: 0.5603\n",
      "Epoch 44/50\n",
      " - 3s - loss: 0.5595 - val_loss: 0.5604\n",
      "Epoch 45/50\n",
      " - 3s - loss: 0.5596 - val_loss: 0.5603\n",
      "Epoch 46/50\n",
      " - 3s - loss: 0.5595 - val_loss: 0.5602\n",
      "Epoch 47/50\n",
      " - 3s - loss: 0.5598 - val_loss: 0.5602\n",
      "Epoch 48/50\n",
      " - 3s - loss: 0.5592 - val_loss: 0.5601\n",
      "Epoch 49/50\n",
      " - 3s - loss: 0.5592 - val_loss: 0.5600\n",
      "Epoch 50/50\n",
      " - 3s - loss: 0.5597 - val_loss: 0.5599\n"
     ]
    }
   ],
   "source": [
    "history = model.fit(trainX, trainX,\n",
    "                    epochs=50,\n",
    "                    batch_size=1000,\n",
    "                    shuffle=True,\n",
    "                    verbose=2,\n",
    "                    validation_data=(testX, testX)\n",
    "                    )"
   ]
  },
  {
   "cell_type": "code",
   "execution_count": 17,
   "metadata": {
    "colab": {
     "base_uri": "https://localhost:8080/",
     "height": 295
    },
    "colab_type": "code",
    "executionInfo": {
     "elapsed": 164157,
     "status": "ok",
     "timestamp": 1588697671203,
     "user": {
      "displayName": "Pushkar Ravi",
      "photoUrl": "https://lh3.googleusercontent.com/a-/AOh14GhAlVyp71umOlByGfHeaFmwYdwtOU4ZKvLuG2zNnS0=s64",
      "userId": "16598848304287291961"
     },
     "user_tz": -330
    },
    "id": "DgUPxzW1IVLm",
    "outputId": "fb326ec0-35e0-4c99-cb70-ade65ab62014"
   },
   "outputs": [
    {
     "data": {
      "image/png": "[encoded data removed]",
      "text/plain": [
       "<Figure size 432x288 with 1 Axes>"
      ]
     },
     "metadata": {
      "needs_background": "light",
      "tags": []
     },
     "output_type": "display_data"
    }
   ],
   "source": [
    "plt.plot(history.history['loss'])\n",
    "plt.plot(history.history['val_loss'])\n",
    "plt.title('Training and Validation Loss')\n",
    "plt.ylabel('Loss')\n",
    "plt.xlabel('Epochs')\n",
    "plt.legend(['Train', 'Test'], loc='upper right')\n",
    "plt.show()"
   ]
  }
 ],
 "metadata": {
  "accelerator": "GPU",
  "colab": {
   "collapsed_sections": [],
   "name": "A18_FINAL.ipynb",
   "provenance": []
  },
  "kernelspec": {
   "display_name": "Python 3",
   "language": "python",
   "name": "python3"
  },
  "language_info": {
   "codemirror_mode": {
    "name": "ipython",
    "version": 3
   },
   "file_extension": ".py",
   "mimetype": "text/x-python",
   "name": "python",
   "nbconvert_exporter": "python",
   "pygments_lexer": "ipython3",
   "version": "3.7.7"
  },
  "varInspector": {
   "cols": {
    "lenName": 16,
    "lenType": 16,
    "lenVar": 40
   },
   "kernels_config": {
    "python": {
     "delete_cmd_postfix": "",
     "delete_cmd_prefix": "del ",
     "library": "var_list.py",
     "varRefreshCmd": "print(var_dic_list())"
    },
    "r": {
     "delete_cmd_postfix": ") ",
     "delete_cmd_prefix": "rm(",
     "library": "var_list.r",
     "varRefreshCmd": "cat(var_dic_list()) "
    }
   },
   "types_to_exclude": [
    "module",
    "function",
    "builtin_function_or_method",
    "instance",
    "_Feature"
   ],
   "window_display": false
  }
 },
 "nbformat": 4,
 "nbformat_minor": 1
}
