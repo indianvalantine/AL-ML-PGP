{
 "cells": [
  {
   "attachments": {},
   "cell_type": "markdown",
   "metadata": {
    "colab_type": "text",
    "id": "77hEWuwQbMGl"
   },
   "source": [
    "### CNN Model on fer2013 (Face Images Dataset)\n",
    "\n",
    "---\n",
    "\n",
    "**Problem Statement**\n",
    "\n",
    "- The data consists of 48x48 pixel grayscale images of faces. \n",
    "- The faces have been automatically registered so that the face is more or less centred and occupies about the same amount of space in each image. \n",
    "- The task is to categorize each face based on the emotion shown in the facial expression into one of seven categories\n",
    "    - 0 = Angry\n",
    "    - 1 = Disgust\n",
    "    - 2 = Fear\n",
    "    - 3 = Happy\n",
    "    - 4 = Sad\n",
    "    - 5 = Surprise\n",
    "    - 6 = Neutral\n",
    "\n",
    "\n",
    "**Dataset** \n",
    "- Download [Dataset-Fer2013.csv](https://www.dropbox.com/s/n8bninud94blch4/fer2013.csv)\n",
    "- The dataset consists of 28,709 examples.\n",
    "- `Fer2013.csv` - Two columns -- \"emotion\" and \"pixels\". \n",
    "- The `emotion` column contains a numeric code ranging from 0 to 6, inclusive, for the emotion that is present in the image. \n",
    "- The `pixels` column contains a string surrounded in quotes for each image. The contents of this string a space-separated pixel values in row major order.\n",
    "- This dataset was prepared by Pierre-Luc Carrier and Aaron Courville, as part of an ongoing research project.\n",
    "\n",
    "---\n",
    "\n",
    "**Question 1** - Reshape and Normalize the data\n",
    "- Hint\n",
    "  - Split pixels by space to get columns\n",
    "  - reshape the input image\n",
    "      - 48, 48 ,1\n",
    "  - change the type of data to float32\n",
    "\n",
    "---\n",
    "\n",
    "**Question 2** - Normalize & Train_Test Split\n",
    "- Hint\n",
    "    - Normalize the data by dividing with 255\n",
    "    - Split data into train and test (90,10)\n",
    "    - Initiate the training\n",
    "       \n",
    "---\n",
    "\n",
    "**Question 3** - Define CNN Model:\n",
    "   - Layer 1\n",
    "       - 2 Conv2d with 64 filters of 5,5 filter\n",
    "       - BatchNormalization layer\n",
    "       - Max Pooling layer with 2,2\n",
    "       - Activation relu\n",
    "   - Layer 2\n",
    "       - 2 Conv2d with 128 filters of 5,5 filter\n",
    "       - BatchNormalization layer\n",
    "       - Max Pooling layer with 2,2\n",
    "       - Activation relu\n",
    "   - Layer 3\n",
    "       - 2 Conv2d with 256 filters of 3,3 filter\n",
    "       - BatchNormalization layer\n",
    "       - Max Pooling layer with 2,2\n",
    "       - Activation relu\n",
    "   - Layer 4\n",
    "       - Flatten layer\n",
    "       - Dense Layer with 128 Neuron\n",
    "       - BatchNormalization\n",
    "       - Activation Relu\n",
    "       - Dropout 0.25\n",
    "       - Dense 7 neurons with Softmax\n",
    "   - Loss: Categorical cross-entropy\n",
    "   - Optimizer: Adam\n",
    "\n",
    "|          **Layer (type)**     |        **Output Shape**    |**Param #** |\n",
    "|:-----------------------------:|:--------------------------:|:-------:|\n",
    "|       conv2d_1 (Conv2D)       |     (None, 48, 48, 64)     |   1664  |\n",
    "|       conv2d_2 (Conv2D)       |     (None, 48, 48, 64)     |  102464 |\n",
    "| batch_normalization_1 (Batch) |     (None, 48, 48, 64)     |   256   |\n",
    "| max_pooling2d_1 (MaxPooling2) |     (None, 24, 24, 64)     |    0    |\n",
    "|       conv2d_3 (Conv2D)       |     (None, 24, 24, 128)    |  204928 |\n",
    "|       conv2d_4 (Conv2D)       |     (None, 24, 24, 128)    |  409728 |\n",
    "| batch_normalization_2 (Batch) |     (None, 24, 24, 128)    |   512   |\n",
    "| max_pooling2d_2 (MaxPooling2) |     (None, 12, 12, 128)    |    0    |\n",
    "|       conv2d_5 (Conv2D)       |     (None, 12, 12, 256)    |  295168 |\n",
    "|       conv2d_6 (Conv2D)       |     (None, 12, 12, 256)    |  590080 |\n",
    "|     batch_normalization_3     | (Batch (None, 12, 12, 256) |   1024  |\n",
    "| max_pooling2d_3 (MaxPooling2) |      (None, 6, 6, 256)     |    0    |\n",
    "|      flatten_1 (Flatten)      |        (None, 9216)        |    0    |\n",
    "|        dense_1 (Dense)        |         (None, 128)        | 1179776 |\n",
    "|     batch_normalization_4     |     (Batch (None, 128)     |   512   |\n",
    "|   activation_1 (Activation)   |         (None, 128)        |    0    |\n",
    "|      dropout_1 (Dropout)      |         (None, 128)        |    0    |\n",
    "|        dense_2 (Dense)        |          (None, 7)         |   903   |\n",
    "|   activation_2 (Activation)   |          (None, 7)         |    0    |\n",
    "\n",
    "\n",
    "Total params: 2,787,015 <br>\n",
    "Trainable params: 2,785,863 <br>\n",
    "Non-trainable params: 1,152\n",
    "\n",
    "---\n",
    "\n",
    "**Question 4** - Fit CNN Model:\n",
    "- Hint\n",
    "  - Epoch = 20\n",
    "  - Batch_size = 64\n",
    "  - Lr = 1e-3 (0.001)\n",
    "        \n",
    "---\n",
    "\n",
    "**Question 5** - Draw confusion matrix for the trained model.\n",
    "- Hint\n",
    "  - Use model.predict_classes\n",
    "  - Use np.argmax(y_test,axis=1)\n",
    "\n",
    "---\n",
    "\n",
    "**Question 6** - Save the model to external .h5 File\n",
    "\n",
    "---\n",
    "\n",
    "**Question 7** - Convert the saved model to .pb model\n",
    "- Hint\n",
    "  - Use the free_session function to convert\n",
    "  - Create keras session: sess = K.get_session()\n",
    "  - Use tf.train.write_graph to convert frozen graph as .pb"
   ]
  },
  {
   "cell_type": "markdown",
   "metadata": {
    "colab_type": "text",
    "id": "I8Z6cvlnO80K"
   },
   "source": [
    "### Selecting Tensorflow v1 -- Applicable only for Google Colab"
   ]
  },
  {
   "cell_type": "code",
   "execution_count": 1,
   "metadata": {
    "colab": {
     "base_uri": "https://localhost:8080/",
     "height": 34
    },
    "colab_type": "code",
    "executionInfo": {
     "elapsed": 3955,
     "status": "ok",
     "timestamp": 1586429446118,
     "user": {
      "displayName": "Pushkar Ravi",
      "photoUrl": "https://lh3.googleusercontent.com/a-/AOh14GhAlVyp71umOlByGfHeaFmwYdwtOU4ZKvLuG2zNnS0=s64",
      "userId": "16598848304287291961"
     },
     "user_tz": -330
    },
    "id": "QBCLLLMnO80L",
    "outputId": "caaa5de3-5f22-43df-8533-c77f639063da"
   },
   "outputs": [
    {
     "name": "stdout",
     "output_type": "stream",
     "text": [
      "TensorFlow 1.x selected.\n"
     ]
    }
   ],
   "source": [
    "%tensorflow_version 1.x"
   ]
  },
  {
   "cell_type": "markdown",
   "metadata": {
    "colab_type": "text",
    "id": "fqdbEG19O80P"
   },
   "source": [
    "### Mounting Google Drive"
   ]
  },
  {
   "cell_type": "code",
   "execution_count": 2,
   "metadata": {
    "colab": {
     "base_uri": "https://localhost:8080/",
     "height": 34
    },
    "colab_type": "code",
    "executionInfo": {
     "elapsed": 3941,
     "status": "ok",
     "timestamp": 1586429446119,
     "user": {
      "displayName": "Pushkar Ravi",
      "photoUrl": "https://lh3.googleusercontent.com/a-/AOh14GhAlVyp71umOlByGfHeaFmwYdwtOU4ZKvLuG2zNnS0=s64",
      "userId": "16598848304287291961"
     },
     "user_tz": -330
    },
    "id": "4q-tn6bvO80Q",
    "outputId": "21fbe717-ed1e-4c50-88d1-e6b07dc8b00b"
   },
   "outputs": [
    {
     "name": "stdout",
     "output_type": "stream",
     "text": [
      "Drive already mounted at /content/drive; to attempt to forcibly remount, call drive.mount(\"/content/drive\", force_remount=True).\n"
     ]
    }
   ],
   "source": [
    "from google.colab import drive\n",
    "drive.mount('/content/drive')"
   ]
  },
  {
   "cell_type": "markdown",
   "metadata": {
    "colab_type": "text",
    "id": "UOid_17KO80T"
   },
   "source": [
    "### Downloading the Dataset from Dropbox to local Google Drive"
   ]
  },
  {
   "cell_type": "code",
   "execution_count": 0,
   "metadata": {
    "colab": {},
    "colab_type": "code",
    "id": "kIRts7CxtqJP"
   },
   "outputs": [],
   "source": [
    "# Using wget, downloading file to Google Drive Path\n",
    "# !wget https://www.dropbox.com/s/n8bninud94blch4/fer2013.csv -P \"/content/drive/My Drive/Colab Notebooks/Dataset\""
   ]
  },
  {
   "cell_type": "markdown",
   "metadata": {
    "colab_type": "text",
    "id": "Ct_rE8ZwbMGm"
   },
   "source": [
    "### Importing Modules"
   ]
  },
  {
   "cell_type": "code",
   "execution_count": 4,
   "metadata": {
    "ExecuteTime": {
     "start_time": "2020-04-09T09:15:12.673Z"
    },
    "colab": {
     "base_uri": "https://localhost:8080/",
     "height": 34
    },
    "colab_type": "code",
    "executionInfo": {
     "elapsed": 3900,
     "status": "ok",
     "timestamp": 1586429448902,
     "user": {
      "displayName": "Pushkar Ravi",
      "photoUrl": "https://lh3.googleusercontent.com/a-/AOh14GhAlVyp71umOlByGfHeaFmwYdwtOU4ZKvLuG2zNnS0=s64",
      "userId": "16598848304287291961"
     },
     "user_tz": -330
    },
    "id": "HnNoVG2vbMGn",
    "outputId": "ecff3f2b-36b7-4187-d0ef-c3a031fbfbdb"
   },
   "outputs": [
    {
     "name": "stderr",
     "output_type": "stream",
     "text": [
      "Using TensorFlow backend.\n"
     ]
    }
   ],
   "source": [
    "import warnings\n",
    "warnings.filterwarnings('ignore')\n",
    "\n",
    "import numpy as np\n",
    "import pandas as pd\n",
    "import matplotlib.pyplot as plt\n",
    "import seaborn as sns\n",
    "from sklearn.metrics import classification_report, confusion_matrix\n",
    "\n",
    "import tensorflow as tf\n",
    "from keras.utils import to_categorical\n",
    "from keras.callbacks import EarlyStopping\n",
    "from keras.models import Sequential\n",
    "from keras.layers import Dense, Dropout, Activation, Flatten\n",
    "from keras.layers import Conv2D, MaxPooling2D, BatchNormalization\n",
    "from keras.losses import categorical_crossentropy\n",
    "from sklearn.metrics import accuracy_score\n",
    "from keras.optimizers import Adam\n",
    "from keras.regularizers import l2\n",
    "from keras.preprocessing.image import ImageDataGenerator"
   ]
  },
  {
   "cell_type": "markdown",
   "metadata": {
    "colab_type": "text",
    "id": "3dCTgD41O80c"
   },
   "source": [
    "#### # Importing the dataset into DataFrame"
   ]
  },
  {
   "cell_type": "code",
   "execution_count": 5,
   "metadata": {
    "colab": {
     "base_uri": "https://localhost:8080/",
     "height": 204
    },
    "colab_type": "code",
    "executionInfo": {
     "elapsed": 6023,
     "status": "ok",
     "timestamp": 1586429452199,
     "user": {
      "displayName": "Pushkar Ravi",
      "photoUrl": "https://lh3.googleusercontent.com/a-/AOh14GhAlVyp71umOlByGfHeaFmwYdwtOU4ZKvLuG2zNnS0=s64",
      "userId": "16598848304287291961"
     },
     "user_tz": -330
    },
    "id": "RkmP9xJ_bfSm",
    "outputId": "996f01db-76a1-4c4f-e758-f99c84424bbe"
   },
   "outputs": [
    {
     "data": {
      "text/html": [
       "<div>\n",
       "<style scoped>\n",
       "    .dataframe tbody tr th:only-of-type {\n",
       "        vertical-align: middle;\n",
       "    }\n",
       "\n",
       "    .dataframe tbody tr th {\n",
       "        vertical-align: top;\n",
       "    }\n",
       "\n",
       "    .dataframe thead th {\n",
       "        text-align: right;\n",
       "    }\n",
       "</style>\n",
       "<table border=\"1\" class=\"dataframe\">\n",
       "  <thead>\n",
       "    <tr style=\"text-align: right;\">\n",
       "      <th></th>\n",
       "      <th>emotion</th>\n",
       "      <th>pixels</th>\n",
       "      <th>Usage</th>\n",
       "    </tr>\n",
       "  </thead>\n",
       "  <tbody>\n",
       "    <tr>\n",
       "      <th>0</th>\n",
       "      <td>0</td>\n",
       "      <td>70 80 82 72 58 58 60 63 54 58 60 48 89 115 121...</td>\n",
       "      <td>Training</td>\n",
       "    </tr>\n",
       "    <tr>\n",
       "      <th>1</th>\n",
       "      <td>0</td>\n",
       "      <td>151 150 147 155 148 133 111 140 170 174 182 15...</td>\n",
       "      <td>Training</td>\n",
       "    </tr>\n",
       "    <tr>\n",
       "      <th>2</th>\n",
       "      <td>2</td>\n",
       "      <td>231 212 156 164 174 138 161 173 182 200 106 38...</td>\n",
       "      <td>Training</td>\n",
       "    </tr>\n",
       "    <tr>\n",
       "      <th>3</th>\n",
       "      <td>4</td>\n",
       "      <td>24 32 36 30 32 23 19 20 30 41 21 22 32 34 21 1...</td>\n",
       "      <td>Training</td>\n",
       "    </tr>\n",
       "    <tr>\n",
       "      <th>4</th>\n",
       "      <td>6</td>\n",
       "      <td>4 0 0 0 0 0 0 0 0 0 0 0 3 15 23 28 48 50 58 84...</td>\n",
       "      <td>Training</td>\n",
       "    </tr>\n",
       "  </tbody>\n",
       "</table>\n",
       "</div>"
      ],
      "text/plain": [
       "   emotion                                             pixels     Usage\n",
       "0        0  70 80 82 72 58 58 60 63 54 58 60 48 89 115 121...  Training\n",
       "1        0  151 150 147 155 148 133 111 140 170 174 182 15...  Training\n",
       "2        2  231 212 156 164 174 138 161 173 182 200 106 38...  Training\n",
       "3        4  24 32 36 30 32 23 19 20 30 41 21 22 32 34 21 1...  Training\n",
       "4        6  4 0 0 0 0 0 0 0 0 0 0 0 3 15 23 28 48 50 58 84...  Training"
      ]
     },
     "execution_count": 5,
     "metadata": {
      "tags": []
     },
     "output_type": "execute_result"
    }
   ],
   "source": [
    "data = pd.read_csv(\n",
    "    '/content/drive/My Drive/Colab Notebooks/Dataset/fer2013.csv')\n",
    "\n",
    "data.head(5)"
   ]
  },
  {
   "cell_type": "markdown",
   "metadata": {
    "colab_type": "text",
    "id": "SXZ10l7OO80g"
   },
   "source": [
    "#### Mapping emotion categorical values to the facial expression classes"
   ]
  },
  {
   "cell_type": "code",
   "execution_count": 0,
   "metadata": {
    "colab": {},
    "colab_type": "code",
    "id": "0d8hI1r4d-1Z"
   },
   "outputs": [],
   "source": [
    "emotion_map = {0: 'Angry', \n",
    "               1: 'Digust', \n",
    "               2: 'Fear',\n",
    "               3: 'Happy', \n",
    "               4: 'Sad', \n",
    "               5: 'Surprise', \n",
    "               6: 'Neutral'\n",
    "              }"
   ]
  },
  {
   "cell_type": "markdown",
   "metadata": {
    "colab_type": "text",
    "id": "fxE2AYVZO80l"
   },
   "source": [
    "#### Generating counts of uniques values for emotion classes"
   ]
  },
  {
   "cell_type": "code",
   "execution_count": 7,
   "metadata": {
    "colab": {
     "base_uri": "https://localhost:8080/",
     "height": 266
    },
    "colab_type": "code",
    "executionInfo": {
     "elapsed": 3403,
     "status": "ok",
     "timestamp": 1586429452201,
     "user": {
      "displayName": "Pushkar Ravi",
      "photoUrl": "https://lh3.googleusercontent.com/a-/AOh14GhAlVyp71umOlByGfHeaFmwYdwtOU4ZKvLuG2zNnS0=s64",
      "userId": "16598848304287291961"
     },
     "user_tz": -330
    },
    "id": "xxFMzztpO80l",
    "outputId": "70e1906b-ddc9-4046-ce99-b6d0eb1c90b1"
   },
   "outputs": [
    {
     "data": {
      "text/html": [
       "<div>\n",
       "<style scoped>\n",
       "    .dataframe tbody tr th:only-of-type {\n",
       "        vertical-align: middle;\n",
       "    }\n",
       "\n",
       "    .dataframe tbody tr th {\n",
       "        vertical-align: top;\n",
       "    }\n",
       "\n",
       "    .dataframe thead th {\n",
       "        text-align: right;\n",
       "    }\n",
       "</style>\n",
       "<table border=\"1\" class=\"dataframe\">\n",
       "  <thead>\n",
       "    <tr style=\"text-align: right;\">\n",
       "      <th></th>\n",
       "      <th>emotion</th>\n",
       "      <th>number</th>\n",
       "    </tr>\n",
       "  </thead>\n",
       "  <tbody>\n",
       "    <tr>\n",
       "      <th>0</th>\n",
       "      <td>Angry</td>\n",
       "      <td>4953</td>\n",
       "    </tr>\n",
       "    <tr>\n",
       "      <th>1</th>\n",
       "      <td>Digust</td>\n",
       "      <td>547</td>\n",
       "    </tr>\n",
       "    <tr>\n",
       "      <th>2</th>\n",
       "      <td>Fear</td>\n",
       "      <td>5121</td>\n",
       "    </tr>\n",
       "    <tr>\n",
       "      <th>3</th>\n",
       "      <td>Happy</td>\n",
       "      <td>8989</td>\n",
       "    </tr>\n",
       "    <tr>\n",
       "      <th>4</th>\n",
       "      <td>Sad</td>\n",
       "      <td>6077</td>\n",
       "    </tr>\n",
       "    <tr>\n",
       "      <th>5</th>\n",
       "      <td>Surprise</td>\n",
       "      <td>4002</td>\n",
       "    </tr>\n",
       "    <tr>\n",
       "      <th>6</th>\n",
       "      <td>Neutral</td>\n",
       "      <td>6198</td>\n",
       "    </tr>\n",
       "  </tbody>\n",
       "</table>\n",
       "</div>"
      ],
      "text/plain": [
       "    emotion  number\n",
       "0     Angry    4953\n",
       "1    Digust     547\n",
       "2      Fear    5121\n",
       "3     Happy    8989\n",
       "4       Sad    6077\n",
       "5  Surprise    4002\n",
       "6   Neutral    6198"
      ]
     },
     "execution_count": 7,
     "metadata": {
      "tags": []
     },
     "output_type": "execute_result"
    }
   ],
   "source": [
    "emotion_counts = data['emotion'].value_counts(sort=False).reset_index()\n",
    "emotion_counts.columns = ['emotion', 'number']\n",
    "emotion_counts['emotion'] = emotion_counts['emotion'].map(emotion_map)\n",
    "emotion_counts"
   ]
  },
  {
   "cell_type": "markdown",
   "metadata": {
    "ExecuteTime": {
     "end_time": "2020-04-09T09:13:47.181981Z",
     "start_time": "2020-04-09T09:13:47.179463Z"
    },
    "colab_type": "text",
    "id": "euldRBG4O80o"
   },
   "source": [
    "#### Bar graph of the class distributions"
   ]
  },
  {
   "cell_type": "code",
   "execution_count": 8,
   "metadata": {
    "colab": {
     "base_uri": "https://localhost:8080/",
     "height": 298
    },
    "colab_type": "code",
    "executionInfo": {
     "elapsed": 2593,
     "status": "ok",
     "timestamp": 1586429452201,
     "user": {
      "displayName": "Pushkar Ravi",
      "photoUrl": "https://lh3.googleusercontent.com/a-/AOh14GhAlVyp71umOlByGfHeaFmwYdwtOU4ZKvLuG2zNnS0=s64",
      "userId": "16598848304287291961"
     },
     "user_tz": -330
    },
    "id": "5FngiWHfO80p",
    "outputId": "17e46bba-1cae-4698-ed70-8242b10816b7"
   },
   "outputs": [
    {
     "data": {
      "image/png": "[encoded data removed]",
      "text/plain": [
       "<Figure size 432x288 with 1 Axes>"
      ]
     },
     "metadata": {
      "tags": []
     },
     "output_type": "display_data"
    }
   ],
   "source": [
    "plt.figure(figsize=(6,4))\n",
    "sns.barplot(emotion_counts.emotion, emotion_counts.number)\n",
    "plt.title('Class distribution')\n",
    "plt.ylabel('Number', fontsize=12)\n",
    "plt.xlabel('Emotions', fontsize=12)\n",
    "plt.show()"
   ]
  },
  {
   "cell_type": "markdown",
   "metadata": {
    "colab_type": "text",
    "id": "41COQGx1O80s"
   },
   "source": [
    "#### Split data into Training, Validation and Test set"
   ]
  },
  {
   "cell_type": "code",
   "execution_count": 9,
   "metadata": {
    "colab": {
     "base_uri": "https://localhost:8080/",
     "height": 68
    },
    "colab_type": "code",
    "executionInfo": {
     "elapsed": 2198,
     "status": "ok",
     "timestamp": 1586429452202,
     "user": {
      "displayName": "Pushkar Ravi",
      "photoUrl": "https://lh3.googleusercontent.com/a-/AOh14GhAlVyp71umOlByGfHeaFmwYdwtOU4ZKvLuG2zNnS0=s64",
      "userId": "16598848304287291961"
     },
     "user_tz": -330
    },
    "id": "bUDFaDJ3fLBx",
    "outputId": "f53571e8-5e3c-4f75-8f05-a35194db10bb"
   },
   "outputs": [
    {
     "name": "stdout",
     "output_type": "stream",
     "text": [
      "Train data shape: (28709, 3), \n",
      " Validation data shape: (3589, 3), \n",
      "Test data shape: (3589, 3)\n"
     ]
    }
   ],
   "source": [
    "data_train = data[data['Usage'] == 'Training'].copy()\n",
    "data_val = data[data['Usage'] == 'PublicTest'].copy()\n",
    "data_test = data[data['Usage'] == 'PrivateTest'].copy()\n",
    "\n",
    "print('Train data shape: {}, \\n Validation data shape: {}, \\nTest data shape: {}'.format(\n",
    "    data_train.shape, data_val.shape, data_test.shape))"
   ]
  },
  {
   "cell_type": "markdown",
   "metadata": {
    "colab_type": "text",
    "id": "t-MycM09O801"
   },
   "source": [
    "#### Hyper-parameters"
   ]
  },
  {
   "cell_type": "code",
   "execution_count": 0,
   "metadata": {
    "colab": {},
    "colab_type": "code",
    "id": "2MFP_5WqiSVl"
   },
   "outputs": [],
   "source": [
    "num_classes = 7 \n",
    "width, height = 48, 48\n",
    "num_epochs = 20\n",
    "batch_size = 64\n",
    "num_features = 64"
   ]
  },
  {
   "cell_type": "markdown",
   "metadata": {
    "colab_type": "text",
    "id": "6fHnyunGO804"
   },
   "source": [
    "#### CRNO stands for Convert, Reshape, Normalize, One-hot encoding\n",
    "- (i) convert strings to lists of integers\n",
    "- (ii) reshape and normalise grayscale image with 255.0\n",
    "- (iii) one-hot encoding label"
   ]
  },
  {
   "cell_type": "code",
   "execution_count": 12,
   "metadata": {
    "colab": {
     "base_uri": "https://localhost:8080/",
     "height": 68
    },
    "colab_type": "code",
    "executionInfo": {
     "elapsed": 23004,
     "status": "ok",
     "timestamp": 1586429474464,
     "user": {
      "displayName": "Pushkar Ravi",
      "photoUrl": "https://lh3.googleusercontent.com/a-/AOh14GhAlVyp71umOlByGfHeaFmwYdwtOU4ZKvLuG2zNnS0=s64",
      "userId": "16598848304287291961"
     },
     "user_tz": -330
    },
    "id": "bm-8lobYhCK8",
    "outputId": "667fa393-83f6-48d4-ad28-ce62fb49bc45"
   },
   "outputs": [
    {
     "name": "stdout",
     "output_type": "stream",
     "text": [
      "Train _X shape: {},  Train _Y shape: (28709, 48, 48, 1)\n",
      "Validation _X shape: {},  Validation _Y shape: (3589, 48, 48, 1)\n",
      "Test _X shape: {},  Test _Y shape: (3589, 48, 48, 1)\n"
     ]
    }
   ],
   "source": [
    "def CRNO(df, dataName):\n",
    "    df['pixels'] = df['pixels'].apply(lambda pixel_sequence: [int(pixel) for pixel in pixel_sequence.split()])\n",
    "    data_X = np.array(df['pixels'].tolist(), dtype='float32').reshape(-1,width, height,1)/255.0   \n",
    "    data_Y = to_categorical(df['emotion'], num_classes)  \n",
    "    print(dataName, '_X shape: {}, ', dataName, '_Y shape: {}'.format(data_X.shape, data_Y.shape))\n",
    "    return data_X, data_Y\n",
    "\n",
    "# training data    \n",
    "train_X, train_Y = CRNO(data_train, 'Train') \n",
    "\n",
    "# validation data\n",
    "val_X, val_Y     = CRNO(data_val, 'Validation') \n",
    "\n",
    "# test data\n",
    "test_X, test_Y   = CRNO(data_test, 'Test') "
   ]
  },
  {
   "cell_type": "markdown",
   "metadata": {
    "colab_type": "text",
    "id": "siYulLCx2W_J"
   },
   "source": [
    "## Building CNN Model"
   ]
  },
  {
   "cell_type": "markdown",
   "metadata": {
    "colab_type": "text",
    "id": "FKDhhXOGO808"
   },
   "source": [
    "#### Creating the layers"
   ]
  },
  {
   "cell_type": "code",
   "execution_count": 13,
   "metadata": {
    "colab": {
     "base_uri": "https://localhost:8080/",
     "height": 445
    },
    "colab_type": "code",
    "executionInfo": {
     "elapsed": 23904,
     "status": "ok",
     "timestamp": 1586429475829,
     "user": {
      "displayName": "Pushkar Ravi",
      "photoUrl": "https://lh3.googleusercontent.com/a-/AOh14GhAlVyp71umOlByGfHeaFmwYdwtOU4ZKvLuG2zNnS0=s64",
      "userId": "16598848304287291961"
     },
     "user_tz": -330
    },
    "id": "n0CapetN8E1G",
    "outputId": "14a74c13-44c9-439e-b3a4-41a785a2ef12"
   },
   "outputs": [
    {
     "name": "stdout",
     "output_type": "stream",
     "text": [
      "WARNING:tensorflow:From /usr/local/lib/python3.6/dist-packages/keras/backend/tensorflow_backend.py:66: The name tf.get_default_graph is deprecated. Please use tf.compat.v1.get_default_graph instead.\n",
      "\n",
      "WARNING:tensorflow:From /usr/local/lib/python3.6/dist-packages/keras/backend/tensorflow_backend.py:541: The name tf.placeholder is deprecated. Please use tf.compat.v1.placeholder instead.\n",
      "\n",
      "WARNING:tensorflow:From /usr/local/lib/python3.6/dist-packages/keras/backend/tensorflow_backend.py:4432: The name tf.random_uniform is deprecated. Please use tf.random.uniform instead.\n",
      "\n",
      "WARNING:tensorflow:From /usr/local/lib/python3.6/dist-packages/keras/backend/tensorflow_backend.py:190: The name tf.get_default_session is deprecated. Please use tf.compat.v1.get_default_session instead.\n",
      "\n",
      "WARNING:tensorflow:From /usr/local/lib/python3.6/dist-packages/keras/backend/tensorflow_backend.py:197: The name tf.ConfigProto is deprecated. Please use tf.compat.v1.ConfigProto instead.\n",
      "\n",
      "WARNING:tensorflow:From /usr/local/lib/python3.6/dist-packages/keras/backend/tensorflow_backend.py:203: The name tf.Session is deprecated. Please use tf.compat.v1.Session instead.\n",
      "\n",
      "WARNING:tensorflow:From /usr/local/lib/python3.6/dist-packages/keras/backend/tensorflow_backend.py:207: The name tf.global_variables is deprecated. Please use tf.compat.v1.global_variables instead.\n",
      "\n",
      "WARNING:tensorflow:From /usr/local/lib/python3.6/dist-packages/keras/backend/tensorflow_backend.py:216: The name tf.is_variable_initialized is deprecated. Please use tf.compat.v1.is_variable_initialized instead.\n",
      "\n",
      "WARNING:tensorflow:From /usr/local/lib/python3.6/dist-packages/keras/backend/tensorflow_backend.py:223: The name tf.variables_initializer is deprecated. Please use tf.compat.v1.variables_initializer instead.\n",
      "\n",
      "WARNING:tensorflow:From /usr/local/lib/python3.6/dist-packages/keras/backend/tensorflow_backend.py:2041: The name tf.nn.fused_batch_norm is deprecated. Please use tf.compat.v1.nn.fused_batch_norm instead.\n",
      "\n",
      "WARNING:tensorflow:From /usr/local/lib/python3.6/dist-packages/keras/backend/tensorflow_backend.py:148: The name tf.placeholder_with_default is deprecated. Please use tf.compat.v1.placeholder_with_default instead.\n",
      "\n",
      "WARNING:tensorflow:From /usr/local/lib/python3.6/dist-packages/keras/backend/tensorflow_backend.py:4267: The name tf.nn.max_pool is deprecated. Please use tf.nn.max_pool2d instead.\n",
      "\n"
     ]
    }
   ],
   "source": [
    "model = Sequential()\n",
    "\n",
    "# module 1 - filter = num_features = 64\n",
    "model.add(Conv2D(num_features, kernel_size=(\n",
    "    5, 5), input_shape=(width, height, 1)))\n",
    "\n",
    "model.add(BatchNormalization())\n",
    "model.add(Activation('relu'))\n",
    "model.add(Conv2D(num_features, kernel_size=(5, 5), padding='same'))\n",
    "model.add(BatchNormalization())\n",
    "model.add(Activation('relu'))\n",
    "model.add(MaxPooling2D(pool_size=(2, 2), strides=(2, 2)))\n",
    "\n",
    "# module 2 - filter = 2*num_features = 128\n",
    "model.add(Conv2D(2*num_features, kernel_size=(5, 5), padding='same'))\n",
    "model.add(BatchNormalization())\n",
    "model.add(Activation('relu'))\n",
    "model.add(Conv2D(2*num_features, kernel_size=(5, 5), padding='same'))\n",
    "model.add(BatchNormalization())\n",
    "model.add(Activation('relu'))\n",
    "model.add(MaxPooling2D(pool_size=(2, 2), strides=(2, 2)))\n",
    "\n",
    "# module 3 - filter = 2*2*num_features = 256\n",
    "model.add(Conv2D(2*2*num_features, kernel_size=(3, 3), padding='same'))\n",
    "model.add(BatchNormalization())\n",
    "model.add(Activation('relu'))\n",
    "model.add(Conv2D(2*2*num_features, kernel_size=(3, 3), padding='same'))\n",
    "model.add(BatchNormalization())\n",
    "model.add(Activation('relu'))\n",
    "model.add(MaxPooling2D(pool_size=(2, 2), strides=(2, 2)))\n",
    "\n",
    "# flatten\n",
    "model.add(Flatten())\n",
    "\n",
    "#dense 1\n",
    "model.add(Dense(2*2*2*num_features))\n",
    "model.add(BatchNormalization())\n",
    "model.add(Activation('relu'))\n",
    "\n",
    "#dense 2\n",
    "model.add(Dense(2*2*num_features))\n",
    "model.add(BatchNormalization())\n",
    "model.add(Activation('relu'))\n",
    "\n",
    "#dense 3\n",
    "model.add(Dense(2*num_features))\n",
    "model.add(BatchNormalization())\n",
    "model.add(Activation('relu'))\n",
    "\n",
    "#output layer\n",
    "model.add(Dense(num_classes, activation='softmax'))"
   ]
  },
  {
   "cell_type": "markdown",
   "metadata": {
    "colab_type": "text",
    "id": "UPcI0BqqO81A"
   },
   "source": [
    "#### Model Compliation"
   ]
  },
  {
   "cell_type": "code",
   "execution_count": 14,
   "metadata": {
    "colab": {
     "base_uri": "https://localhost:8080/",
     "height": 105
    },
    "colab_type": "code",
    "executionInfo": {
     "elapsed": 23412,
     "status": "ok",
     "timestamp": 1586429475830,
     "user": {
      "displayName": "Pushkar Ravi",
      "photoUrl": "https://lh3.googleusercontent.com/a-/AOh14GhAlVyp71umOlByGfHeaFmwYdwtOU4ZKvLuG2zNnS0=s64",
      "userId": "16598848304287291961"
     },
     "user_tz": -330
    },
    "id": "IwDRBEJe43hl",
    "outputId": "ab9ec16c-0f31-41b8-9296-e9070f55fc0b"
   },
   "outputs": [
    {
     "name": "stdout",
     "output_type": "stream",
     "text": [
      "WARNING:tensorflow:From /usr/local/lib/python3.6/dist-packages/keras/optimizers.py:793: The name tf.train.Optimizer is deprecated. Please use tf.compat.v1.train.Optimizer instead.\n",
      "\n",
      "WARNING:tensorflow:From /usr/local/lib/python3.6/dist-packages/keras/backend/tensorflow_backend.py:3576: The name tf.log is deprecated. Please use tf.math.log instead.\n",
      "\n"
     ]
    }
   ],
   "source": [
    "model.compile(loss='categorical_crossentropy',\n",
    "              optimizer=Adam(lr=0.001, \n",
    "                             beta_1=0.9, \n",
    "                             beta_2=0.999, \n",
    "                             epsilon=1e-7),\n",
    "              metrics=['accuracy'])"
   ]
  },
  {
   "cell_type": "code",
   "execution_count": 15,
   "metadata": {
    "colab": {
     "base_uri": "https://localhost:8080/",
     "height": 1000
    },
    "colab_type": "code",
    "executionInfo": {
     "elapsed": 22845,
     "status": "ok",
     "timestamp": 1586429475830,
     "user": {
      "displayName": "Pushkar Ravi",
      "photoUrl": "https://lh3.googleusercontent.com/a-/AOh14GhAlVyp71umOlByGfHeaFmwYdwtOU4ZKvLuG2zNnS0=s64",
      "userId": "16598848304287291961"
     },
     "user_tz": -330
    },
    "id": "jINwmQ2k45jJ",
    "outputId": "f48b26b8-e5c3-4f64-c3a9-897b72a4f321"
   },
   "outputs": [
    {
     "name": "stdout",
     "output_type": "stream",
     "text": [
      "Model: \"sequential_1\"\n",
      "_________________________________________________________________\n",
      "Layer (type)                 Output Shape              Param #   \n",
      "=================================================================\n",
      "conv2d_1 (Conv2D)            (None, 44, 44, 64)        1664      \n",
      "_________________________________________________________________\n",
      "batch_normalization_1 (Batch (None, 44, 44, 64)        256       \n",
      "_________________________________________________________________\n",
      "activation_1 (Activation)    (None, 44, 44, 64)        0         \n",
      "_________________________________________________________________\n",
      "conv2d_2 (Conv2D)            (None, 44, 44, 64)        102464    \n",
      "_________________________________________________________________\n",
      "batch_normalization_2 (Batch (None, 44, 44, 64)        256       \n",
      "_________________________________________________________________\n",
      "activation_2 (Activation)    (None, 44, 44, 64)        0         \n",
      "_________________________________________________________________\n",
      "max_pooling2d_1 (MaxPooling2 (None, 22, 22, 64)        0         \n",
      "_________________________________________________________________\n",
      "conv2d_3 (Conv2D)            (None, 22, 22, 128)       204928    \n",
      "_________________________________________________________________\n",
      "batch_normalization_3 (Batch (None, 22, 22, 128)       512       \n",
      "_________________________________________________________________\n",
      "activation_3 (Activation)    (None, 22, 22, 128)       0         \n",
      "_________________________________________________________________\n",
      "conv2d_4 (Conv2D)            (None, 22, 22, 128)       409728    \n",
      "_________________________________________________________________\n",
      "batch_normalization_4 (Batch (None, 22, 22, 128)       512       \n",
      "_________________________________________________________________\n",
      "activation_4 (Activation)    (None, 22, 22, 128)       0         \n",
      "_________________________________________________________________\n",
      "max_pooling2d_2 (MaxPooling2 (None, 11, 11, 128)       0         \n",
      "_________________________________________________________________\n",
      "conv2d_5 (Conv2D)            (None, 11, 11, 256)       295168    \n",
      "_________________________________________________________________\n",
      "batch_normalization_5 (Batch (None, 11, 11, 256)       1024      \n",
      "_________________________________________________________________\n",
      "activation_5 (Activation)    (None, 11, 11, 256)       0         \n",
      "_________________________________________________________________\n",
      "conv2d_6 (Conv2D)            (None, 11, 11, 256)       590080    \n",
      "_________________________________________________________________\n",
      "batch_normalization_6 (Batch (None, 11, 11, 256)       1024      \n",
      "_________________________________________________________________\n",
      "activation_6 (Activation)    (None, 11, 11, 256)       0         \n",
      "_________________________________________________________________\n",
      "max_pooling2d_3 (MaxPooling2 (None, 5, 5, 256)         0         \n",
      "_________________________________________________________________\n",
      "flatten_1 (Flatten)          (None, 6400)              0         \n",
      "_________________________________________________________________\n",
      "dense_1 (Dense)              (None, 512)               3277312   \n",
      "_________________________________________________________________\n",
      "batch_normalization_7 (Batch (None, 512)               2048      \n",
      "_________________________________________________________________\n",
      "activation_7 (Activation)    (None, 512)               0         \n",
      "_________________________________________________________________\n",
      "dense_2 (Dense)              (None, 256)               131328    \n",
      "_________________________________________________________________\n",
      "batch_normalization_8 (Batch (None, 256)               1024      \n",
      "_________________________________________________________________\n",
      "activation_8 (Activation)    (None, 256)               0         \n",
      "_________________________________________________________________\n",
      "dense_3 (Dense)              (None, 128)               32896     \n",
      "_________________________________________________________________\n",
      "batch_normalization_9 (Batch (None, 128)               512       \n",
      "_________________________________________________________________\n",
      "activation_9 (Activation)    (None, 128)               0         \n",
      "_________________________________________________________________\n",
      "dense_4 (Dense)              (None, 7)                 903       \n",
      "=================================================================\n",
      "Total params: 5,053,639\n",
      "Trainable params: 5,050,055\n",
      "Non-trainable params: 3,584\n",
      "_________________________________________________________________\n",
      "CPU times: user 6.62 ms, sys: 6.94 ms, total: 13.6 ms\n",
      "Wall time: 13.4 ms\n"
     ]
    }
   ],
   "source": [
    "%%time\n",
    "model.summary()"
   ]
  },
  {
   "cell_type": "code",
   "execution_count": 0,
   "metadata": {
    "colab": {},
    "colab_type": "code",
    "id": "kbIMPLTmhhb1"
   },
   "outputs": [],
   "source": [
    "# data generator\n",
    "data_generator = ImageDataGenerator(\n",
    "    featurewise_center=False,\n",
    "    featurewise_std_normalization=False,\n",
    "    rotation_range=10,\n",
    "    width_shift_range=0.1,\n",
    "    height_shift_range=0.1,\n",
    "    zoom_range=.1,\n",
    "    horizontal_flip=True)"
   ]
  },
  {
   "cell_type": "code",
   "execution_count": 0,
   "metadata": {
    "colab": {},
    "colab_type": "code",
    "id": "Z6_-BJjAPgYE"
   },
   "outputs": [],
   "source": [
    "# early stopping to avoid overfitting\n",
    "es = EarlyStopping(monitor='val_loss', patience=10,\n",
    "                   mode='min', restore_best_weights=True)"
   ]
  },
  {
   "cell_type": "code",
   "execution_count": 18,
   "metadata": {
    "colab": {
     "base_uri": "https://localhost:8080/",
     "height": 870
    },
    "colab_type": "code",
    "executionInfo": {
     "elapsed": 348432,
     "status": "ok",
     "timestamp": 1586429802812,
     "user": {
      "displayName": "Pushkar Ravi",
      "photoUrl": "https://lh3.googleusercontent.com/a-/AOh14GhAlVyp71umOlByGfHeaFmwYdwtOU4ZKvLuG2zNnS0=s64",
      "userId": "16598848304287291961"
     },
     "user_tz": -330
    },
    "id": "KYUdD2mtPgJ9",
    "outputId": "96e6d712-4077-4a59-84a7-c26d8b8cdfc0"
   },
   "outputs": [
    {
     "name": "stdout",
     "output_type": "stream",
     "text": [
      "WARNING:tensorflow:From /tensorflow-1.15.2/python3.6/tensorflow_core/python/ops/math_grad.py:1424: where (from tensorflow.python.ops.array_ops) is deprecated and will be removed in a future version.\n",
      "Instructions for updating:\n",
      "Use tf.where in 2.0, which has the same broadcast rule as np.where\n",
      "WARNING:tensorflow:From /usr/local/lib/python3.6/dist-packages/keras/backend/tensorflow_backend.py:1033: The name tf.assign_add is deprecated. Please use tf.compat.v1.assign_add instead.\n",
      "\n",
      "WARNING:tensorflow:From /usr/local/lib/python3.6/dist-packages/keras/backend/tensorflow_backend.py:1020: The name tf.assign is deprecated. Please use tf.compat.v1.assign instead.\n",
      "\n",
      "Epoch 1/20\n",
      " - 20s - loss: 1.6720 - acc: 0.3423 - val_loss: 1.5244 - val_acc: 0.3943\n",
      "Epoch 2/20\n",
      " - 16s - loss: 1.3860 - acc: 0.4637 - val_loss: 1.4150 - val_acc: 0.4581\n",
      "Epoch 3/20\n",
      " - 16s - loss: 1.2440 - acc: 0.5262 - val_loss: 1.4006 - val_acc: 0.4865\n",
      "Epoch 4/20\n",
      " - 16s - loss: 1.1703 - acc: 0.5565 - val_loss: 1.3274 - val_acc: 0.5104\n",
      "Epoch 5/20\n",
      " - 16s - loss: 1.1254 - acc: 0.5702 - val_loss: 1.2662 - val_acc: 0.5252\n",
      "Epoch 6/20\n",
      " - 16s - loss: 1.0831 - acc: 0.5890 - val_loss: 1.1120 - val_acc: 0.5745\n",
      "Epoch 7/20\n",
      " - 16s - loss: 1.0536 - acc: 0.6021 - val_loss: 1.2030 - val_acc: 0.5617\n",
      "Epoch 8/20\n",
      " - 16s - loss: 1.0247 - acc: 0.6129 - val_loss: 1.1676 - val_acc: 0.5659\n",
      "Epoch 9/20\n",
      " - 16s - loss: 0.9972 - acc: 0.6218 - val_loss: 1.0640 - val_acc: 0.5874\n",
      "Epoch 10/20\n",
      " - 16s - loss: 0.9742 - acc: 0.6355 - val_loss: 1.0859 - val_acc: 0.5993\n",
      "Epoch 11/20\n",
      " - 16s - loss: 0.9503 - acc: 0.6429 - val_loss: 1.0948 - val_acc: 0.6043\n",
      "Epoch 12/20\n",
      " - 16s - loss: 0.9313 - acc: 0.6534 - val_loss: 1.1059 - val_acc: 0.5954\n",
      "Epoch 13/20\n",
      " - 16s - loss: 0.9102 - acc: 0.6566 - val_loss: 1.0788 - val_acc: 0.5837\n",
      "Epoch 14/20\n",
      " - 16s - loss: 0.8913 - acc: 0.6650 - val_loss: 1.0015 - val_acc: 0.6344\n",
      "Epoch 15/20\n",
      " - 16s - loss: 0.8702 - acc: 0.6716 - val_loss: 1.0531 - val_acc: 0.6108\n",
      "Epoch 16/20\n",
      " - 16s - loss: 0.8547 - acc: 0.6761 - val_loss: 1.0335 - val_acc: 0.6261\n",
      "Epoch 17/20\n",
      " - 16s - loss: 0.8283 - acc: 0.6899 - val_loss: 1.1520 - val_acc: 0.5846\n",
      "Epoch 18/20\n",
      " - 16s - loss: 0.8139 - acc: 0.6917 - val_loss: 0.9907 - val_acc: 0.6342\n",
      "Epoch 19/20\n",
      " - 16s - loss: 0.7939 - acc: 0.7025 - val_loss: 1.0317 - val_acc: 0.6308\n",
      "Epoch 20/20\n",
      " - 16s - loss: 0.7799 - acc: 0.7094 - val_loss: 1.0263 - val_acc: 0.6311\n",
      "CPU times: user 9min 10s, sys: 40 s, total: 9min 50s\n",
      "Wall time: 5min 26s\n"
     ]
    }
   ],
   "source": [
    "%%time\n",
    "history = model.fit_generator(data_generator.flow(train_X, train_Y, batch_size),\n",
    "                              steps_per_epoch=len(train_X) / batch_size,\n",
    "                              epochs=num_epochs,\n",
    "                              verbose=2,\n",
    "                              callbacks=[es],\n",
    "                              validation_data=(val_X, val_Y))"
   ]
  },
  {
   "cell_type": "markdown",
   "metadata": {
    "colab_type": "text",
    "id": "TZath-z-O81M"
   },
   "source": [
    "#### Visualize Training Performance"
   ]
  },
  {
   "cell_type": "code",
   "execution_count": 19,
   "metadata": {
    "colab": {
     "base_uri": "https://localhost:8080/",
     "height": 404
    },
    "colab_type": "code",
    "executionInfo": {
     "elapsed": 347826,
     "status": "ok",
     "timestamp": 1586429802814,
     "user": {
      "displayName": "Pushkar Ravi",
      "photoUrl": "https://lh3.googleusercontent.com/a-/AOh14GhAlVyp71umOlByGfHeaFmwYdwtOU4ZKvLuG2zNnS0=s64",
      "userId": "16598848304287291961"
     },
     "user_tz": -330
    },
    "id": "mr_BIfBYO81M",
    "outputId": "0d9b6c68-14f9-4c1e-b772-eab0d22616b9"
   },
   "outputs": [
    {
     "data": {
      "image/png": "[encoded data removed]",
      "text/plain": [
       "<Figure size 1296x432 with 2 Axes>"
      ]
     },
     "metadata": {
      "tags": []
     },
     "output_type": "display_data"
    }
   ],
   "source": [
    "fig, axes = plt.subplots(1,2, figsize=(18, 6))\n",
    "# Plot training & validation accuracy values\n",
    "axes[0].plot(history.history['acc'])\n",
    "axes[0].plot(history.history['val_acc'])\n",
    "axes[0].set_title('Model accuracy')\n",
    "axes[0].set_ylabel('Accuracy')\n",
    "axes[0].set_xlabel('Epoch')\n",
    "axes[0].legend(['Train', 'Validation'], loc='upper left')\n",
    "\n",
    "# Plot training & validation loss values\n",
    "axes[1].plot(history.history['loss'])\n",
    "axes[1].plot(history.history['val_loss'])\n",
    "axes[1].set_title('Model loss')\n",
    "axes[1].set_ylabel('Loss')\n",
    "axes[1].set_xlabel('Epoch')\n",
    "axes[1].legend(['Train', 'Validation'], loc='upper left')\n",
    "plt.show()"
   ]
  },
  {
   "cell_type": "markdown",
   "metadata": {
    "colab_type": "text",
    "id": "pFDJXmziO81P"
   },
   "source": [
    "#### Evaluate Test Performance"
   ]
  },
  {
   "cell_type": "code",
   "execution_count": 20,
   "metadata": {
    "colab": {
     "base_uri": "https://localhost:8080/",
     "height": 34
    },
    "colab_type": "code",
    "executionInfo": {
     "elapsed": 348058,
     "status": "ok",
     "timestamp": 1586429803641,
     "user": {
      "displayName": "Pushkar Ravi",
      "photoUrl": "https://lh3.googleusercontent.com/a-/AOh14GhAlVyp71umOlByGfHeaFmwYdwtOU4ZKvLuG2zNnS0=s64",
      "userId": "16598848304287291961"
     },
     "user_tz": -330
    },
    "id": "M-e6h4aBO81Q",
    "outputId": "1aab56bb-bc49-4130-c598-f7479d1dac24"
   },
   "outputs": [
    {
     "name": "stdout",
     "output_type": "stream",
     "text": [
      "CNN Model Accuracy on test set: 0.6369\n"
     ]
    }
   ],
   "source": [
    "test_true = np.argmax(test_Y, axis=1)\n",
    "test_pred = np.argmax(model.predict(test_X), axis=1)\n",
    "\n",
    "print('CNN Model Accuracy on test set: {:.4f}'.format(\n",
    "    accuracy_score(test_true, test_pred)))"
   ]
  },
  {
   "cell_type": "markdown",
   "metadata": {
    "colab_type": "text",
    "id": "fWKBqzB0O81S"
   },
   "source": [
    "#### Analysis using Confusion Matrix\n",
    "- Confusion Matrix is applied and plotted to find out which emotion usually get confused with each other."
   ]
  },
  {
   "cell_type": "code",
   "execution_count": 0,
   "metadata": {
    "colab": {},
    "colab_type": "code",
    "id": "qCrg7oAjO81T"
   },
   "outputs": [],
   "source": [
    "def plot_confusion_matrix(y_true, y_pred, classes,\n",
    "                          normalize=False,\n",
    "                          title=None,\n",
    "                          cmap=plt.cm.PuRd):\n",
    "    \"\"\"\n",
    "    This function prints and plots the confusion matrix.\n",
    "    Normalization can be applied by setting `normalize=True`.\n",
    "    \"\"\"\n",
    "    if not title:\n",
    "        if normalize:\n",
    "            title = 'Normalized Confusion Matrix'\n",
    "        else:\n",
    "            title = 'Confusion Matrix, Without Normalization'\n",
    "\n",
    "    # Compute confusion matrix\n",
    "    cm = confusion_matrix(y_true, y_pred)\n",
    "    # Only use the labels that appear in the data\n",
    "    classes = classes\n",
    "    \n",
    "    if normalize:\n",
    "        cm = cm.astype('float') / cm.sum(axis=1)[:, np.newaxis]\n",
    "    \n",
    "    fig, ax = plt.subplots(figsize=(16, 8))\n",
    "    im = ax.imshow(cm, interpolation='nearest', cmap=cmap)\n",
    "    ax.figure.colorbar(im, ax=ax)\n",
    "    \n",
    "    # We want to show all ticks...\n",
    "    ax.set(xticks=np.arange(cm.shape[1]),\n",
    "           yticks=np.arange(cm.shape[0]),\n",
    "           # ... and label them with the respective list entries\n",
    "           xticklabels=classes, yticklabels=classes,\n",
    "           title=title,\n",
    "           ylabel='True Labels',\n",
    "           xlabel='Predicted Labels')\n",
    "\n",
    "    # Rotate the tick labels and set their alignment.\n",
    "    plt.setp(ax.get_xticklabels(), rotation=45, ha=\"right\",\n",
    "             rotation_mode=\"anchor\")\n",
    "\n",
    "    # Loop over data dimensions and create text annotations\n",
    "    fmt = '.2f' if normalize else 'd'\n",
    "    thresh = cm.max() / 2.\n",
    "    for i in range(cm.shape[0]):\n",
    "        for j in range(cm.shape[1]):\n",
    "            ax.text(j, i, format(cm[i, j], fmt),\n",
    "                    ha=\"center\", va=\"center\",\n",
    "                    color=\"white\" if cm[i, j] > thresh else \"black\")\n",
    "    fig.tight_layout()\n",
    "    return ax"
   ]
  },
  {
   "cell_type": "code",
   "execution_count": 22,
   "metadata": {
    "colab": {
     "base_uri": "https://localhost:8080/",
     "height": 585
    },
    "colab_type": "code",
    "executionInfo": {
     "elapsed": 348238,
     "status": "ok",
     "timestamp": 1586429804764,
     "user": {
      "displayName": "Pushkar Ravi",
      "photoUrl": "https://lh3.googleusercontent.com/a-/AOh14GhAlVyp71umOlByGfHeaFmwYdwtOU4ZKvLuG2zNnS0=s64",
      "userId": "16598848304287291961"
     },
     "user_tz": -330
    },
    "id": "kblvjtNBO81a",
    "outputId": "f1cde0e9-c1aa-40a9-c08c-0a42911dc357"
   },
   "outputs": [
    {
     "data": {
      "image/png": "[encoded data removed]",
      "text/plain": [
       "<Figure size 1152x576 with 2 Axes>"
      ]
     },
     "metadata": {
      "tags": []
     },
     "output_type": "display_data"
    }
   ],
   "source": [
    "# Plot normalized confusion matrix\n",
    "plot_confusion_matrix(test_true, test_pred, classes=emotion_labels,\n",
    "                      normalize=True, title='Normalized confusion matrix')\n",
    "\n",
    "plt.show()"
   ]
  },
  {
   "cell_type": "markdown",
   "metadata": {
    "colab_type": "text",
    "id": "BHKSfi8KO81c"
   },
   "source": [
    "#### Saving the Model in Google Drive"
   ]
  },
  {
   "cell_type": "code",
   "execution_count": 23,
   "metadata": {
    "colab": {
     "base_uri": "https://localhost:8080/",
     "height": 34
    },
    "colab_type": "code",
    "executionInfo": {
     "elapsed": 348304,
     "status": "ok",
     "timestamp": 1586429805254,
     "user": {
      "displayName": "Pushkar Ravi",
      "photoUrl": "https://lh3.googleusercontent.com/a-/AOh14GhAlVyp71umOlByGfHeaFmwYdwtOU4ZKvLuG2zNnS0=s64",
      "userId": "16598848304287291961"
     },
     "user_tz": -330
    },
    "id": "TiSpEmKeO81d",
    "outputId": "ae148872-df96-412b-a8d3-309f3e416278"
   },
   "outputs": [
    {
     "name": "stdout",
     "output_type": "stream",
     "text": [
      "Saved model to disk\n"
     ]
    }
   ],
   "source": [
    "from keras.models import model_from_json\n",
    "\n",
    "model_json = model.to_json()\n",
    "\n",
    "with open('/content/drive/My Drive/Colab Notebooks/Fer2013 Models/fer2013model.json', 'w') as json_file:\n",
    "    json_file.write(model_json)\n",
    "\n",
    "# Serialize weights to HDF5\n",
    "model.save_weights(\n",
    "    '/content/drive/My Drive/Colab Notebooks/Fer2013 Models/fer2013model.h5')\n",
    "\n",
    "print('Saved model to disk')"
   ]
  },
  {
   "cell_type": "markdown",
   "metadata": {
    "colab_type": "text",
    "id": "hRZO2ozkO81h"
   },
   "source": [
    "#### Converting the model to .pb file"
   ]
  },
  {
   "cell_type": "code",
   "execution_count": 0,
   "metadata": {
    "colab": {},
    "colab_type": "code",
    "id": "0njoBK2wO81i"
   },
   "outputs": [],
   "source": [
    "def freeze_session(session, keep_var_names=None, output_names=None, clear_devices=True):\n",
    "    from tensorflow.python.framework.graph_util import convert_variables_to_constants\n",
    "    graph = session.graph\n",
    "    \n",
    "    with graph.as_default():\n",
    "        \n",
    "        freeze_var_names = list(\n",
    "            set(v.op.name for v in tf.global_variables()).difference(keep_var_names or []))\n",
    "        \n",
    "        output_names = output_names or []\n",
    "        output_names += [v.op.name for v in tf.global_variables()]\n",
    "        input_graph_def = graph.as_graph_def()\n",
    "        \n",
    "        if clear_devices:\n",
    "            for node in input_graph_def.node:\n",
    "                node.device = \"\"\n",
    "        \n",
    "        frozen_graph = convert_variables_to_constants(session, input_graph_def,\n",
    "                                                      output_names, freeze_var_names)\n",
    "        return frozen_graph"
   ]
  },
  {
   "cell_type": "code",
   "execution_count": 25,
   "metadata": {
    "colab": {
     "base_uri": "https://localhost:8080/",
     "height": 190
    },
    "colab_type": "code",
    "executionInfo": {
     "elapsed": 348085,
     "status": "ok",
     "timestamp": 1586429805948,
     "user": {
      "displayName": "Pushkar Ravi",
      "photoUrl": "https://lh3.googleusercontent.com/a-/AOh14GhAlVyp71umOlByGfHeaFmwYdwtOU4ZKvLuG2zNnS0=s64",
      "userId": "16598848304287291961"
     },
     "user_tz": -330
    },
    "id": "g3M24oaMO81l",
    "outputId": "36a889a8-4fa2-40d3-e66c-606a0001a923"
   },
   "outputs": [
    {
     "name": "stdout",
     "output_type": "stream",
     "text": [
      "WARNING:tensorflow:From <ipython-input-24-c97e7e9936d6>:32: convert_variables_to_constants (from tensorflow.python.framework.graph_util_impl) is deprecated and will be removed in a future version.\n",
      "Instructions for updating:\n",
      "Use `tf.compat.v1.graph_util.convert_variables_to_constants`\n",
      "WARNING:tensorflow:From /tensorflow-1.15.2/python3.6/tensorflow_core/python/framework/graph_util_impl.py:277: extract_sub_graph (from tensorflow.python.framework.graph_util_impl) is deprecated and will be removed in a future version.\n",
      "Instructions for updating:\n",
      "Use `tf.compat.v1.graph_util.extract_sub_graph`\n",
      "INFO:tensorflow:Froze 211 variables.\n",
      "INFO:tensorflow:Converted 211 variables to const ops.\n"
     ]
    },
    {
     "data": {
      "text/plain": [
       "'/content/drive/My Drive/Colab Notebooks/Fer2013 Models/fer2013model.pb'"
      ]
     },
     "execution_count": 25,
     "metadata": {
      "tags": []
     },
     "output_type": "execute_result"
    }
   ],
   "source": [
    "# Save Keras model as Tensorflow pb file\n",
    "from keras import backend as K\n",
    "\n",
    "# Create, compile and train model...\n",
    "frozen_graph = freeze_session(K.get_session(),\n",
    "                              output_names=[out.op.name for out in model.outputs])\n",
    "\n",
    "tf.train.write_graph(frozen_graph, '/content/drive/My Drive/Colab Notebooks/Fer2013 Models/', 'fer2013model.pb', \n",
    "                     as_text=False)"
   ]
  }
 ],
 "metadata": {
  "accelerator": "GPU",
  "colab": {
   "collapsed_sections": [],
   "name": "A17_Reading_From_GDrive_Final.ipynb",
   "provenance": []
  },
  "kernelspec": {
   "display_name": "Python 3",
   "language": "python",
   "name": "python3"
  },
  "language_info": {
   "codemirror_mode": {
    "name": "ipython",
    "version": 3
   },
   "file_extension": ".py",
   "mimetype": "text/x-python",
   "name": "python",
   "nbconvert_exporter": "python",
   "pygments_lexer": "ipython3",
   "version": "3.7.7"
  },
  "varInspector": {
   "cols": {
    "lenName": 16,
    "lenType": 16,
    "lenVar": 40
   },
   "kernels_config": {
    "python": {
     "delete_cmd_postfix": "",
     "delete_cmd_prefix": "del ",
     "library": "var_list.py",
     "varRefreshCmd": "print(var_dic_list())"
    },
    "r": {
     "delete_cmd_postfix": ") ",
     "delete_cmd_prefix": "rm(",
     "library": "var_list.r",
     "varRefreshCmd": "cat(var_dic_list()) "
    }
   },
   "types_to_exclude": [
    "module",
    "function",
    "builtin_function_or_method",
    "instance",
    "_Feature"
   ],
   "window_display": false
  }
 },
 "nbformat": 4,
 "nbformat_minor": 1
}
